{
  "nbformat": 4,
  "nbformat_minor": 0,
  "metadata": {
    "colab": {
      "name": "임베딩 최종본.ipynb",
      "provenance": [],
      "toc_visible": true
    },
    "kernelspec": {
      "name": "python3",
      "display_name": "Python 3"
    },
    "accelerator": "GPU"
  },
  "cells": [
    {
      "cell_type": "code",
      "metadata": {
        "id": "afUq4VgC2xj3",
        "colab_type": "code",
        "collapsed": true,
        "colab": {}
      },
      "source": [
        "# !pip install konlpy"
      ],
      "execution_count": 0,
      "outputs": []
    },
    {
      "cell_type": "code",
      "metadata": {
        "id": "R8clLwLb9GEO",
        "colab_type": "code",
        "colab": {
          "base_uri": "https://localhost:8080/",
          "height": 82
        },
        "outputId": "16a3aaae-03e5-46c8-d0c0-986a445344a0"
      },
      "source": [
        "from keras.models import Model\n",
        "from keras.layers import Dense, Embedding, Input, LSTM, Bidirectional, GlobalMaxPool1D, Dropout\n",
        "from keras.preprocessing.text import Tokenizer\n",
        "from keras.preprocessing import sequence\n",
        "from keras.callbacks import EarlyStopping, ModelCheckpoint"
      ],
      "execution_count": 1,
      "outputs": [
        {
          "output_type": "stream",
          "text": [
            "Using TensorFlow backend.\n"
          ],
          "name": "stderr"
        },
        {
          "output_type": "display_data",
          "data": {
            "text/html": [
              "<p style=\"color: red;\">\n",
              "The default version of TensorFlow in Colab will soon switch to TensorFlow 2.x.<br>\n",
              "We recommend you <a href=\"https://www.tensorflow.org/guide/migrate\" target=\"_blank\">upgrade</a> now \n",
              "or ensure your notebook will continue to use TensorFlow 1.x via the <code>%tensorflow_version 1.x</code> magic:\n",
              "<a href=\"https://colab.research.google.com/notebooks/tensorflow_version.ipynb\" target=\"_blank\">more info</a>.</p>\n"
            ],
            "text/plain": [
              "<IPython.core.display.HTML object>"
            ]
          },
          "metadata": {
            "tags": []
          }
        }
      ]
    },
    {
      "cell_type": "code",
      "metadata": {
        "id": "sYvjf1T_3wsb",
        "colab_type": "code",
        "outputId": "55817c42-d473-4f7d-95c0-441c3a17e254",
        "colab": {
          "base_uri": "https://localhost:8080/",
          "height": 195
        }
      },
      "source": [
        "# from nltk.tokenize import sent_tokenize\n",
        "from collections import Counter\n",
        "import pandas as pd\n",
        "import re\n",
        "from konlpy.tag import Okt\n",
        "import pickle\n",
        "import matplotlib.pyplot as plt\n",
        "import numpy as np\n",
        "okt = Okt()"
      ],
      "execution_count": 2,
      "outputs": [
        {
          "output_type": "stream",
          "text": [
            "/usr/local/lib/python3.6/dist-packages/jpype/_core.py:210: UserWarning: \n",
            "-------------------------------------------------------------------------------\n",
            "Deprecated: convertStrings was not specified when starting the JVM. The default\n",
            "behavior in JPype will be False starting in JPype 0.8. The recommended setting\n",
            "for new code is convertStrings=False.  The legacy value of True was assumed for\n",
            "this session. If you are a user of an application that reported this warning,\n",
            "please file a ticket with the developer.\n",
            "-------------------------------------------------------------------------------\n",
            "\n",
            "  \"\"\")\n"
          ],
          "name": "stderr"
        }
      ]
    },
    {
      "cell_type": "markdown",
      "metadata": {
        "id": "gUwT8OCJyxYW",
        "colab_type": "text"
      },
      "source": [
        "# 데이터를 불러온다\n"
      ]
    },
    {
      "cell_type": "code",
      "metadata": {
        "id": "wk4fgqI730Ah",
        "colab_type": "code",
        "colab": {}
      },
      "source": [
        "book_data = pd.read_csv(\"/content/drive/My Drive/colab/BOOK_DATA/DATA/books_df.csv\", index_col=0)"
      ],
      "execution_count": 0,
      "outputs": []
    },
    {
      "cell_type": "code",
      "metadata": {
        "id": "CpU1JY-QPL9z",
        "colab_type": "code",
        "colab": {
          "base_uri": "https://localhost:8080/",
          "height": 194
        },
        "outputId": "b0701fd0-c38a-4ec2-be11-8677e12dda28"
      },
      "source": [
        "book_data.head(5)"
      ],
      "execution_count": 4,
      "outputs": [
        {
          "output_type": "execute_result",
          "data": {
            "text/html": [
              "<div>\n",
              "<style scoped>\n",
              "    .dataframe tbody tr th:only-of-type {\n",
              "        vertical-align: middle;\n",
              "    }\n",
              "\n",
              "    .dataframe tbody tr th {\n",
              "        vertical-align: top;\n",
              "    }\n",
              "\n",
              "    .dataframe thead th {\n",
              "        text-align: right;\n",
              "    }\n",
              "</style>\n",
              "<table border=\"1\" class=\"dataframe\">\n",
              "  <thead>\n",
              "    <tr style=\"text-align: right;\">\n",
              "      <th></th>\n",
              "      <th>제목</th>\n",
              "      <th>Text</th>\n",
              "      <th>레벨</th>\n",
              "      <th>점수</th>\n",
              "      <th>키워드</th>\n",
              "    </tr>\n",
              "  </thead>\n",
              "  <tbody>\n",
              "    <tr>\n",
              "      <th>0</th>\n",
              "      <td>가난한 사람들을 위한 의사 장기려</td>\n",
              "      <td>['날 저녁 부산 병원 원장 실 환자 명 노크 . 문 사람 병원 입원 창의 농부 ....</td>\n",
              "      <td>초등1</td>\n",
              "      <td>5</td>\n",
              "      <td>['의사', '연구', '생명', '가난', '사명감', '희생']</td>\n",
              "    </tr>\n",
              "    <tr>\n",
              "      <th>1</th>\n",
              "      <td>간서치 형제의 책 읽는 집</td>\n",
              "      <td>['김 서린 방 형 나이 아우 책상 책 . 소리 책 벽 한기 . 한기 기운 . 이 ...</td>\n",
              "      <td>초등4</td>\n",
              "      <td>5</td>\n",
              "      <td>['이덕무', '이공무', '독서', '가난', '서자']</td>\n",
              "    </tr>\n",
              "    <tr>\n",
              "      <th>2</th>\n",
              "      <td>강아지로 변한 날</td>\n",
              "      <td>['그 얘기 무슨 얘기 보름달 사람 개 개 사람 누가 앞 순영 정민 강아지 날 중이...</td>\n",
              "      <td>초등1</td>\n",
              "      <td>4</td>\n",
              "      <td>['습관', '바른말', '고운말', '비속어', '언어']</td>\n",
              "    </tr>\n",
              "    <tr>\n",
              "      <th>3</th>\n",
              "      <td>강치가 들려주는 우리 땅, 독도 이야기</td>\n",
              "      <td>['제 장강 치 사냥꾼 나카이 독도 강치 살육 바다 새색시 . 바람 점 불지 파도 ...</td>\n",
              "      <td>초등5</td>\n",
              "      <td>8</td>\n",
              "      <td>['독도', '일본', '역사', '자연', '지리', '보호']</td>\n",
              "    </tr>\n",
              "    <tr>\n",
              "      <th>4</th>\n",
              "      <td>개구쟁이 얼룩이</td>\n",
              "      <td>['민희 개 순돌이 새끼 세 마리 . 강아지 모두 엄마 품 젖 시작 . 민희 식구 ...</td>\n",
              "      <td>유치</td>\n",
              "      <td>2</td>\n",
              "      <td>['장난', '단점', '사랑', '이해심', '사랑']</td>\n",
              "    </tr>\n",
              "  </tbody>\n",
              "</table>\n",
              "</div>"
            ],
            "text/plain": [
              "                      제목  ...                                    키워드\n",
              "0     가난한 사람들을 위한 의사 장기려  ...  ['의사', '연구', '생명', '가난', '사명감', '희생']\n",
              "1         간서치 형제의 책 읽는 집  ...       ['이덕무', '이공무', '독서', '가난', '서자']\n",
              "2              강아지로 변한 날  ...      ['습관', '바른말', '고운말', '비속어', '언어']\n",
              "3  강치가 들려주는 우리 땅, 독도 이야기  ...   ['독도', '일본', '역사', '자연', '지리', '보호']\n",
              "4               개구쟁이 얼룩이  ...        ['장난', '단점', '사랑', '이해심', '사랑']\n",
              "\n",
              "[5 rows x 5 columns]"
            ]
          },
          "metadata": {
            "tags": []
          },
          "execution_count": 4
        }
      ]
    },
    {
      "cell_type": "markdown",
      "metadata": {
        "colab_type": "text",
        "id": "zpehcOGd4oIj"
      },
      "source": [
        "# 10진분류에서 정확도가 잘 나오지 않아 카테고리를 5개로 줄임"
      ]
    },
    {
      "cell_type": "code",
      "metadata": {
        "colab_type": "code",
        "id": "K0vSc9C14oIl",
        "colab": {}
      },
      "source": [
        "five_score = []\n",
        "for i in book_data['점수'].values:\n",
        "  if i < 3:\n",
        "    five_score.append(1)\n",
        "  elif i < 5:\n",
        "    five_score.append(2)\n",
        "  elif i < 7:\n",
        "    five_score.append(3)\n",
        "  elif i < 8:\n",
        "    five_score.append(4)\n",
        "  else:\n",
        "    five_score.append(5)"
      ],
      "execution_count": 0,
      "outputs": []
    },
    {
      "cell_type": "code",
      "metadata": {
        "colab_type": "code",
        "id": "WKtBES2F4u3D",
        "colab": {}
      },
      "source": [
        "book_data['점수'] = five_score # 5진분류"
      ],
      "execution_count": 0,
      "outputs": []
    },
    {
      "cell_type": "code",
      "metadata": {
        "colab_type": "code",
        "id": "T8507hqo4u3F",
        "colab": {}
      },
      "source": [
        "five_score = pd.get_dummies(book_data, columns=['점수'], prefix='점수') # 원핫 인코딩"
      ],
      "execution_count": 0,
      "outputs": []
    },
    {
      "cell_type": "code",
      "metadata": {
        "id": "-wUD0uzd45O2",
        "colab_type": "code",
        "colab": {}
      },
      "source": [
        "y_5 = five_score.iloc[:,4:] # 라벨값을 변수에 담음"
      ],
      "execution_count": 0,
      "outputs": []
    },
    {
      "cell_type": "markdown",
      "metadata": {
        "id": "ZPjH8LZ24-L7",
        "colab_type": "text"
      },
      "source": [
        "--------------------------"
      ]
    },
    {
      "cell_type": "code",
      "metadata": {
        "id": "txq2vBgb2YYr",
        "colab_type": "code",
        "colab": {}
      },
      "source": [
        "book_text = book_data['Text'] # 변수이름을 새로 받음\n",
        "\n",
        "#한국어 불용어사전\n",
        "stop_words = open(\"/content/drive/My Drive/colab/BOOK_DATA/DATA/korstopwords.txt\",encoding=\"utf-8\")\n",
        "stop_words = stop_words.readlines()\n",
        "stop_words = [line.rstrip() for line in stop_words]"
      ],
      "execution_count": 0,
      "outputs": []
    },
    {
      "cell_type": "code",
      "metadata": {
        "id": "4aU4aPt42-Nu",
        "colab_type": "code",
        "colab": {}
      },
      "source": [
        "# 텍스트의 형태 [단어, 단어, 단어] / 정확도가 더 높은 데이터의 형태\n",
        "def clean_text_word(data):\n",
        "  result = okt.nouns(data)\n",
        "  book_list = []\n",
        "  for i in result:\n",
        "    if len(i) > 1 and not i in stop_words:\n",
        "      book_list.append(i)\n",
        "  return book_list"
      ],
      "execution_count": 0,
      "outputs": []
    },
    {
      "cell_type": "code",
      "metadata": {
        "id": "0CRxUaIbkHvW",
        "colab_type": "code",
        "colab": {}
      },
      "source": [
        "book_text = book_text.apply(lambda x: x.split(\".\")) # .기준으로 문장을 나눠준다.\n",
        "\n",
        "# text의 형태 (\"단어 단어 단어, 단어 단어\")\n",
        "def clean_text(data):\n",
        "  result = []\n",
        "  for w in data:\n",
        "    result.append(okt.nouns(w))\n",
        "    book_list = []\n",
        "  for s in result:\n",
        "    list_full = []\n",
        "    for word in s:\n",
        "      if len(word) > 1 and not word in korwords:\n",
        "        list_full.append(word)\n",
        "    book_list.append(list_full)\n",
        "  return book_list\n",
        "\n",
        "def join_sentence(data):\n",
        "  result = []\n",
        "  for one_list in data:\n",
        "    if len(one_list) > 1:\n",
        "      result.append(\" \".join(one_list))\n",
        "  return result"
      ],
      "execution_count": 0,
      "outputs": []
    },
    {
      "cell_type": "code",
      "metadata": {
        "id": "ta-5Uw9Z24yW",
        "colab_type": "code",
        "colab": {},
        "collapsed": true
      },
      "source": [
        "book_text_wordtoken = book_text.apply(clean_text_word)"
      ],
      "execution_count": 0,
      "outputs": []
    },
    {
      "cell_type": "code",
      "metadata": {
        "id": "c57XYTXnkNgV",
        "colab_type": "code",
        "colab": {}
      },
      "source": [
        "#두번째의 함수를 이용한 전처리\n",
        "# book_text_v1 = book_text.apply(clean_text)\n",
        "# book_text_v1 = book_text_v1.apply(join_sentence)"
      ],
      "execution_count": 0,
      "outputs": []
    },
    {
      "cell_type": "code",
      "metadata": {
        "id": "x1D9HCKs5Ln-",
        "colab_type": "code",
        "colab": {},
        "collapsed": true
      },
      "source": [
        "train_length = book_text_wordtoken.apply(len)"
      ],
      "execution_count": 0,
      "outputs": []
    },
    {
      "cell_type": "code",
      "metadata": {
        "id": "48k0BS8q71hN",
        "colab_type": "code",
        "outputId": "65941c3d-304b-4f23-cca6-8ab22110740f",
        "colab": {
          "base_uri": "https://localhost:8080/",
          "height": 352
        }
      },
      "source": [
        "plt.figure(figsize = (12, 5))\n",
        "plt.hist(train_length, bins = 100, alpha = 0.5, color = 'r')\n",
        "plt.xlabel('sentence length')\n",
        "plt.ylabel('')\n",
        "plt.show"
      ],
      "execution_count": 13,
      "outputs": [
        {
          "output_type": "execute_result",
          "data": {
            "text/plain": [
              "<function matplotlib.pyplot.show>"
            ]
          },
          "metadata": {
            "tags": []
          },
          "execution_count": 13
        },
        {
          "output_type": "display_data",
          "data": {
            "image/png": "[encoded data removed]",
            "text/plain": [
              "<Figure size 864x360 with 1 Axes>"
            ]
          },
          "metadata": {
            "tags": []
          }
        }
      ]
    },
    {
      "cell_type": "code",
      "metadata": {
        "id": "LbrNf54G8eB5",
        "colab_type": "code",
        "outputId": "2ed929f4-78d2-4b80-8ab6-2094cb80360b",
        "colab": {
          "base_uri": "https://localhost:8080/",
          "height": 124
        }
      },
      "source": [
        "print('max length :', np.max(train_length))\n",
        "print('min length :', np.min(train_length))\n",
        "print('mean length :', np.mean(train_length))\n",
        "print('50 % percentile :', np.percentile(train_length, 50))\n",
        "print('85 % percentile :', np.percentile(train_length, 85))\n",
        "print('std length :', np.std(train_length))"
      ],
      "execution_count": 14,
      "outputs": [
        {
          "output_type": "stream",
          "text": [
            "max length : 26386\n",
            "min length : 21\n",
            "mean length : 3963.7312252964425\n",
            "50 % percentile : 2520.0\n",
            "85 % percentile : 8032.5999999999985\n",
            "std length : 4036.726389485722\n"
          ],
          "name": "stdout"
        }
      ]
    },
    {
      "cell_type": "code",
      "metadata": {
        "id": "YcV4ifJR5U3e",
        "colab_type": "code",
        "colab": {}
      },
      "source": [
        "X = book_text_wordtoken\n",
        "y = book_data['점수'].values"
      ],
      "execution_count": 0,
      "outputs": []
    },
    {
      "cell_type": "code",
      "metadata": {
        "id": "NxvsSXWe_0Xq",
        "colab_type": "code",
        "colab": {}
      },
      "source": [
        "num_words = 30000\n",
        "max_len = 3500\n",
        "emb_size = 128"
      ],
      "execution_count": 0,
      "outputs": []
    },
    {
      "cell_type": "code",
      "metadata": {
        "id": "B29vQ4uM8_kf",
        "colab_type": "code",
        "colab": {}
      },
      "source": [
        "tok = Tokenizer(num_words = num_words)\n",
        "tok.fit_on_texts(list(X))"
      ],
      "execution_count": 0,
      "outputs": []
    },
    {
      "cell_type": "code",
      "metadata": {
        "id": "9JAECyHE9Bgf",
        "colab_type": "code",
        "colab": {}
      },
      "source": [
        "X = tok.texts_to_sequences(X)"
      ],
      "execution_count": 0,
      "outputs": []
    },
    {
      "cell_type": "code",
      "metadata": {
        "id": "TyUf6YKB9L61",
        "colab_type": "code",
        "colab": {}
      },
      "source": [
        "X = sequence.pad_sequences(X, maxlen = max_len, padding='post')\n",
        "# X_test = sequence.pad_sequences(test, maxlen = max_len, padding = 'post')"
      ],
      "execution_count": 0,
      "outputs": []
    },
    {
      "cell_type": "code",
      "metadata": {
        "id": "L47RRPve9MlC",
        "colab_type": "code",
        "colab": {
          "base_uri": "https://localhost:8080/",
          "height": 304
        },
        "outputId": "da6af318-eeb7-4ac0-e93c-cc024fc911e9"
      },
      "source": [
        "inp = Input(shape=(max_len, )) #maxlen=200 as defined earlier\n",
        "x = Embedding(num_words, emb_size)(inp)\n",
        "x = LSTM(60, return_sequences=True,name='lstm_layer')(x)\n",
        "x = GlobalMaxPool1D()(x)\n",
        "x = Dropout(0.1)(x)\n",
        "x = Dense(50, activation=\"relu\")(x)\n",
        "x = Dropout(0.1)(x)\n",
        "x = Dense(5, activation=\"softmax\")(x)\n",
        "model = Model(inputs=inp, outputs=x)\n",
        "model.compile(loss='categorical_crossentropy',\n",
        "                  optimizer='adam',\n",
        "                  metrics=['accuracy'])"
      ],
      "execution_count": 24,
      "outputs": [
        {
          "output_type": "stream",
          "text": [
            "WARNING:tensorflow:From /usr/local/lib/python3.6/dist-packages/keras/backend/tensorflow_backend.py:66: The name tf.get_default_graph is deprecated. Please use tf.compat.v1.get_default_graph instead.\n",
            "\n",
            "WARNING:tensorflow:From /usr/local/lib/python3.6/dist-packages/keras/backend/tensorflow_backend.py:541: The name tf.placeholder is deprecated. Please use tf.compat.v1.placeholder instead.\n",
            "\n",
            "WARNING:tensorflow:From /usr/local/lib/python3.6/dist-packages/keras/backend/tensorflow_backend.py:4432: The name tf.random_uniform is deprecated. Please use tf.random.uniform instead.\n",
            "\n",
            "WARNING:tensorflow:From /usr/local/lib/python3.6/dist-packages/keras/backend/tensorflow_backend.py:148: The name tf.placeholder_with_default is deprecated. Please use tf.compat.v1.placeholder_with_default instead.\n",
            "\n",
            "WARNING:tensorflow:From /usr/local/lib/python3.6/dist-packages/keras/backend/tensorflow_backend.py:3733: calling dropout (from tensorflow.python.ops.nn_ops) with keep_prob is deprecated and will be removed in a future version.\n",
            "Instructions for updating:\n",
            "Please use `rate` instead of `keep_prob`. Rate should be set to `rate = 1 - keep_prob`.\n",
            "WARNING:tensorflow:From /usr/local/lib/python3.6/dist-packages/keras/optimizers.py:793: The name tf.train.Optimizer is deprecated. Please use tf.compat.v1.train.Optimizer instead.\n",
            "\n",
            "WARNING:tensorflow:From /usr/local/lib/python3.6/dist-packages/keras/backend/tensorflow_backend.py:3576: The name tf.log is deprecated. Please use tf.math.log instead.\n",
            "\n"
          ],
          "name": "stdout"
        }
      ]
    },
    {
      "cell_type": "code",
      "metadata": {
        "id": "v3XyHPmp9pkO",
        "colab_type": "code",
        "colab": {}
      },
      "source": [
        "file_path = 'save_best'\n",
        "checkpoint = ModelCheckpoint(file_path, monitor = 'val_loss', verbose = 1, save_best_only=True)\n",
        "early_stop = EarlyStopping(monitor = 'val_loss', patience = 30)"
      ],
      "execution_count": 0,
      "outputs": []
    },
    {
      "cell_type": "code",
      "metadata": {
        "id": "5vrFuNwpIug3",
        "colab_type": "code",
        "outputId": "f3ac9ae3-ea59-481a-a1bf-7032b0f86ac9",
        "colab": {
          "base_uri": "https://localhost:8080/",
          "height": 1000
        }
      },
      "source": [
        "batch_size = 32\n",
        "epochs = 100\n",
        "model.fit(X,y_5, batch_size=batch_size, epochs=epochs, validation_split=0.1, callbacks=[early_stop])"
      ],
      "execution_count": 29,
      "outputs": [
        {
          "output_type": "stream",
          "text": [
            "WARNING:tensorflow:From /usr/local/lib/python3.6/dist-packages/tensorflow_core/python/ops/math_grad.py:1424: where (from tensorflow.python.ops.array_ops) is deprecated and will be removed in a future version.\n",
            "Instructions for updating:\n",
            "Use tf.where in 2.0, which has the same broadcast rule as np.where\n",
            "WARNING:tensorflow:From /usr/local/lib/python3.6/dist-packages/keras/backend/tensorflow_backend.py:1033: The name tf.assign_add is deprecated. Please use tf.compat.v1.assign_add instead.\n",
            "\n",
            "WARNING:tensorflow:From /usr/local/lib/python3.6/dist-packages/keras/backend/tensorflow_backend.py:1020: The name tf.assign is deprecated. Please use tf.compat.v1.assign instead.\n",
            "\n",
            "WARNING:tensorflow:From /usr/local/lib/python3.6/dist-packages/keras/backend/tensorflow_backend.py:3005: The name tf.Session is deprecated. Please use tf.compat.v1.Session instead.\n",
            "\n",
            "Train on 227 samples, validate on 26 samples\n",
            "Epoch 1/100\n",
            "WARNING:tensorflow:From /usr/local/lib/python3.6/dist-packages/keras/backend/tensorflow_backend.py:190: The name tf.get_default_session is deprecated. Please use tf.compat.v1.get_default_session instead.\n",
            "\n",
            "WARNING:tensorflow:From /usr/local/lib/python3.6/dist-packages/keras/backend/tensorflow_backend.py:197: The name tf.ConfigProto is deprecated. Please use tf.compat.v1.ConfigProto instead.\n",
            "\n",
            "WARNING:tensorflow:From /usr/local/lib/python3.6/dist-packages/keras/backend/tensorflow_backend.py:207: The name tf.global_variables is deprecated. Please use tf.compat.v1.global_variables instead.\n",
            "\n",
            "WARNING:tensorflow:From /usr/local/lib/python3.6/dist-packages/keras/backend/tensorflow_backend.py:216: The name tf.is_variable_initialized is deprecated. Please use tf.compat.v1.is_variable_initialized instead.\n",
            "\n",
            "WARNING:tensorflow:From /usr/local/lib/python3.6/dist-packages/keras/backend/tensorflow_backend.py:223: The name tf.variables_initializer is deprecated. Please use tf.compat.v1.variables_initializer instead.\n",
            "\n",
            "227/227 [==============================] - 61s 267ms/step - loss: 1.6075 - acc: 0.2159 - val_loss: 1.6082 - val_acc: 0.1923\n",
            "Epoch 2/100\n",
            "227/227 [==============================] - 59s 258ms/step - loss: 1.5945 - acc: 0.4537 - val_loss: 1.6013 - val_acc: 0.1538\n",
            "Epoch 3/100\n",
            "227/227 [==============================] - 59s 258ms/step - loss: 1.5788 - acc: 0.5463 - val_loss: 1.5915 - val_acc: 0.1538\n",
            "Epoch 4/100\n",
            "227/227 [==============================] - 58s 257ms/step - loss: 1.5547 - acc: 0.5419 - val_loss: 1.5783 - val_acc: 0.1923\n",
            "Epoch 5/100\n",
            "227/227 [==============================] - 58s 256ms/step - loss: 1.5186 - acc: 0.5242 - val_loss: 1.5425 - val_acc: 0.1923\n",
            "Epoch 6/100\n",
            "227/227 [==============================] - 59s 259ms/step - loss: 1.4653 - acc: 0.5727 - val_loss: 1.4934 - val_acc: 0.5769\n",
            "Epoch 7/100\n",
            "227/227 [==============================] - 59s 260ms/step - loss: 1.3901 - acc: 0.5903 - val_loss: 1.4442 - val_acc: 0.3077\n",
            "Epoch 8/100\n",
            "227/227 [==============================] - 58s 258ms/step - loss: 1.2938 - acc: 0.5903 - val_loss: 1.4428 - val_acc: 0.5769\n",
            "Epoch 9/100\n",
            "227/227 [==============================] - 59s 259ms/step - loss: 1.1716 - acc: 0.5507 - val_loss: 1.2709 - val_acc: 0.2308\n",
            "Epoch 10/100\n",
            "227/227 [==============================] - 58s 257ms/step - loss: 1.0443 - acc: 0.5903 - val_loss: 1.2241 - val_acc: 0.5385\n",
            "Epoch 11/100\n",
            "227/227 [==============================] - 59s 262ms/step - loss: 0.9338 - acc: 0.7004 - val_loss: 1.2533 - val_acc: 0.5769\n",
            "Epoch 12/100\n",
            "227/227 [==============================] - 59s 261ms/step - loss: 0.8660 - acc: 0.7093 - val_loss: 1.2446 - val_acc: 0.1923\n",
            "Epoch 13/100\n",
            "227/227 [==============================] - 59s 258ms/step - loss: 0.7770 - acc: 0.8634 - val_loss: 1.0271 - val_acc: 0.6538\n",
            "Epoch 14/100\n",
            "227/227 [==============================] - 58s 257ms/step - loss: 0.6651 - acc: 0.8502 - val_loss: 1.0283 - val_acc: 0.5769\n",
            "Epoch 15/100\n",
            "227/227 [==============================] - 58s 256ms/step - loss: 0.4890 - acc: 0.9207 - val_loss: 0.9354 - val_acc: 0.5769\n",
            "Epoch 16/100\n",
            "227/227 [==============================] - 58s 255ms/step - loss: 0.3573 - acc: 0.9427 - val_loss: 0.8132 - val_acc: 0.6154\n",
            "Epoch 17/100\n",
            "227/227 [==============================] - 59s 261ms/step - loss: 0.3022 - acc: 0.9471 - val_loss: 1.2887 - val_acc: 0.3077\n",
            "Epoch 18/100\n",
            "227/227 [==============================] - 58s 254ms/step - loss: 0.2344 - acc: 0.9692 - val_loss: 0.7194 - val_acc: 0.6923\n",
            "Epoch 19/100\n",
            "227/227 [==============================] - 57s 252ms/step - loss: 0.1822 - acc: 0.9736 - val_loss: 1.1455 - val_acc: 0.4231\n",
            "Epoch 20/100\n",
            "227/227 [==============================] - 57s 251ms/step - loss: 0.1451 - acc: 0.9824 - val_loss: 0.7661 - val_acc: 0.6538\n",
            "Epoch 21/100\n",
            "227/227 [==============================] - 57s 252ms/step - loss: 0.1061 - acc: 0.9912 - val_loss: 0.7727 - val_acc: 0.6154\n",
            "Epoch 22/100\n",
            "227/227 [==============================] - 58s 255ms/step - loss: 0.0802 - acc: 0.9868 - val_loss: 0.8166 - val_acc: 0.6923\n",
            "Epoch 23/100\n",
            "227/227 [==============================] - 58s 255ms/step - loss: 0.1013 - acc: 0.9824 - val_loss: 0.7725 - val_acc: 0.6538\n",
            "Epoch 24/100\n",
            "227/227 [==============================] - 57s 252ms/step - loss: 0.0790 - acc: 0.9912 - val_loss: 0.7144 - val_acc: 0.6923\n",
            "Epoch 25/100\n",
            "227/227 [==============================] - 58s 254ms/step - loss: 0.0548 - acc: 0.9956 - val_loss: 0.8380 - val_acc: 0.6154\n",
            "Epoch 26/100\n",
            "227/227 [==============================] - 57s 252ms/step - loss: 0.0498 - acc: 0.9912 - val_loss: 0.8701 - val_acc: 0.6154\n",
            "Epoch 27/100\n",
            "227/227 [==============================] - 57s 252ms/step - loss: 0.0413 - acc: 1.0000 - val_loss: 1.0007 - val_acc: 0.5769\n",
            "Epoch 28/100\n",
            "227/227 [==============================] - 58s 254ms/step - loss: 0.0388 - acc: 1.0000 - val_loss: 1.0279 - val_acc: 0.6538\n",
            "Epoch 29/100\n",
            "227/227 [==============================] - 57s 251ms/step - loss: 0.0384 - acc: 0.9912 - val_loss: 0.9703 - val_acc: 0.5769\n",
            "Epoch 30/100\n",
            "227/227 [==============================] - 57s 252ms/step - loss: 0.0289 - acc: 1.0000 - val_loss: 0.8876 - val_acc: 0.6923\n",
            "Epoch 31/100\n",
            "227/227 [==============================] - 57s 251ms/step - loss: 0.0258 - acc: 1.0000 - val_loss: 0.8618 - val_acc: 0.5769\n",
            "Epoch 32/100\n",
            "227/227 [==============================] - 57s 251ms/step - loss: 0.0184 - acc: 1.0000 - val_loss: 1.0343 - val_acc: 0.5769\n",
            "Epoch 33/100\n",
            "227/227 [==============================] - 59s 258ms/step - loss: 0.0203 - acc: 1.0000 - val_loss: 1.0543 - val_acc: 0.5769\n",
            "Epoch 34/100\n",
            "227/227 [==============================] - 57s 251ms/step - loss: 0.0178 - acc: 1.0000 - val_loss: 0.9317 - val_acc: 0.5769\n",
            "Epoch 35/100\n",
            "227/227 [==============================] - 57s 251ms/step - loss: 0.0215 - acc: 1.0000 - val_loss: 0.9405 - val_acc: 0.5769\n",
            "Epoch 36/100\n",
            "227/227 [==============================] - 57s 251ms/step - loss: 0.0229 - acc: 1.0000 - val_loss: 1.0154 - val_acc: 0.5769\n",
            "Epoch 37/100\n",
            "227/227 [==============================] - 57s 251ms/step - loss: 0.0181 - acc: 1.0000 - val_loss: 1.0271 - val_acc: 0.5769\n",
            "Epoch 38/100\n",
            "227/227 [==============================] - 58s 254ms/step - loss: 0.0186 - acc: 0.9956 - val_loss: 1.0901 - val_acc: 0.5769\n",
            "Epoch 39/100\n",
            "227/227 [==============================] - 57s 253ms/step - loss: 0.0147 - acc: 1.0000 - val_loss: 1.1093 - val_acc: 0.6154\n",
            "Epoch 40/100\n",
            "227/227 [==============================] - 57s 251ms/step - loss: 0.0213 - acc: 0.9956 - val_loss: 1.1347 - val_acc: 0.6154\n",
            "Epoch 41/100\n",
            "227/227 [==============================] - 57s 252ms/step - loss: 0.0109 - acc: 1.0000 - val_loss: 0.9814 - val_acc: 0.6154\n",
            "Epoch 42/100\n",
            "227/227 [==============================] - 57s 253ms/step - loss: 0.0110 - acc: 1.0000 - val_loss: 0.9847 - val_acc: 0.6154\n",
            "Epoch 43/100\n",
            "227/227 [==============================] - 57s 252ms/step - loss: 0.0146 - acc: 1.0000 - val_loss: 1.0739 - val_acc: 0.5769\n",
            "Epoch 44/100\n",
            "227/227 [==============================] - 58s 257ms/step - loss: 0.0089 - acc: 1.0000 - val_loss: 1.1753 - val_acc: 0.6154\n",
            "Epoch 45/100\n",
            "227/227 [==============================] - 57s 251ms/step - loss: 0.0112 - acc: 1.0000 - val_loss: 1.1104 - val_acc: 0.6154\n",
            "Epoch 46/100\n",
            "227/227 [==============================] - 57s 251ms/step - loss: 0.0104 - acc: 1.0000 - val_loss: 0.9671 - val_acc: 0.6538\n",
            "Epoch 47/100\n",
            "227/227 [==============================] - 57s 251ms/step - loss: 0.0089 - acc: 1.0000 - val_loss: 0.9436 - val_acc: 0.6154\n",
            "Epoch 48/100\n",
            "227/227 [==============================] - 57s 252ms/step - loss: 0.0111 - acc: 1.0000 - val_loss: 0.9852 - val_acc: 0.5769\n",
            "Epoch 49/100\n",
            "227/227 [==============================] - 58s 255ms/step - loss: 0.0076 - acc: 1.0000 - val_loss: 1.0412 - val_acc: 0.5769\n",
            "Epoch 50/100\n",
            "227/227 [==============================] - 57s 251ms/step - loss: 0.0090 - acc: 1.0000 - val_loss: 1.1074 - val_acc: 0.6154\n",
            "Epoch 51/100\n",
            "227/227 [==============================] - 57s 252ms/step - loss: 0.0148 - acc: 0.9956 - val_loss: 1.2744 - val_acc: 0.5769\n",
            "Epoch 52/100\n",
            "227/227 [==============================] - 57s 250ms/step - loss: 0.0087 - acc: 1.0000 - val_loss: 1.2078 - val_acc: 0.5769\n",
            "Epoch 53/100\n",
            "227/227 [==============================] - 57s 252ms/step - loss: 0.0140 - acc: 1.0000 - val_loss: 1.0375 - val_acc: 0.6154\n",
            "Epoch 54/100\n",
            "227/227 [==============================] - 57s 251ms/step - loss: 0.0056 - acc: 1.0000 - val_loss: 1.1319 - val_acc: 0.5769\n"
          ],
          "name": "stdout"
        },
        {
          "output_type": "execute_result",
          "data": {
            "text/plain": [
              "<keras.callbacks.History at 0x7f3065823908>"
            ]
          },
          "metadata": {
            "tags": []
          },
          "execution_count": 29
        }
      ]
    },
    {
      "cell_type": "code",
      "metadata": {
        "id": "y0RVDYPV7VrZ",
        "colab_type": "code",
        "colab": {}
      },
      "source": [
        "batch_size = 32\n",
        "epochs = 100\n",
        "model.fit(X,y_5, batch_size=batch_size, epochs=epochs, validation_split=0.1)"
      ],
      "execution_count": 0,
      "outputs": []
    },
    {
      "cell_type": "code",
      "metadata": {
        "id": "ttfCGai0GP78",
        "colab_type": "code",
        "colab": {}
      },
      "source": [
        ""
      ],
      "execution_count": 0,
      "outputs": []
    }
  ]
}