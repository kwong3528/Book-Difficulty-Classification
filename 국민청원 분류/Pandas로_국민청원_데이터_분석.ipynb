{
  "nbformat": 4,
  "nbformat_minor": 0,
  "metadata": {
    "colab": {
      "name": "Pandas로 국민청원 데이터 분석.ipynb",
      "provenance": [],
      "collapsed_sections": []
    },
    "kernelspec": {
      "name": "python3",
      "display_name": "Python 3"
    },
    "accelerator": "GPU"
  },
  "cells": [
    {
      "cell_type": "code",
      "metadata": {
        "id": "TkqsGKLkXV1D",
        "colab_type": "code",
        "colab": {}
      },
      "source": [
        "import numpy as np\n",
        "import pandas as pd"
      ],
      "execution_count": 0,
      "outputs": []
    },
    {
      "cell_type": "code",
      "metadata": {
        "id": "pzCxal18YHSF",
        "colab_type": "code",
        "colab": {}
      },
      "source": [
        "df = pd.read_csv(\"/content/drive/My Drive/colab/국민청원 데이터 분석/DATA/petition.csv\", parse_dates=['start', 'end'])"
      ],
      "execution_count": 0,
      "outputs": []
    },
    {
      "cell_type": "markdown",
      "metadata": {
        "id": "qKzE1nGZY2Ci",
        "colab_type": "text"
      },
      "source": [
        "# 읽어온 데이터의 행과 열"
      ]
    },
    {
      "cell_type": "code",
      "metadata": {
        "id": "kugBnmMFYfcR",
        "colab_type": "code",
        "outputId": "4d555f2e-14ee-49f7-eeb7-ee750fa63265",
        "colab": {
          "base_uri": "https://localhost:8080/",
          "height": 35
        }
      },
      "source": [
        "df.shape"
      ],
      "execution_count": 0,
      "outputs": [
        {
          "output_type": "execute_result",
          "data": {
            "text/plain": [
              "(395547, 8)"
            ]
          },
          "metadata": {
            "tags": []
          },
          "execution_count": 5
        }
      ]
    },
    {
      "cell_type": "markdown",
      "metadata": {
        "id": "i_p1C3LnZF0_",
        "colab_type": "text"
      },
      "source": [
        "# 일부 데이터 미리 보기"
      ]
    },
    {
      "cell_type": "code",
      "metadata": {
        "id": "1ERgDd_pYzcX",
        "colab_type": "code",
        "collapsed": true,
        "outputId": "0d38a78c-f67e-4cc5-ea09-aeefbd6bcc56",
        "colab": {
          "base_uri": "https://localhost:8080/",
          "height": 447
        }
      },
      "source": [
        "df.head()\n",
        "df.tail()"
      ],
      "execution_count": 0,
      "outputs": [
        {
          "output_type": "execute_result",
          "data": {
            "text/html": [
              "<div>\n",
              "<style scoped>\n",
              "    .dataframe tbody tr th:only-of-type {\n",
              "        vertical-align: middle;\n",
              "    }\n",
              "\n",
              "    .dataframe tbody tr th {\n",
              "        vertical-align: top;\n",
              "    }\n",
              "\n",
              "    .dataframe thead th {\n",
              "        text-align: right;\n",
              "    }\n",
              "</style>\n",
              "<table border=\"1\" class=\"dataframe\">\n",
              "  <thead>\n",
              "    <tr style=\"text-align: right;\">\n",
              "      <th></th>\n",
              "      <th>article_id</th>\n",
              "      <th>start</th>\n",
              "      <th>end</th>\n",
              "      <th>answered</th>\n",
              "      <th>votes</th>\n",
              "      <th>category</th>\n",
              "      <th>title</th>\n",
              "      <th>content</th>\n",
              "    </tr>\n",
              "  </thead>\n",
              "  <tbody>\n",
              "    <tr>\n",
              "      <th>395542</th>\n",
              "      <td>517117</td>\n",
              "      <td>2019-02-04</td>\n",
              "      <td>2019-03-06</td>\n",
              "      <td>0</td>\n",
              "      <td>3</td>\n",
              "      <td>보건복지</td>\n",
              "      <td>명절연휴 고속도로 무료반대</td>\n",
              "      <td>명절고속도로 무료보단 대다수의 서민들이 이용하는 대중교통 무료와 명절기간 증차로 했...</td>\n",
              "    </tr>\n",
              "    <tr>\n",
              "      <th>395543</th>\n",
              "      <td>517119</td>\n",
              "      <td>2019-02-04</td>\n",
              "      <td>2019-03-06</td>\n",
              "      <td>0</td>\n",
              "      <td>23</td>\n",
              "      <td>보건복지</td>\n",
              "      <td>광주사태 가짜 유공자들 정수기로 걸려내야함</td>\n",
              "      <td>광주사태 유공자들 차고 넘치는데 이래 많은 유공자들 그냥놓아두면 재앙이다.\\n김대중...</td>\n",
              "    </tr>\n",
              "    <tr>\n",
              "      <th>395544</th>\n",
              "      <td>517120</td>\n",
              "      <td>2019-02-04</td>\n",
              "      <td>2019-03-06</td>\n",
              "      <td>0</td>\n",
              "      <td>0</td>\n",
              "      <td>안전/환경</td>\n",
              "      <td>환경문제</td>\n",
              "      <td>명절이면 후로 제일문제는 쓰레기 문제 입니다.\\n제일문제는 선물세트와 농산물세트 입...</td>\n",
              "    </tr>\n",
              "    <tr>\n",
              "      <th>395545</th>\n",
              "      <td>517121</td>\n",
              "      <td>2019-02-04</td>\n",
              "      <td>2019-03-06</td>\n",
              "      <td>0</td>\n",
              "      <td>20</td>\n",
              "      <td>정치개혁</td>\n",
              "      <td>청화대,더불어민주당, 당장 답하라,,,,,,</td>\n",
              "      <td>좌파 더불어민주당, 좌파 정권 청화대는 선한 국민들을 더는 기망하지 말고 담장 답하...</td>\n",
              "    </tr>\n",
              "    <tr>\n",
              "      <th>395546</th>\n",
              "      <td>517122</td>\n",
              "      <td>2019-02-04</td>\n",
              "      <td>2019-03-06</td>\n",
              "      <td>0</td>\n",
              "      <td>16</td>\n",
              "      <td>인권/성평등</td>\n",
              "      <td>여성부 폐지</td>\n",
              "      <td>국민들이 원합니다\\n폐지 좀 시키세요;</td>\n",
              "    </tr>\n",
              "  </tbody>\n",
              "</table>\n",
              "</div>"
            ],
            "text/plain": [
              "        article_id  ...                                            content\n",
              "395542      517117  ...  명절고속도로 무료보단 대다수의 서민들이 이용하는 대중교통 무료와 명절기간 증차로 했...\n",
              "395543      517119  ...  광주사태 유공자들 차고 넘치는데 이래 많은 유공자들 그냥놓아두면 재앙이다.\\n김대중...\n",
              "395544      517120  ...  명절이면 후로 제일문제는 쓰레기 문제 입니다.\\n제일문제는 선물세트와 농산물세트 입...\n",
              "395545      517121  ...  좌파 더불어민주당, 좌파 정권 청화대는 선한 국민들을 더는 기망하지 말고 담장 답하...\n",
              "395546      517122  ...                              국민들이 원합니다\\n폐지 좀 시키세요;\n",
              "\n",
              "[5 rows x 8 columns]"
            ]
          },
          "metadata": {
            "tags": []
          },
          "execution_count": 7
        }
      ]
    },
    {
      "cell_type": "markdown",
      "metadata": {
        "id": "9DD09koRZNNd",
        "colab_type": "text"
      },
      "source": [
        "# 결측치가 있는지 확인"
      ]
    },
    {
      "cell_type": "code",
      "metadata": {
        "id": "5BjD6VSuY9V8",
        "colab_type": "code",
        "outputId": "e38b372a-a7d8-40d9-8b7c-b890c1287baf",
        "colab": {
          "base_uri": "https://localhost:8080/",
          "height": 177
        }
      },
      "source": [
        "df.isnull().sum()"
      ],
      "execution_count": 0,
      "outputs": [
        {
          "output_type": "execute_result",
          "data": {
            "text/plain": [
              "article_id    0\n",
              "start         0\n",
              "end           0\n",
              "answered      0\n",
              "votes         0\n",
              "category      0\n",
              "title         0\n",
              "content       1\n",
              "dtype: int64"
            ]
          },
          "metadata": {
            "tags": []
          },
          "execution_count": 8
        }
      ]
    },
    {
      "cell_type": "markdown",
      "metadata": {
        "id": "vwb64xzPZyI_",
        "colab_type": "text"
      },
      "source": [
        "# 데이터 요약하기"
      ]
    },
    {
      "cell_type": "code",
      "metadata": {
        "id": "yeN1SmYAZLKn",
        "colab_type": "code",
        "outputId": "4d83b15c-0efc-4a49-918b-a4e1176407b9",
        "colab": {
          "base_uri": "https://localhost:8080/",
          "height": 248
        }
      },
      "source": [
        "df.info() # 어떤 컬럼이 있고 어떤 타입인지 알 수 있다."
      ],
      "execution_count": 0,
      "outputs": [
        {
          "output_type": "stream",
          "text": [
            "<class 'pandas.core.frame.DataFrame'>\n",
            "RangeIndex: 395547 entries, 0 to 395546\n",
            "Data columns (total 8 columns):\n",
            "article_id    395547 non-null int64\n",
            "start         395547 non-null object\n",
            "end           395547 non-null object\n",
            "answered      395547 non-null int64\n",
            "votes         395547 non-null int64\n",
            "category      395547 non-null object\n",
            "title         395547 non-null object\n",
            "content       395546 non-null object\n",
            "dtypes: int64(3), object(5)\n",
            "memory usage: 24.1+ MB\n"
          ],
          "name": "stdout"
        }
      ]
    },
    {
      "cell_type": "code",
      "metadata": {
        "id": "FifRjsHpZQ74",
        "colab_type": "code",
        "outputId": "d5b813c7-9ca5-4cac-91a4-b54f4acce678",
        "colab": {
          "base_uri": "https://localhost:8080/",
          "height": 177
        }
      },
      "source": [
        "df.dtypes # 데이터 타입만 따로 확인 가능\n",
        "df.columns # 컬럼명만 따로 확인 가능\n",
        "df.describe() # 수치형 데이터에 대한 요약을 봅니다."
      ],
      "execution_count": 0,
      "outputs": [
        {
          "output_type": "execute_result",
          "data": {
            "text/plain": [
              "article_id     int64\n",
              "start         object\n",
              "end           object\n",
              "answered       int64\n",
              "votes          int64\n",
              "category      object\n",
              "title         object\n",
              "content       object\n",
              "dtype: object"
            ]
          },
          "metadata": {
            "tags": []
          },
          "execution_count": 14
        }
      ]
    },
    {
      "cell_type": "code",
      "metadata": {
        "id": "XcFGLRk4Z4To",
        "colab_type": "code",
        "outputId": "d013aacd-6706-48ad-e90b-8600ec1c2820",
        "colab": {
          "base_uri": "https://localhost:8080/",
          "height": 164
        }
      },
      "source": [
        "df.describe(include=np.object) # 카테고리(object) 형태의 데이터에 대한 요약을 봅니다."
      ],
      "execution_count": 0,
      "outputs": [
        {
          "output_type": "execute_result",
          "data": {
            "text/html": [
              "<div>\n",
              "<style scoped>\n",
              "    .dataframe tbody tr th:only-of-type {\n",
              "        vertical-align: middle;\n",
              "    }\n",
              "\n",
              "    .dataframe tbody tr th {\n",
              "        vertical-align: top;\n",
              "    }\n",
              "\n",
              "    .dataframe thead th {\n",
              "        text-align: right;\n",
              "    }\n",
              "</style>\n",
              "<table border=\"1\" class=\"dataframe\">\n",
              "  <thead>\n",
              "    <tr style=\"text-align: right;\">\n",
              "      <th></th>\n",
              "      <th>start</th>\n",
              "      <th>end</th>\n",
              "      <th>category</th>\n",
              "      <th>title</th>\n",
              "      <th>content</th>\n",
              "    </tr>\n",
              "  </thead>\n",
              "  <tbody>\n",
              "    <tr>\n",
              "      <th>count</th>\n",
              "      <td>395547</td>\n",
              "      <td>395547</td>\n",
              "      <td>395547</td>\n",
              "      <td>395547</td>\n",
              "      <td>395546</td>\n",
              "    </tr>\n",
              "    <tr>\n",
              "      <th>unique</th>\n",
              "      <td>535</td>\n",
              "      <td>558</td>\n",
              "      <td>17</td>\n",
              "      <td>346524</td>\n",
              "      <td>375224</td>\n",
              "    </tr>\n",
              "    <tr>\n",
              "      <th>top</th>\n",
              "      <td>2017-11-11</td>\n",
              "      <td>2017-12-11</td>\n",
              "      <td>정치개혁</td>\n",
              "      <td>이명박 출국금지</td>\n",
              "      <td>이명박 출국금지</td>\n",
              "    </tr>\n",
              "    <tr>\n",
              "      <th>freq</th>\n",
              "      <td>9623</td>\n",
              "      <td>9701</td>\n",
              "      <td>62750</td>\n",
              "      <td>3018</td>\n",
              "      <td>597</td>\n",
              "    </tr>\n",
              "  </tbody>\n",
              "</table>\n",
              "</div>"
            ],
            "text/plain": [
              "             start         end category     title   content\n",
              "count       395547      395547   395547    395547    395546\n",
              "unique         535         558       17    346524    375224\n",
              "top     2017-11-11  2017-12-11     정치개혁  이명박 출국금지  이명박 출국금지\n",
              "freq          9623        9701    62750      3018       597"
            ]
          },
          "metadata": {
            "tags": []
          },
          "execution_count": 15
        }
      ]
    },
    {
      "cell_type": "markdown",
      "metadata": {
        "id": "cQLd6JZ0aP9_",
        "colab_type": "text"
      },
      "source": [
        "# 답변 대상 청원 보기\n",
        "### 20만건 이상 투표를 받으면 답변 대상 청원이 됩니다.\n",
        "### 20만건 이상 투표를 받은 청원의 갯수를 확인"
      ]
    },
    {
      "cell_type": "code",
      "metadata": {
        "id": "vR11APEoai_8",
        "colab_type": "code",
        "outputId": "91fceaa5-6837-47d9-d173-7155ea24accf",
        "colab": {
          "base_uri": "https://localhost:8080/",
          "height": 35
        }
      },
      "source": [
        "df_20 = df.loc[df['votes'] > 200000]\n",
        "df_20.shape"
      ],
      "execution_count": 0,
      "outputs": [
        {
          "output_type": "execute_result",
          "data": {
            "text/plain": [
              "(80, 8)"
            ]
          },
          "metadata": {
            "tags": []
          },
          "execution_count": 19
        }
      ]
    },
    {
      "cell_type": "code",
      "metadata": {
        "id": "HKPtEzXaa0LB",
        "colab_type": "code",
        "outputId": "3e36e63a-f626-4324-d34b-92247390e4c7",
        "colab": {
          "base_uri": "https://localhost:8080/",
          "height": 177
        }
      },
      "source": [
        "df.loc[df['votes'] > 1000].count()"
      ],
      "execution_count": 0,
      "outputs": [
        {
          "output_type": "execute_result",
          "data": {
            "text/plain": [
              "article_id    3472\n",
              "start         3472\n",
              "end           3472\n",
              "answered      3472\n",
              "votes         3472\n",
              "category      3472\n",
              "title         3472\n",
              "content       3472\n",
              "dtype: int64"
            ]
          },
          "metadata": {
            "tags": []
          },
          "execution_count": 21
        }
      ]
    },
    {
      "cell_type": "code",
      "metadata": {
        "id": "fRRZFIlva3e3",
        "colab_type": "code",
        "outputId": "38ea08c8-fbf6-49b6-f91c-6603e82ffeb5",
        "colab": {
          "base_uri": "https://localhost:8080/",
          "height": 284
        }
      },
      "source": [
        "df_20.category.value_counts()"
      ],
      "execution_count": 0,
      "outputs": [
        {
          "output_type": "execute_result",
          "data": {
            "text/plain": [
              "인권/성평등         24\n",
              "안전/환경          10\n",
              "기타              8\n",
              "정치개혁            8\n",
              "문화/예술/체육/언론     7\n",
              "외교/통일/국방        4\n",
              "반려동물            4\n",
              "교통/건축/국토        3\n",
              "육아/교육           3\n",
              "보건복지            3\n",
              "성장동력            2\n",
              "경제민주화           2\n",
              "행정              1\n",
              "미래              1\n",
              "Name: category, dtype: int64"
            ]
          },
          "metadata": {
            "tags": []
          },
          "execution_count": 22
        }
      ]
    },
    {
      "cell_type": "code",
      "metadata": {
        "id": "Uvxa3N_CbMvQ",
        "colab_type": "code",
        "outputId": "a94a05ca-fece-4aa3-ee82-20fa87d1b463",
        "colab": {
          "base_uri": "https://localhost:8080/",
          "height": 186
        }
      },
      "source": [
        "df_20[['title', 'content']].head(3)"
      ],
      "execution_count": 0,
      "outputs": [
        {
          "output_type": "execute_result",
          "data": {
            "text/html": [
              "<div>\n",
              "<style scoped>\n",
              "    .dataframe tbody tr th:only-of-type {\n",
              "        vertical-align: middle;\n",
              "    }\n",
              "\n",
              "    .dataframe tbody tr th {\n",
              "        vertical-align: top;\n",
              "    }\n",
              "\n",
              "    .dataframe thead th {\n",
              "        text-align: right;\n",
              "    }\n",
              "</style>\n",
              "<table border=\"1\" class=\"dataframe\">\n",
              "  <thead>\n",
              "    <tr style=\"text-align: right;\">\n",
              "      <th></th>\n",
              "      <th>title</th>\n",
              "      <th>content</th>\n",
              "    </tr>\n",
              "  </thead>\n",
              "  <tbody>\n",
              "    <tr>\n",
              "      <th>1752</th>\n",
              "      <td>청소년이란 이유로 보호법을 악용하는 잔인무도한 청소년들이 늘어나고있습니다. 반드시 ...</td>\n",
              "      <td>안녕하십니까. 청소년보호법이란 명목하에 나쁜짓을 일삼는 청소년들이 너무나 많아지고 ...</td>\n",
              "    </tr>\n",
              "    <tr>\n",
              "      <th>10894</th>\n",
              "      <td>조두순 출소반대</td>\n",
              "      <td>제발 조두순 재심다시해서 무기징역으로 해야됩니다!!!</td>\n",
              "    </tr>\n",
              "    <tr>\n",
              "      <th>18111</th>\n",
              "      <td>낙태죄 폐지와 자연유산 유도약(미프진) 합법화 및 도입을 부탁드립니다.</td>\n",
              "      <td>안녕하세요. 존경하는 대통령님 의원님\\n낙태죄 폐지를 청원합니다.\\n현재 대한민국은...</td>\n",
              "    </tr>\n",
              "  </tbody>\n",
              "</table>\n",
              "</div>"
            ],
            "text/plain": [
              "                                                   title                                            content\n",
              "1752   청소년이란 이유로 보호법을 악용하는 잔인무도한 청소년들이 늘어나고있습니다. 반드시 ...  안녕하십니까. 청소년보호법이란 명목하에 나쁜짓을 일삼는 청소년들이 너무나 많아지고 ...\n",
              "10894                                           조두순 출소반대                      제발 조두순 재심다시해서 무기징역으로 해야됩니다!!!\n",
              "18111            낙태죄 폐지와 자연유산 유도약(미프진) 합법화 및 도입을 부탁드립니다.  안녕하세요. 존경하는 대통령님 의원님\\n낙태죄 폐지를 청원합니다.\\n현재 대한민국은..."
            ]
          },
          "metadata": {
            "tags": []
          },
          "execution_count": 23
        }
      ]
    },
    {
      "cell_type": "markdown",
      "metadata": {
        "id": "mg1D7tFcbykK",
        "colab_type": "text"
      },
      "source": [
        "#### 컬럼을 하나 만들어주는데 20만건 이상 투표된 청원은 True 아니라면 False가 된다."
      ]
    },
    {
      "cell_type": "code",
      "metadata": {
        "id": "_8RTAc18bU9M",
        "colab_type": "code",
        "colab": {}
      },
      "source": [
        "df['answer'] = (df['votes'] > 200000) == 1"
      ],
      "execution_count": 0,
      "outputs": []
    },
    {
      "cell_type": "code",
      "metadata": {
        "id": "LfhpfwkHbjSt",
        "colab_type": "code",
        "colab": {}
      },
      "source": [
        "df.dtypes # 새로 생성 해준 answer의 타입은 boolean 타입이다. 이것을 int로 변경 해보자\n",
        "\n",
        "df['answer'] = df['answer'].astype('int')"
      ],
      "execution_count": 0,
      "outputs": []
    },
    {
      "cell_type": "code",
      "metadata": {
        "id": "ftUMVheCbj9G",
        "colab_type": "code",
        "collapsed": true,
        "outputId": "7724f8c7-18fc-4842-c44e-aa352c3f6b91",
        "colab": {
          "base_uri": "https://localhost:8080/",
          "height": 1000
        }
      },
      "source": [
        "df[df['answer'] == 1]"
      ],
      "execution_count": 0,
      "outputs": [
        {
          "output_type": "execute_result",
          "data": {
            "text/html": [
              "<div>\n",
              "<style scoped>\n",
              "    .dataframe tbody tr th:only-of-type {\n",
              "        vertical-align: middle;\n",
              "    }\n",
              "\n",
              "    .dataframe tbody tr th {\n",
              "        vertical-align: top;\n",
              "    }\n",
              "\n",
              "    .dataframe thead th {\n",
              "        text-align: right;\n",
              "    }\n",
              "</style>\n",
              "<table border=\"1\" class=\"dataframe\">\n",
              "  <thead>\n",
              "    <tr style=\"text-align: right;\">\n",
              "      <th></th>\n",
              "      <th>article_id</th>\n",
              "      <th>start</th>\n",
              "      <th>end</th>\n",
              "      <th>answered</th>\n",
              "      <th>votes</th>\n",
              "      <th>category</th>\n",
              "      <th>title</th>\n",
              "      <th>content</th>\n",
              "      <th>answer</th>\n",
              "    </tr>\n",
              "  </thead>\n",
              "  <tbody>\n",
              "    <tr>\n",
              "      <th>1752</th>\n",
              "      <td>1785</td>\n",
              "      <td>2017-09-03</td>\n",
              "      <td>2017-11-02</td>\n",
              "      <td>1</td>\n",
              "      <td>296330</td>\n",
              "      <td>인권/성평등</td>\n",
              "      <td>청소년이란 이유로 보호법을 악용하는 잔인무도한 청소년들이 늘어나고있습니다. 반드시 ...</td>\n",
              "      <td>안녕하십니까. 청소년보호법이란 명목하에 나쁜짓을 일삼는 청소년들이 너무나 많아지고 ...</td>\n",
              "      <td>1</td>\n",
              "    </tr>\n",
              "    <tr>\n",
              "      <th>10894</th>\n",
              "      <td>10949</td>\n",
              "      <td>2017-09-06</td>\n",
              "      <td>2017-12-05</td>\n",
              "      <td>1</td>\n",
              "      <td>615354</td>\n",
              "      <td>미래</td>\n",
              "      <td>조두순 출소반대</td>\n",
              "      <td>제발 조두순 재심다시해서 무기징역으로 해야됩니다!!!</td>\n",
              "      <td>1</td>\n",
              "    </tr>\n",
              "    <tr>\n",
              "      <th>18111</th>\n",
              "      <td>18278</td>\n",
              "      <td>2017-09-30</td>\n",
              "      <td>2017-10-30</td>\n",
              "      <td>1</td>\n",
              "      <td>235372</td>\n",
              "      <td>인권/성평등</td>\n",
              "      <td>낙태죄 폐지와 자연유산 유도약(미프진) 합법화 및 도입을 부탁드립니다.</td>\n",
              "      <td>안녕하세요. 존경하는 대통령님 의원님\\n낙태죄 폐지를 청원합니다.\\n현재 대한민국은...</td>\n",
              "      <td>1</td>\n",
              "    </tr>\n",
              "    <tr>\n",
              "      <th>25032</th>\n",
              "      <td>26024</td>\n",
              "      <td>2017-11-04</td>\n",
              "      <td>2017-12-04</td>\n",
              "      <td>1</td>\n",
              "      <td>216774</td>\n",
              "      <td>안전/환경</td>\n",
              "      <td>'주취감형(술을 먹으면 형벌 감형)' 폐지를 건의(청원)합니다.</td>\n",
              "      <td>'주취감형'이란, 술을 먹고 범행을 저지를 때, 심신미약 (이성이 없고 우발적)이라...</td>\n",
              "      <td>1</td>\n",
              "    </tr>\n",
              "    <tr>\n",
              "      <th>43992</th>\n",
              "      <td>45581</td>\n",
              "      <td>2017-11-17</td>\n",
              "      <td>2017-12-17</td>\n",
              "      <td>1</td>\n",
              "      <td>281985</td>\n",
              "      <td>보건복지</td>\n",
              "      <td>권역외상센터 (이국종 교수님) 추가적, 제도적, 환경적, 인력 지원</td>\n",
              "      <td>청원사항)\\n중증외상분야의 추가적, 제도적, 환경적, 인력 지원 방안마련\\n현 의료...</td>\n",
              "      <td>1</td>\n",
              "    </tr>\n",
              "    <tr>\n",
              "      <th>...</th>\n",
              "      <td>...</td>\n",
              "      <td>...</td>\n",
              "      <td>...</td>\n",
              "      <td>...</td>\n",
              "      <td>...</td>\n",
              "      <td>...</td>\n",
              "      <td>...</td>\n",
              "      <td>...</td>\n",
              "      <td>...</td>\n",
              "    </tr>\n",
              "    <tr>\n",
              "      <th>363005</th>\n",
              "      <td>472309</td>\n",
              "      <td>2018-12-18</td>\n",
              "      <td>2019-01-17</td>\n",
              "      <td>0</td>\n",
              "      <td>269110</td>\n",
              "      <td>인권/성평등</td>\n",
              "      <td>조재범 코치를 강력처벌해주세요</td>\n",
              "      <td>그는 국가대표 심석희 외 다수의 여자선수들을 지속적으로 적어도 14년간 폭행해온 쓰...</td>\n",
              "      <td>1</td>\n",
              "    </tr>\n",
              "    <tr>\n",
              "      <th>375654</th>\n",
              "      <td>489302</td>\n",
              "      <td>2019-01-07</td>\n",
              "      <td>2019-02-06</td>\n",
              "      <td>0</td>\n",
              "      <td>302856</td>\n",
              "      <td>정치개혁</td>\n",
              "      <td>여.야는 속히 공수처 신설하라 !!!</td>\n",
              "      <td>지금 대한 민국은 나라를 바로 잡기 위해 반드시 이번 정부내에 검찰과 법원의 확실한...</td>\n",
              "      <td>1</td>\n",
              "    </tr>\n",
              "    <tr>\n",
              "      <th>390787</th>\n",
              "      <td>510422</td>\n",
              "      <td>2019-01-29</td>\n",
              "      <td>2019-02-28</td>\n",
              "      <td>0</td>\n",
              "      <td>312197</td>\n",
              "      <td>기타</td>\n",
              "      <td>경사 ***, 경장 *** 외 ***에서 뇌물받는지 조사부탁드립니다.</td>\n",
              "      <td>경사 ***, 경장 *** 등등 ***에서 뇌물받는지 조사부탁드립니다.\\nㅡㅡㅡㅡㅡ...</td>\n",
              "      <td>1</td>\n",
              "    </tr>\n",
              "    <tr>\n",
              "      <th>391208</th>\n",
              "      <td>511075</td>\n",
              "      <td>2019-01-29</td>\n",
              "      <td>2019-02-28</td>\n",
              "      <td>0</td>\n",
              "      <td>207784</td>\n",
              "      <td>인권/성평등</td>\n",
              "      <td>공공연한 여성 대상 약물 범죄 처벌과 ***을 비롯한 클럽, 유흥업소와 경찰 간의 ...</td>\n",
              "      <td>*** 사태의 핵심은 클럽&amp;유흥업소 운영 관리인들의 의도적 약물 사용이 의심되는 납...</td>\n",
              "      <td>1</td>\n",
              "    </tr>\n",
              "    <tr>\n",
              "      <th>391984</th>\n",
              "      <td>512112</td>\n",
              "      <td>2019-01-30</td>\n",
              "      <td>2019-03-01</td>\n",
              "      <td>0</td>\n",
              "      <td>270999</td>\n",
              "      <td>정치개혁</td>\n",
              "      <td>시민의 이름으로, 이번 김경수 지사 재판에 관련된 법원 판사 전원의 사퇴를 명령합니다.</td>\n",
              "      <td>촛불혁명으로 세운 정부와 달리, 사법부는 여전히 과거의 구습과 적폐적 습관을 버리지...</td>\n",
              "      <td>1</td>\n",
              "    </tr>\n",
              "  </tbody>\n",
              "</table>\n",
              "<p>80 rows × 9 columns</p>\n",
              "</div>"
            ],
            "text/plain": [
              "        article_id  ... answer\n",
              "1752          1785  ...      1\n",
              "10894        10949  ...      1\n",
              "18111        18278  ...      1\n",
              "25032        26024  ...      1\n",
              "43992        45581  ...      1\n",
              "...            ...  ...    ...\n",
              "363005      472309  ...      1\n",
              "375654      489302  ...      1\n",
              "390787      510422  ...      1\n",
              "391208      511075  ...      1\n",
              "391984      512112  ...      1\n",
              "\n",
              "[80 rows x 9 columns]"
            ]
          },
          "metadata": {
            "tags": []
          },
          "execution_count": 37
        }
      ]
    },
    {
      "cell_type": "code",
      "metadata": {
        "id": "bOubJ55NcMAZ",
        "colab_type": "code",
        "outputId": "4fce8112-7ff4-4c9a-afd6-a0e571a1e050",
        "colab": {
          "base_uri": "https://localhost:8080/",
          "height": 35
        }
      },
      "source": [
        "# df['answer_diff'] = df['answer'] - df['answered']\n",
        "df['answer_diff'].sum() # 20만건 이상인데 아직 청원 답변이 안달린것."
      ],
      "execution_count": 0,
      "outputs": [
        {
          "output_type": "execute_result",
          "data": {
            "text/plain": [
              "51"
            ]
          },
          "metadata": {
            "tags": []
          },
          "execution_count": 51
        }
      ]
    },
    {
      "cell_type": "code",
      "metadata": {
        "id": "9ZYjm9xnemY3",
        "colab_type": "code",
        "colab": {}
      },
      "source": [
        "category = pd.DataFrame(df['category'].value_counts()).reset_index()\n",
        "category.columns = ['category', 'counts'] # 컬럼명 바꾸기"
      ],
      "execution_count": 0,
      "outputs": []
    },
    {
      "cell_type": "code",
      "metadata": {
        "id": "0iEMVFYHfaBh",
        "colab_type": "code",
        "colab": {}
      },
      "source": [
        "start_df = pd.DataFrame(df['start'].value_counts()).reset_index() # 청원이 가장많이 들어온날순으로 정렬\n",
        "start_df.columns = ['start', 'counts']"
      ],
      "execution_count": 0,
      "outputs": []
    },
    {
      "cell_type": "code",
      "metadata": {
        "id": "Z2R34KaWfddj",
        "colab_type": "code",
        "colab": {}
      },
      "source": [
        "start_df = start_df.sort_values('counts', ascending=False)"
      ],
      "execution_count": 0,
      "outputs": []
    },
    {
      "cell_type": "code",
      "metadata": {
        "id": "QXCkeC7UmtJd",
        "colab_type": "code",
        "outputId": "a2da1e40-aa0e-4598-e134-24a5ab3703af",
        "colab": {
          "base_uri": "https://localhost:8080/",
          "height": 35
        }
      },
      "source": [
        "print('청원 집계: {}일'.format(start_df.shape[0]))"
      ],
      "execution_count": 0,
      "outputs": [
        {
          "output_type": "stream",
          "text": [
            "청원 집계: 535일\n"
          ],
          "name": "stdout"
        }
      ]
    },
    {
      "cell_type": "code",
      "metadata": {
        "id": "m8W1GvL7m4n7",
        "colab_type": "code",
        "outputId": "d87bd038-e78d-4193-979c-7fda7a799b64",
        "colab": {
          "base_uri": "https://localhost:8080/",
          "height": 194
        }
      },
      "source": [
        "start_df.head()"
      ],
      "execution_count": 0,
      "outputs": [
        {
          "output_type": "execute_result",
          "data": {
            "text/html": [
              "<div>\n",
              "<style scoped>\n",
              "    .dataframe tbody tr th:only-of-type {\n",
              "        vertical-align: middle;\n",
              "    }\n",
              "\n",
              "    .dataframe tbody tr th {\n",
              "        vertical-align: top;\n",
              "    }\n",
              "\n",
              "    .dataframe thead th {\n",
              "        text-align: right;\n",
              "    }\n",
              "</style>\n",
              "<table border=\"1\" class=\"dataframe\">\n",
              "  <thead>\n",
              "    <tr style=\"text-align: right;\">\n",
              "      <th></th>\n",
              "      <th>start</th>\n",
              "      <th>counts</th>\n",
              "    </tr>\n",
              "  </thead>\n",
              "  <tbody>\n",
              "    <tr>\n",
              "      <th>0</th>\n",
              "      <td>2017-11-11</td>\n",
              "      <td>9623</td>\n",
              "    </tr>\n",
              "    <tr>\n",
              "      <th>1</th>\n",
              "      <td>2017-09-05</td>\n",
              "      <td>5952</td>\n",
              "    </tr>\n",
              "    <tr>\n",
              "      <th>2</th>\n",
              "      <td>2018-01-11</td>\n",
              "      <td>3368</td>\n",
              "    </tr>\n",
              "    <tr>\n",
              "      <th>3</th>\n",
              "      <td>2018-02-06</td>\n",
              "      <td>2631</td>\n",
              "    </tr>\n",
              "    <tr>\n",
              "      <th>4</th>\n",
              "      <td>2017-11-09</td>\n",
              "      <td>2487</td>\n",
              "    </tr>\n",
              "  </tbody>\n",
              "</table>\n",
              "</div>"
            ],
            "text/plain": [
              "        start  counts\n",
              "0  2017-11-11    9623\n",
              "1  2017-09-05    5952\n",
              "2  2018-01-11    3368\n",
              "3  2018-02-06    2631\n",
              "4  2017-11-09    2487"
            ]
          },
          "metadata": {
            "tags": []
          },
          "execution_count": 67
        }
      ]
    },
    {
      "cell_type": "markdown",
      "metadata": {
        "id": "E0FpqeC6nyKK",
        "colab_type": "text"
      },
      "source": [
        "# 피봇 테이블로 투표를 가장 많이 받은 분야를 찾아보세요."
      ]
    },
    {
      "cell_type": "code",
      "metadata": {
        "id": "7fOVQluBnQbA",
        "colab_type": "code",
        "colab": {}
      },
      "source": [
        "petitions_unique = pd.pivot_table(df, index=['category'], aggfunc=np.sum)\n",
        "petitions_best = petitions_unique.sort_values(by='votes',\n",
        "                                              ascending=False).reset_index() # 투표를 가장 많이 받은 분야"
      ],
      "execution_count": 0,
      "outputs": []
    },
    {
      "cell_type": "markdown",
      "metadata": {
        "id": "MBq0blJ8nlAG",
        "colab_type": "text"
      },
      "source": [
        "# 투표를 가장 많이 받은 날은 언제일까요?"
      ]
    },
    {
      "cell_type": "code",
      "metadata": {
        "id": "YYXafYJ0oIwx",
        "colab_type": "code",
        "colab": {}
      },
      "source": [
        "petitions_start = pd.pivot_table(df, index=['start'], aggfunc=np.sum)"
      ],
      "execution_count": 0,
      "outputs": []
    },
    {
      "cell_type": "code",
      "metadata": {
        "id": "Undr_KWRok76",
        "colab_type": "code",
        "colab": {}
      },
      "source": [
        "votes_df = petitions_start.sort_values(by='votes', ascending=False)"
      ],
      "execution_count": 0,
      "outputs": []
    },
    {
      "cell_type": "code",
      "metadata": {
        "id": "yi7VA941ol5t",
        "colab_type": "code",
        "collapsed": true,
        "outputId": "c3d90480-edca-4e15-e484-808d67565e6f",
        "colab": {
          "base_uri": "https://localhost:8080/",
          "height": 1000
        }
      },
      "source": [
        "votes_df.loc[petitions_start['votes'] > 350000]"
      ],
      "execution_count": 0,
      "outputs": [
        {
          "output_type": "execute_result",
          "data": {
            "text/html": [
              "<div>\n",
              "<style scoped>\n",
              "    .dataframe tbody tr th:only-of-type {\n",
              "        vertical-align: middle;\n",
              "    }\n",
              "\n",
              "    .dataframe tbody tr th {\n",
              "        vertical-align: top;\n",
              "    }\n",
              "\n",
              "    .dataframe thead th {\n",
              "        text-align: right;\n",
              "    }\n",
              "</style>\n",
              "<table border=\"1\" class=\"dataframe\">\n",
              "  <thead>\n",
              "    <tr style=\"text-align: right;\">\n",
              "      <th></th>\n",
              "      <th>answer</th>\n",
              "      <th>answer_diff</th>\n",
              "      <th>answered</th>\n",
              "      <th>article_id</th>\n",
              "      <th>votes</th>\n",
              "    </tr>\n",
              "    <tr>\n",
              "      <th>start</th>\n",
              "      <th></th>\n",
              "      <th></th>\n",
              "      <th></th>\n",
              "      <th></th>\n",
              "      <th></th>\n",
              "    </tr>\n",
              "  </thead>\n",
              "  <tbody>\n",
              "    <tr>\n",
              "      <th>2018-10-17</th>\n",
              "      <td>1</td>\n",
              "      <td>1</td>\n",
              "      <td>0</td>\n",
              "      <td>378900198</td>\n",
              "      <td>1300523</td>\n",
              "    </tr>\n",
              "    <tr>\n",
              "      <th>2018-10-31</th>\n",
              "      <td>2</td>\n",
              "      <td>2</td>\n",
              "      <td>0</td>\n",
              "      <td>430964099</td>\n",
              "      <td>827096</td>\n",
              "    </tr>\n",
              "    <tr>\n",
              "      <th>2018-06-13</th>\n",
              "      <td>1</td>\n",
              "      <td>1</td>\n",
              "      <td>0</td>\n",
              "      <td>146187973</td>\n",
              "      <td>786157</td>\n",
              "    </tr>\n",
              "    <tr>\n",
              "      <th>2018-10-18</th>\n",
              "      <td>2</td>\n",
              "      <td>2</td>\n",
              "      <td>0</td>\n",
              "      <td>423557789</td>\n",
              "      <td>721524</td>\n",
              "    </tr>\n",
              "    <tr>\n",
              "      <th>2018-02-19</th>\n",
              "      <td>1</td>\n",
              "      <td>0</td>\n",
              "      <td>1</td>\n",
              "      <td>99332898</td>\n",
              "      <td>701520</td>\n",
              "    </tr>\n",
              "    <tr>\n",
              "      <th>2018-11-09</th>\n",
              "      <td>2</td>\n",
              "      <td>2</td>\n",
              "      <td>0</td>\n",
              "      <td>349439392</td>\n",
              "      <td>672819</td>\n",
              "    </tr>\n",
              "    <tr>\n",
              "      <th>2018-07-22</th>\n",
              "      <td>1</td>\n",
              "      <td>1</td>\n",
              "      <td>0</td>\n",
              "      <td>282639463</td>\n",
              "      <td>672491</td>\n",
              "    </tr>\n",
              "    <tr>\n",
              "      <th>2017-09-06</th>\n",
              "      <td>1</td>\n",
              "      <td>0</td>\n",
              "      <td>1</td>\n",
              "      <td>22268570</td>\n",
              "      <td>648209</td>\n",
              "    </tr>\n",
              "    <tr>\n",
              "      <th>2018-06-24</th>\n",
              "      <td>2</td>\n",
              "      <td>2</td>\n",
              "      <td>0</td>\n",
              "      <td>359345089</td>\n",
              "      <td>628925</td>\n",
              "    </tr>\n",
              "    <tr>\n",
              "      <th>2018-10-04</th>\n",
              "      <td>2</td>\n",
              "      <td>1</td>\n",
              "      <td>1</td>\n",
              "      <td>290746555</td>\n",
              "      <td>626761</td>\n",
              "    </tr>\n",
              "    <tr>\n",
              "      <th>2018-02-23</th>\n",
              "      <td>2</td>\n",
              "      <td>0</td>\n",
              "      <td>2</td>\n",
              "      <td>168561151</td>\n",
              "      <td>608530</td>\n",
              "    </tr>\n",
              "    <tr>\n",
              "      <th>2018-05-18</th>\n",
              "      <td>1</td>\n",
              "      <td>1</td>\n",
              "      <td>0</td>\n",
              "      <td>190599564</td>\n",
              "      <td>574483</td>\n",
              "    </tr>\n",
              "    <tr>\n",
              "      <th>2018-05-11</th>\n",
              "      <td>1</td>\n",
              "      <td>0</td>\n",
              "      <td>1</td>\n",
              "      <td>119082098</td>\n",
              "      <td>556549</td>\n",
              "    </tr>\n",
              "    <tr>\n",
              "      <th>2019-01-29</th>\n",
              "      <td>2</td>\n",
              "      <td>2</td>\n",
              "      <td>0</td>\n",
              "      <td>409753872</td>\n",
              "      <td>550474</td>\n",
              "    </tr>\n",
              "    <tr>\n",
              "      <th>2018-05-25</th>\n",
              "      <td>2</td>\n",
              "      <td>2</td>\n",
              "      <td>0</td>\n",
              "      <td>217699031</td>\n",
              "      <td>514253</td>\n",
              "    </tr>\n",
              "    <tr>\n",
              "      <th>2018-11-14</th>\n",
              "      <td>1</td>\n",
              "      <td>1</td>\n",
              "      <td>0</td>\n",
              "      <td>341163199</td>\n",
              "      <td>469027</td>\n",
              "    </tr>\n",
              "    <tr>\n",
              "      <th>2018-06-17</th>\n",
              "      <td>2</td>\n",
              "      <td>2</td>\n",
              "      <td>0</td>\n",
              "      <td>158887091</td>\n",
              "      <td>468341</td>\n",
              "    </tr>\n",
              "    <tr>\n",
              "      <th>2018-07-03</th>\n",
              "      <td>1</td>\n",
              "      <td>1</td>\n",
              "      <td>0</td>\n",
              "      <td>247788786</td>\n",
              "      <td>467132</td>\n",
              "    </tr>\n",
              "    <tr>\n",
              "      <th>2018-04-17</th>\n",
              "      <td>1</td>\n",
              "      <td>0</td>\n",
              "      <td>1</td>\n",
              "      <td>232499699</td>\n",
              "      <td>446950</td>\n",
              "    </tr>\n",
              "    <tr>\n",
              "      <th>2018-05-02</th>\n",
              "      <td>1</td>\n",
              "      <td>1</td>\n",
              "      <td>0</td>\n",
              "      <td>204023320</td>\n",
              "      <td>445493</td>\n",
              "    </tr>\n",
              "    <tr>\n",
              "      <th>2018-10-02</th>\n",
              "      <td>1</td>\n",
              "      <td>0</td>\n",
              "      <td>1</td>\n",
              "      <td>326518258</td>\n",
              "      <td>437841</td>\n",
              "    </tr>\n",
              "    <tr>\n",
              "      <th>2017-09-03</th>\n",
              "      <td>1</td>\n",
              "      <td>0</td>\n",
              "      <td>1</td>\n",
              "      <td>404415</td>\n",
              "      <td>433356</td>\n",
              "    </tr>\n",
              "    <tr>\n",
              "      <th>2018-06-14</th>\n",
              "      <td>1</td>\n",
              "      <td>0</td>\n",
              "      <td>1</td>\n",
              "      <td>204240095</td>\n",
              "      <td>403351</td>\n",
              "    </tr>\n",
              "    <tr>\n",
              "      <th>2018-01-20</th>\n",
              "      <td>1</td>\n",
              "      <td>0</td>\n",
              "      <td>1</td>\n",
              "      <td>99071361</td>\n",
              "      <td>399683</td>\n",
              "    </tr>\n",
              "    <tr>\n",
              "      <th>2017-11-17</th>\n",
              "      <td>1</td>\n",
              "      <td>0</td>\n",
              "      <td>1</td>\n",
              "      <td>23752225</td>\n",
              "      <td>393348</td>\n",
              "    </tr>\n",
              "    <tr>\n",
              "      <th>2017-11-24</th>\n",
              "      <td>1</td>\n",
              "      <td>0</td>\n",
              "      <td>1</td>\n",
              "      <td>80814983</td>\n",
              "      <td>392782</td>\n",
              "    </tr>\n",
              "    <tr>\n",
              "      <th>2018-12-07</th>\n",
              "      <td>1</td>\n",
              "      <td>1</td>\n",
              "      <td>0</td>\n",
              "      <td>394821243</td>\n",
              "      <td>387305</td>\n",
              "    </tr>\n",
              "    <tr>\n",
              "      <th>2018-03-24</th>\n",
              "      <td>1</td>\n",
              "      <td>1</td>\n",
              "      <td>0</td>\n",
              "      <td>96422371</td>\n",
              "      <td>385480</td>\n",
              "    </tr>\n",
              "    <tr>\n",
              "      <th>2018-09-06</th>\n",
              "      <td>1</td>\n",
              "      <td>1</td>\n",
              "      <td>0</td>\n",
              "      <td>381171515</td>\n",
              "      <td>383145</td>\n",
              "    </tr>\n",
              "    <tr>\n",
              "      <th>2018-03-03</th>\n",
              "      <td>1</td>\n",
              "      <td>0</td>\n",
              "      <td>1</td>\n",
              "      <td>94454042</td>\n",
              "      <td>380016</td>\n",
              "    </tr>\n",
              "    <tr>\n",
              "      <th>2018-01-15</th>\n",
              "      <td>1</td>\n",
              "      <td>0</td>\n",
              "      <td>1</td>\n",
              "      <td>106053634</td>\n",
              "      <td>376187</td>\n",
              "    </tr>\n",
              "    <tr>\n",
              "      <th>2018-04-16</th>\n",
              "      <td>1</td>\n",
              "      <td>1</td>\n",
              "      <td>0</td>\n",
              "      <td>168625159</td>\n",
              "      <td>369318</td>\n",
              "    </tr>\n",
              "    <tr>\n",
              "      <th>2018-01-25</th>\n",
              "      <td>1</td>\n",
              "      <td>0</td>\n",
              "      <td>1</td>\n",
              "      <td>129153668</td>\n",
              "      <td>364926</td>\n",
              "    </tr>\n",
              "    <tr>\n",
              "      <th>2019-01-07</th>\n",
              "      <td>1</td>\n",
              "      <td>1</td>\n",
              "      <td>0</td>\n",
              "      <td>312286224</td>\n",
              "      <td>352139</td>\n",
              "    </tr>\n",
              "  </tbody>\n",
              "</table>\n",
              "</div>"
            ],
            "text/plain": [
              "            answer  answer_diff  answered  article_id    votes\n",
              "start                                                         \n",
              "2018-10-17       1            1         0   378900198  1300523\n",
              "2018-10-31       2            2         0   430964099   827096\n",
              "2018-06-13       1            1         0   146187973   786157\n",
              "2018-10-18       2            2         0   423557789   721524\n",
              "2018-02-19       1            0         1    99332898   701520\n",
              "2018-11-09       2            2         0   349439392   672819\n",
              "2018-07-22       1            1         0   282639463   672491\n",
              "2017-09-06       1            0         1    22268570   648209\n",
              "2018-06-24       2            2         0   359345089   628925\n",
              "2018-10-04       2            1         1   290746555   626761\n",
              "2018-02-23       2            0         2   168561151   608530\n",
              "2018-05-18       1            1         0   190599564   574483\n",
              "2018-05-11       1            0         1   119082098   556549\n",
              "2019-01-29       2            2         0   409753872   550474\n",
              "2018-05-25       2            2         0   217699031   514253\n",
              "2018-11-14       1            1         0   341163199   469027\n",
              "2018-06-17       2            2         0   158887091   468341\n",
              "2018-07-03       1            1         0   247788786   467132\n",
              "2018-04-17       1            0         1   232499699   446950\n",
              "2018-05-02       1            1         0   204023320   445493\n",
              "2018-10-02       1            0         1   326518258   437841\n",
              "2017-09-03       1            0         1      404415   433356\n",
              "2018-06-14       1            0         1   204240095   403351\n",
              "2018-01-20       1            0         1    99071361   399683\n",
              "2017-11-17       1            0         1    23752225   393348\n",
              "2017-11-24       1            0         1    80814983   392782\n",
              "2018-12-07       1            1         0   394821243   387305\n",
              "2018-03-24       1            1         0    96422371   385480\n",
              "2018-09-06       1            1         0   381171515   383145\n",
              "2018-03-03       1            0         1    94454042   380016\n",
              "2018-01-15       1            0         1   106053634   376187\n",
              "2018-04-16       1            1         0   168625159   369318\n",
              "2018-01-25       1            0         1   129153668   364926\n",
              "2019-01-07       1            1         0   312286224   352139"
            ]
          },
          "metadata": {
            "tags": []
          },
          "execution_count": 79
        }
      ]
    },
    {
      "cell_type": "markdown",
      "metadata": {
        "id": "3tfvnsorpHhL",
        "colab_type": "text"
      },
      "source": [
        "# 청원을 많이 받은 날 vs 투표를 많이 받은 날에 대해 각각 상위 5개 목록을 추출해 봅니다."
      ]
    },
    {
      "cell_type": "code",
      "metadata": {
        "id": "IZzz9IovpGtj",
        "colab_type": "code",
        "colab": {}
      },
      "source": [
        "votes_df = votes_df.reset_index()"
      ],
      "execution_count": 0,
      "outputs": []
    },
    {
      "cell_type": "code",
      "metadata": {
        "id": "MOij7eRLo6CA",
        "colab_type": "code",
        "colab": {}
      },
      "source": [
        "hottest_day_df = start_df.merge(votes_df, on='start', how='left')"
      ],
      "execution_count": 0,
      "outputs": []
    },
    {
      "cell_type": "code",
      "metadata": {
        "id": "LM40GWqXpS8Q",
        "colab_type": "code",
        "outputId": "0b9fc2ac-057f-4ccd-894f-7739401d7180",
        "colab": {
          "base_uri": "https://localhost:8080/",
          "height": 194
        }
      },
      "source": [
        "hottest_day_df.sort_values('counts', ascending=False)[:5]"
      ],
      "execution_count": 0,
      "outputs": [
        {
          "output_type": "execute_result",
          "data": {
            "text/html": [
              "<div>\n",
              "<style scoped>\n",
              "    .dataframe tbody tr th:only-of-type {\n",
              "        vertical-align: middle;\n",
              "    }\n",
              "\n",
              "    .dataframe tbody tr th {\n",
              "        vertical-align: top;\n",
              "    }\n",
              "\n",
              "    .dataframe thead th {\n",
              "        text-align: right;\n",
              "    }\n",
              "</style>\n",
              "<table border=\"1\" class=\"dataframe\">\n",
              "  <thead>\n",
              "    <tr style=\"text-align: right;\">\n",
              "      <th></th>\n",
              "      <th>start</th>\n",
              "      <th>counts</th>\n",
              "      <th>answer</th>\n",
              "      <th>answer_diff</th>\n",
              "      <th>answered</th>\n",
              "      <th>article_id</th>\n",
              "      <th>votes</th>\n",
              "    </tr>\n",
              "  </thead>\n",
              "  <tbody>\n",
              "    <tr>\n",
              "      <th>0</th>\n",
              "      <td>2017-11-11</td>\n",
              "      <td>9623</td>\n",
              "      <td>0</td>\n",
              "      <td>0</td>\n",
              "      <td>0</td>\n",
              "      <td>348559310</td>\n",
              "      <td>85074</td>\n",
              "    </tr>\n",
              "    <tr>\n",
              "      <th>1</th>\n",
              "      <td>2017-09-05</td>\n",
              "      <td>5952</td>\n",
              "      <td>0</td>\n",
              "      <td>0</td>\n",
              "      <td>0</td>\n",
              "      <td>38414241</td>\n",
              "      <td>48808</td>\n",
              "    </tr>\n",
              "    <tr>\n",
              "      <th>2</th>\n",
              "      <td>2018-01-11</td>\n",
              "      <td>3368</td>\n",
              "      <td>0</td>\n",
              "      <td>0</td>\n",
              "      <td>0</td>\n",
              "      <td>291069195</td>\n",
              "      <td>44570</td>\n",
              "    </tr>\n",
              "    <tr>\n",
              "      <th>3</th>\n",
              "      <td>2018-02-06</td>\n",
              "      <td>2631</td>\n",
              "      <td>0</td>\n",
              "      <td>0</td>\n",
              "      <td>0</td>\n",
              "      <td>342371897</td>\n",
              "      <td>83038</td>\n",
              "    </tr>\n",
              "    <tr>\n",
              "      <th>4</th>\n",
              "      <td>2017-11-09</td>\n",
              "      <td>2487</td>\n",
              "      <td>0</td>\n",
              "      <td>0</td>\n",
              "      <td>0</td>\n",
              "      <td>73459579</td>\n",
              "      <td>34774</td>\n",
              "    </tr>\n",
              "  </tbody>\n",
              "</table>\n",
              "</div>"
            ],
            "text/plain": [
              "        start  counts  answer  answer_diff  answered  article_id  votes\n",
              "0  2017-11-11    9623       0            0         0   348559310  85074\n",
              "1  2017-09-05    5952       0            0         0    38414241  48808\n",
              "2  2018-01-11    3368       0            0         0   291069195  44570\n",
              "3  2018-02-06    2631       0            0         0   342371897  83038\n",
              "4  2017-11-09    2487       0            0         0    73459579  34774"
            ]
          },
          "metadata": {
            "tags": []
          },
          "execution_count": 89
        }
      ]
    },
    {
      "cell_type": "markdown",
      "metadata": {
        "id": "d1gDjOeepdk9",
        "colab_type": "text"
      },
      "source": [
        "# 시계열 데이터 보기\n",
        "+ 월별 청원수를 집계 해보자"
      ]
    },
    {
      "cell_type": "code",
      "metadata": {
        "colab_type": "code",
        "id": "Kv_FI9-qsRDD",
        "colab": {}
      },
      "source": [
        "import datetime\n",
        "dt = datetime.datetime.now()"
      ],
      "execution_count": 0,
      "outputs": []
    },
    {
      "cell_type": "code",
      "metadata": {
        "id": "nB0ZA4uYrdGy",
        "colab_type": "code",
        "colab": {}
      },
      "source": [
        "df['start_month'] = df['start'].dt.month\n",
        "df['start_day'] = df['start'].dt.day\n",
        "df['start_hour'] = df['start'].dt.hour\n",
        "df['start_dow'] = df['start'].dt.dayofweek # 요일을 숫자로 반환해준다"
      ],
      "execution_count": 0,
      "outputs": []
    },
    {
      "cell_type": "code",
      "metadata": {
        "id": "L5QfawI6q2gP",
        "colab_type": "code",
        "outputId": "fd6af4d1-7505-476c-dbd5-80ee8e4a3c0a",
        "colab": {
          "base_uri": "https://localhost:8080/",
          "height": 230
        }
      },
      "source": [
        "# df['start_dow'].head()\n",
        "df['start_hour']"
      ],
      "execution_count": 0,
      "outputs": [
        {
          "output_type": "execute_result",
          "data": {
            "text/plain": [
              "0         0\n",
              "1         0\n",
              "2         0\n",
              "3         0\n",
              "4         0\n",
              "         ..\n",
              "395542    0\n",
              "395543    0\n",
              "395544    0\n",
              "395545    0\n",
              "395546    0\n",
              "Name: start_hour, Length: 395547, dtype: int64"
            ]
          },
          "metadata": {
            "tags": []
          },
          "execution_count": 115
        }
      ]
    },
    {
      "cell_type": "code",
      "metadata": {
        "id": "BM_1ZRo0sqNF",
        "colab_type": "code",
        "outputId": "d9bcf3ae-6d96-484c-bdf5-f088a42eaa86",
        "colab": {
          "base_uri": "https://localhost:8080/",
          "height": 248
        }
      },
      "source": [
        "df['start_month'].value_counts() # 청원이 가장 많이 들어온 달을 알 수 있음."
      ],
      "execution_count": 0,
      "outputs": [
        {
          "output_type": "execute_result",
          "data": {
            "text/plain": [
              "1     52941\n",
              "11    52847\n",
              "9     40888\n",
              "12    38498\n",
              "10    31687\n",
              "8     28851\n",
              "2     28117\n",
              "7     25714\n",
              "5     25499\n",
              "6     25483\n",
              "4     23227\n",
              "3     21795\n",
              "Name: start_month, dtype: int64"
            ]
          },
          "metadata": {
            "tags": []
          },
          "execution_count": 116
        }
      ]
    },
    {
      "cell_type": "markdown",
      "metadata": {
        "id": "ekC5I-jRvYp-",
        "colab_type": "text"
      },
      "source": [
        "# 특정 단어 들어가는 청원을 찾아보세요."
      ]
    },
    {
      "cell_type": "code",
      "metadata": {
        "id": "XBUxWEVWt0KV",
        "colab_type": "code",
        "colab": {}
      },
      "source": [
        "crypto = df[(df.title.str.find('가상화폐') != -1) | (df.content.str.find('가상화폐') != -1)]"
      ],
      "execution_count": 0,
      "outputs": []
    },
    {
      "cell_type": "code",
      "metadata": {
        "id": "jKe9O_2muN8Y",
        "colab_type": "code",
        "outputId": "52063869-90e3-4c82-a32e-38cf5c4262a3",
        "colab": {
          "base_uri": "https://localhost:8080/",
          "height": 35
        }
      },
      "source": [
        "crypto.shape"
      ],
      "execution_count": 0,
      "outputs": [
        {
          "output_type": "execute_result",
          "data": {
            "text/plain": [
              "(7921, 12)"
            ]
          },
          "metadata": {
            "tags": []
          },
          "execution_count": 123
        }
      ]
    },
    {
      "cell_type": "code",
      "metadata": {
        "id": "sdbfrry6uqB7",
        "colab_type": "code",
        "outputId": "6959869c-53f1-4f02-da57-cab32633cb2c",
        "colab": {
          "base_uri": "https://localhost:8080/",
          "height": 337
        }
      },
      "source": [
        "crypto['category'].value_counts()"
      ],
      "execution_count": 0,
      "outputs": [
        {
          "output_type": "execute_result",
          "data": {
            "text/plain": [
              "경제민주화          1970\n",
              "미래             1900\n",
              "성장동력           1409\n",
              "기타             1024\n",
              "정치개혁            882\n",
              "행정              350\n",
              "일자리             113\n",
              "인권/성평등           65\n",
              "안전/환경            56\n",
              "외교/통일/국방         44\n",
              "교통/건축/국토         40\n",
              "문화/예술/체육/언론      29\n",
              "보건복지             16\n",
              "저출산/고령화대책         8\n",
              "육아/교육             8\n",
              "반려동물              5\n",
              "농산어촌              2\n",
              "Name: category, dtype: int64"
            ]
          },
          "metadata": {
            "tags": []
          },
          "execution_count": 126
        }
      ]
    },
    {
      "cell_type": "code",
      "metadata": {
        "id": "DbOVXSNLvSOH",
        "colab_type": "code",
        "colab": {}
      },
      "source": [
        "import re"
      ],
      "execution_count": 0,
      "outputs": []
    },
    {
      "cell_type": "code",
      "metadata": {
        "id": "hINEP-QoxPDn",
        "colab_type": "code",
        "colab": {}
      },
      "source": [
        "p = r'.*(돌봄|아이|초등|보육).*'"
      ],
      "execution_count": 0,
      "outputs": []
    },
    {
      "cell_type": "code",
      "metadata": {
        "id": "YSBbp6RdyAuC",
        "colab_type": "code",
        "colab": {}
      },
      "source": [
        "# MUMULTILINE 각라인의 첫번째를 인식시킨다.(출처 : https://wikidocs.net/4308#multiline-m)\n",
        "# 정규표현식 ^ 에 대한 개념을 익히자.\n",
        "care = df[df['title'].str.match(p) | df['content'].str.match(p, flags=re.MULTILINE)]"
      ],
      "execution_count": 0,
      "outputs": []
    }
  ]
}