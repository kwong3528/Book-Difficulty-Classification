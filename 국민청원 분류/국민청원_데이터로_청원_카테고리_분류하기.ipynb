{
  "nbformat": 4,
  "nbformat_minor": 0,
  "metadata": {
    "colab": {
      "name": "국민청원 데이터로 청원 카테고리 분류하기.ipynb",
      "provenance": [],
      "collapsed_sections": []
    },
    "kernelspec": {
      "name": "python3",
      "display_name": "Python 3"
    },
    "accelerator": "GPU"
  },
  "cells": [
    {
      "cell_type": "code",
      "metadata": {
        "id": "6cSRzf_Ff6NH",
        "colab_type": "code",
        "colab": {
          "base_uri": "https://localhost:8080/",
          "height": 71
        },
        "outputId": "333bf05a-3619-40bd-c82a-f5bb566f4e23"
      },
      "source": [
        "%config InlineBackend.figure_format = 'retina'\n",
        "!apt -qq -y install fonts-nanum > /dev/null"
      ],
      "execution_count": 1,
      "outputs": [
        {
          "output_type": "stream",
          "text": [
            "\n",
            "WARNING: apt does not have a stable CLI interface. Use with caution in scripts.\n",
            "\n"
          ],
          "name": "stdout"
        }
      ]
    },
    {
      "cell_type": "code",
      "metadata": {
        "id": "GKBLE9Rlf6Gm",
        "colab_type": "code",
        "colab": {}
      },
      "source": [
        "import matplotlib.font_manager as fm\n",
        "fontpath = '/usr/share/fonts/truetype/nanum/NanumBarunGothic.ttf'\n",
        "font = fm.FontProperties(fname=fontpath, size=9)"
      ],
      "execution_count": 0,
      "outputs": []
    },
    {
      "cell_type": "code",
      "metadata": {
        "id": "KOzwmBq9f503",
        "colab_type": "code",
        "colab": {}
      },
      "source": [
        "#기본 글꼴 변경\n",
        "import matplotlib as mpl\n",
        "mpl.font_manager._rebuild()\n",
        "mpl.pyplot.rc('font', family='NanumBarunGothic')"
      ],
      "execution_count": 0,
      "outputs": []
    },
    {
      "cell_type": "markdown",
      "metadata": {
        "id": "TnR9kTD4Xt4E",
        "colab_type": "text"
      },
      "source": [
        "1. 학습세트와 테스트세트를 7:3으로 임의로 나누기\n",
        "1. 데이터 전처리\n",
        "1. 단어 벡터화(BOW, TF-IDF)\n",
        "1. 분류기 설정하기(Random Forest)\n",
        "1. 분류기로 학습시키기\n",
        "1. 학습의 정확도 보기\n",
        "1. 테스트 데이터 예측하기\n",
        "1. 실제 데이터와 예측결과의 차이를 보기"
      ]
    },
    {
      "cell_type": "code",
      "metadata": {
        "id": "jNHjL_GmX30g",
        "colab_type": "code",
        "colab": {}
      },
      "source": [
        "import pandas as pd\n",
        "import numpy as np\n",
        "import re"
      ],
      "execution_count": 0,
      "outputs": []
    },
    {
      "cell_type": "code",
      "metadata": {
        "id": "1wiXdk3UXWsI",
        "colab_type": "code",
        "colab": {}
      },
      "source": [
        "petitions = pd.read_csv(\"/content/drive/My Drive/colab/국민청원 데이터 분석/DATA/petition.csv\", parse_dates=['start','end'])"
      ],
      "execution_count": 0,
      "outputs": []
    },
    {
      "cell_type": "code",
      "metadata": {
        "id": "34m_Pi2ZXoie",
        "colab_type": "code",
        "colab": {
          "base_uri": "https://localhost:8080/",
          "height": 251
        },
        "collapsed": true,
        "outputId": "36f080b4-789d-4db9-b4cf-2bc5f8623dd3"
      },
      "source": [
        "petitions.info()"
      ],
      "execution_count": 5,
      "outputs": [
        {
          "output_type": "stream",
          "text": [
            "<class 'pandas.core.frame.DataFrame'>\n",
            "RangeIndex: 395547 entries, 0 to 395546\n",
            "Data columns (total 8 columns):\n",
            "article_id    395547 non-null int64\n",
            "start         395547 non-null datetime64[ns]\n",
            "end           395547 non-null datetime64[ns]\n",
            "answered      395547 non-null int64\n",
            "votes         395547 non-null int64\n",
            "category      395547 non-null object\n",
            "title         395547 non-null object\n",
            "content       395546 non-null object\n",
            "dtypes: datetime64[ns](2), int64(3), object(3)\n",
            "memory usage: 24.1+ MB\n"
          ],
          "name": "stdout"
        }
      ]
    },
    {
      "cell_type": "code",
      "metadata": {
        "id": "OauTCNGGYHXW",
        "colab_type": "code",
        "colab": {
          "base_uri": "https://localhost:8080/",
          "height": 297
        },
        "collapsed": true,
        "outputId": "33fd2488-e709-4c92-b7b5-1a99e536f50a"
      },
      "source": [
        "petitions.describe()"
      ],
      "execution_count": 6,
      "outputs": [
        {
          "output_type": "execute_result",
          "data": {
            "text/html": [
              "<div>\n",
              "<style scoped>\n",
              "    .dataframe tbody tr th:only-of-type {\n",
              "        vertical-align: middle;\n",
              "    }\n",
              "\n",
              "    .dataframe tbody tr th {\n",
              "        vertical-align: top;\n",
              "    }\n",
              "\n",
              "    .dataframe thead th {\n",
              "        text-align: right;\n",
              "    }\n",
              "</style>\n",
              "<table border=\"1\" class=\"dataframe\">\n",
              "  <thead>\n",
              "    <tr style=\"text-align: right;\">\n",
              "      <th></th>\n",
              "      <th>article_id</th>\n",
              "      <th>answered</th>\n",
              "      <th>votes</th>\n",
              "    </tr>\n",
              "  </thead>\n",
              "  <tbody>\n",
              "    <tr>\n",
              "      <th>count</th>\n",
              "      <td>395547.000000</td>\n",
              "      <td>395547.000000</td>\n",
              "      <td>3.955470e+05</td>\n",
              "    </tr>\n",
              "    <tr>\n",
              "      <th>mean</th>\n",
              "      <td>251608.934635</td>\n",
              "      <td>0.000073</td>\n",
              "      <td>1.501188e+02</td>\n",
              "    </tr>\n",
              "    <tr>\n",
              "      <th>std</th>\n",
              "      <td>153219.216242</td>\n",
              "      <td>0.008562</td>\n",
              "      <td>4.802583e+03</td>\n",
              "    </tr>\n",
              "    <tr>\n",
              "      <th>min</th>\n",
              "      <td>21.000000</td>\n",
              "      <td>0.000000</td>\n",
              "      <td>0.000000e+00</td>\n",
              "    </tr>\n",
              "    <tr>\n",
              "      <th>25%</th>\n",
              "      <td>115236.500000</td>\n",
              "      <td>0.000000</td>\n",
              "      <td>2.000000e+00</td>\n",
              "    </tr>\n",
              "    <tr>\n",
              "      <th>50%</th>\n",
              "      <td>253682.000000</td>\n",
              "      <td>0.000000</td>\n",
              "      <td>5.000000e+00</td>\n",
              "    </tr>\n",
              "    <tr>\n",
              "      <th>75%</th>\n",
              "      <td>386137.500000</td>\n",
              "      <td>0.000000</td>\n",
              "      <td>1.500000e+01</td>\n",
              "    </tr>\n",
              "    <tr>\n",
              "      <th>max</th>\n",
              "      <td>517122.000000</td>\n",
              "      <td>1.000000</td>\n",
              "      <td>1.192049e+06</td>\n",
              "    </tr>\n",
              "  </tbody>\n",
              "</table>\n",
              "</div>"
            ],
            "text/plain": [
              "          article_id       answered         votes\n",
              "count  395547.000000  395547.000000  3.955470e+05\n",
              "mean   251608.934635       0.000073  1.501188e+02\n",
              "std    153219.216242       0.008562  4.802583e+03\n",
              "min        21.000000       0.000000  0.000000e+00\n",
              "25%    115236.500000       0.000000  2.000000e+00\n",
              "50%    253682.000000       0.000000  5.000000e+00\n",
              "75%    386137.500000       0.000000  1.500000e+01\n",
              "max    517122.000000       1.000000  1.192049e+06"
            ]
          },
          "metadata": {
            "tags": []
          },
          "execution_count": 6
        }
      ]
    },
    {
      "cell_type": "code",
      "metadata": {
        "id": "J07dO-dIYRxG",
        "colab_type": "code",
        "colab": {}
      },
      "source": [
        "# 전체 데이터 중 투표가 500건 이상인 데이터를 기준으로 가져옵니다.\n",
        "df = petitions.loc[(petitions['votes'] > 500)].copy()"
      ],
      "execution_count": 0,
      "outputs": []
    },
    {
      "cell_type": "code",
      "metadata": {
        "id": "G7SIFpERbeGn",
        "colab_type": "code",
        "colab": {
          "base_uri": "https://localhost:8080/",
          "height": 204
        },
        "outputId": "57bf06ce-21ad-4273-ddd7-c4c1142f7f71"
      },
      "source": [
        "df.head()"
      ],
      "execution_count": 8,
      "outputs": [
        {
          "output_type": "execute_result",
          "data": {
            "text/html": [
              "<div>\n",
              "<style scoped>\n",
              "    .dataframe tbody tr th:only-of-type {\n",
              "        vertical-align: middle;\n",
              "    }\n",
              "\n",
              "    .dataframe tbody tr th {\n",
              "        vertical-align: top;\n",
              "    }\n",
              "\n",
              "    .dataframe thead th {\n",
              "        text-align: right;\n",
              "    }\n",
              "</style>\n",
              "<table border=\"1\" class=\"dataframe\">\n",
              "  <thead>\n",
              "    <tr style=\"text-align: right;\">\n",
              "      <th></th>\n",
              "      <th>article_id</th>\n",
              "      <th>start</th>\n",
              "      <th>end</th>\n",
              "      <th>answered</th>\n",
              "      <th>votes</th>\n",
              "      <th>category</th>\n",
              "      <th>title</th>\n",
              "      <th>content</th>\n",
              "    </tr>\n",
              "  </thead>\n",
              "  <tbody>\n",
              "    <tr>\n",
              "      <th>7</th>\n",
              "      <td>28</td>\n",
              "      <td>2017-08-19</td>\n",
              "      <td>2017-08-26</td>\n",
              "      <td>0</td>\n",
              "      <td>2137</td>\n",
              "      <td>경제민주화</td>\n",
              "      <td>소액주주를 보호해주십시오</td>\n",
              "      <td>**  존경하옵는 문재인대통령님께\\n저는 중국원양자원이라는 KOSPI상장사의 소액 ...</td>\n",
              "    </tr>\n",
              "    <tr>\n",
              "      <th>13</th>\n",
              "      <td>34</td>\n",
              "      <td>2017-08-19</td>\n",
              "      <td>2017-09-18</td>\n",
              "      <td>0</td>\n",
              "      <td>679</td>\n",
              "      <td>기타</td>\n",
              "      <td>『국가유공자 등 예우 및 지원에 관한법률』상「6.25전몰군경 자녀수당」의 불합리한 ...</td>\n",
              "      <td>(현황)\\n우리들 아버지께서는 67여년전 북의 남침으로 조국이 위기에 처했을 때 젊...</td>\n",
              "    </tr>\n",
              "    <tr>\n",
              "      <th>21</th>\n",
              "      <td>43</td>\n",
              "      <td>2017-08-19</td>\n",
              "      <td>2017-09-18</td>\n",
              "      <td>0</td>\n",
              "      <td>11293</td>\n",
              "      <td>육아/교육</td>\n",
              "      <td>기간제 교사의 정규직화를 반대합니다.</td>\n",
              "      <td>대통령님, 안녕하세요. 저는 임용을 준비하고 수험생입니다. 처음 기간제 정규직화 된...</td>\n",
              "    </tr>\n",
              "    <tr>\n",
              "      <th>24</th>\n",
              "      <td>46</td>\n",
              "      <td>2017-08-19</td>\n",
              "      <td>2017-09-18</td>\n",
              "      <td>0</td>\n",
              "      <td>1933</td>\n",
              "      <td>육아/교육</td>\n",
              "      <td>기간제교사의 정규직화를 반대합니다.</td>\n",
              "      <td>대통령님, 안녕하세요. 저는 임용을 준비하고 수험생입니다. 처음 기간제 정규직화 된...</td>\n",
              "    </tr>\n",
              "    <tr>\n",
              "      <th>28</th>\n",
              "      <td>50</td>\n",
              "      <td>2017-08-19</td>\n",
              "      <td>2017-10-18</td>\n",
              "      <td>0</td>\n",
              "      <td>1251</td>\n",
              "      <td>일자리</td>\n",
              "      <td>치과위생사 국가고시 날짜 변경 억울합니다</td>\n",
              "      <td>안녕하십니까? 대통령님 간단하게 제소개 부터 하겠습니다. 저는 치위생과 3학년 학생...</td>\n",
              "    </tr>\n",
              "  </tbody>\n",
              "</table>\n",
              "</div>"
            ],
            "text/plain": [
              "    article_id  ...                                            content\n",
              "7           28  ...  **  존경하옵는 문재인대통령님께\\n저는 중국원양자원이라는 KOSPI상장사의 소액 ...\n",
              "13          34  ...  (현황)\\n우리들 아버지께서는 67여년전 북의 남침으로 조국이 위기에 처했을 때 젊...\n",
              "21          43  ...  대통령님, 안녕하세요. 저는 임용을 준비하고 수험생입니다. 처음 기간제 정규직화 된...\n",
              "24          46  ...  대통령님, 안녕하세요. 저는 임용을 준비하고 수험생입니다. 처음 기간제 정규직화 된...\n",
              "28          50  ...  안녕하십니까? 대통령님 간단하게 제소개 부터 하겠습니다. 저는 치위생과 3학년 학생...\n",
              "\n",
              "[5 rows x 8 columns]"
            ]
          },
          "metadata": {
            "tags": []
          },
          "execution_count": 8
        }
      ]
    },
    {
      "cell_type": "code",
      "metadata": {
        "id": "EuJFEkcsberW",
        "colab_type": "code",
        "colab": {}
      },
      "source": [
        "category_count = df.category.value_counts()"
      ],
      "execution_count": 0,
      "outputs": []
    },
    {
      "cell_type": "code",
      "metadata": {
        "id": "Qm_GDo0Yb172",
        "colab_type": "code",
        "colab": {
          "base_uri": "https://localhost:8080/",
          "height": 341
        },
        "outputId": "8982ddb2-8669-43ef-a213-616eba45a1b1"
      },
      "source": [
        "category_count"
      ],
      "execution_count": 10,
      "outputs": [
        {
          "output_type": "execute_result",
          "data": {
            "text/plain": [
              "인권/성평등         699\n",
              "육아/교육          606\n",
              "안전/환경          526\n",
              "교통/건축/국토       503\n",
              "보건복지           492\n",
              "정치개혁           466\n",
              "기타             444\n",
              "문화/예술/체육/언론    308\n",
              "행정             264\n",
              "외교/통일/국방       261\n",
              "일자리            250\n",
              "경제민주화          191\n",
              "반려동물           160\n",
              "미래              86\n",
              "성장동력            52\n",
              "저출산/고령화대책       44\n",
              "농산어촌            36\n",
              "Name: category, dtype: int64"
            ]
          },
          "metadata": {
            "tags": []
          },
          "execution_count": 10
        }
      ]
    },
    {
      "cell_type": "code",
      "metadata": {
        "id": "QtdDxspbb3Vm",
        "colab_type": "code",
        "colab": {
          "base_uri": "https://localhost:8080/",
          "height": 35
        },
        "outputId": "85daf468-db00-431b-f469-481a977beecc"
      },
      "source": [
        "len(df['category'].unique())"
      ],
      "execution_count": 11,
      "outputs": [
        {
          "output_type": "execute_result",
          "data": {
            "text/plain": [
              "17"
            ]
          },
          "metadata": {
            "tags": []
          },
          "execution_count": 11
        }
      ]
    },
    {
      "cell_type": "code",
      "metadata": {
        "id": "yDMMJ2UNcAU-",
        "colab_type": "code",
        "colab": {
          "base_uri": "https://localhost:8080/",
          "height": 358
        },
        "collapsed": true,
        "outputId": "6742c962-eed2-4e2e-8182-c5a3c8b8eef5"
      },
      "source": [
        "%matplotlib inline\n",
        "import matplotlib.pyplot as plt\n",
        "plt.style.use('seaborn-pastel')\n",
        "category_count.plot(kind='bar')"
      ],
      "execution_count": 12,
      "outputs": [
        {
          "output_type": "execute_result",
          "data": {
            "text/plain": [
              "<matplotlib.axes._subplots.AxesSubplot at 0x7f5b77fe9f28>"
            ]
          },
          "metadata": {
            "tags": []
          },
          "execution_count": 12
        },
        {
          "output_type": "display_data",
          "data": {
            "image/png": "[encoded data removed]",
            "text/plain": [
              "<Figure size 432x288 with 1 Axes>"
            ]
          },
          "metadata": {
            "tags": []
          }
        }
      ]
    },
    {
      "cell_type": "code",
      "metadata": {
        "id": "RacqSHc4gCS_",
        "colab_type": "code",
        "colab": {}
      },
      "source": [
        "df = df[(df['category'] == '인권/성평등') |\n",
        "        (df['category'] == '육아/교육') |\n",
        "        (df['category'] == '문화/예술/체육/언론') |\n",
        "        (df['category'] == '정치개혁')]"
      ],
      "execution_count": 0,
      "outputs": []
    },
    {
      "cell_type": "code",
      "metadata": {
        "id": "Ue5hNU-QqM8f",
        "colab_type": "code",
        "colab": {}
      },
      "source": [
        "category_count = df['category'].value_counts()"
      ],
      "execution_count": 0,
      "outputs": []
    },
    {
      "cell_type": "code",
      "metadata": {
        "id": "uMBBJ5QEqrVu",
        "colab_type": "code",
        "colab": {
          "base_uri": "https://localhost:8080/",
          "height": 358
        },
        "outputId": "1fc41996-9724-4b31-f05f-b79aba6b076f"
      },
      "source": [
        "category_count.plot(kind='bar')"
      ],
      "execution_count": 15,
      "outputs": [
        {
          "output_type": "execute_result",
          "data": {
            "text/plain": [
              "<matplotlib.axes._subplots.AxesSubplot at 0x7f5b747ea630>"
            ]
          },
          "metadata": {
            "tags": []
          },
          "execution_count": 15
        },
        {
          "output_type": "display_data",
          "data": {
            "image/png": "[encoded data removed]",
            "text/plain": [
              "<Figure size 432x288 with 1 Axes>"
            ]
          },
          "metadata": {
            "tags": []
          }
        }
      ]
    },
    {
      "cell_type": "code",
      "metadata": {
        "id": "0dDg2bCdrBi4",
        "colab_type": "code",
        "colab": {}
      },
      "source": [
        "# 예측값과 실제값 비교를 위해 컬럼을 하나 더 생성합니다.\n",
        "df['category_pred'] = df['category'].copy()"
      ],
      "execution_count": 0,
      "outputs": []
    },
    {
      "cell_type": "code",
      "metadata": {
        "id": "zZaFmcy6rNs_",
        "colab_type": "code",
        "colab": {}
      },
      "source": [
        "sample_index = df.iloc[0].name"
      ],
      "execution_count": 0,
      "outputs": []
    },
    {
      "cell_type": "code",
      "metadata": {
        "id": "wNF41A89rYzm",
        "colab_type": "code",
        "colab": {}
      },
      "source": [
        "sample_title = df.loc[sample_index, 'title']"
      ],
      "execution_count": 0,
      "outputs": []
    },
    {
      "cell_type": "code",
      "metadata": {
        "id": "wkO5bZEdrqf8",
        "colab_type": "code",
        "colab": {}
      },
      "source": [
        "sample_content = petitions['content'][sample_index]"
      ],
      "execution_count": 0,
      "outputs": []
    },
    {
      "cell_type": "markdown",
      "metadata": {
        "id": "ntFDcey-sQuf",
        "colab_type": "text"
      },
      "source": [
        "# 전처리 하기\n",
        "+ 특수문자 제거\n",
        "+ 개행문자 제거\n",
        "+ 불용어 처리"
      ]
    },
    {
      "cell_type": "code",
      "metadata": {
        "id": "r2S5V4UFsaWB",
        "colab_type": "code",
        "colab": {}
      },
      "source": [
        "def preprocessing(text):\n",
        "    # 개행문자 제거\n",
        "    text= str(text)\n",
        "    text = re.sub('\\\\\\\\n', ' ', text)\n",
        "    # 특수문자 제거\n",
        "    # 특수문자나 이모티콘 등은 때로는 의미를 갖기도 하지만 여기에서는 제거했습니다.\n",
        "    # text = re.sub('[?.,;:|\\)*~`’!^\\-_+<>@\\#$%&-=#}※]', '', text)\n",
        "    # 한글, 영문, 숫자만 남기고 모두 제거하도록 합니다.\n",
        "    # text = re.sub('[^가-힣ㄱ-ㅎㅏ-ㅣa-zA-Z0-9]', ' ', text)\n",
        "    # 한글, 영문만 남기고 모두 제거하도록 합니다.\n",
        "    # text = re.sub('[^가-힣ㄱ-ㅎㅏ-ㅣa-zA-Z]', ' ', text)\n",
        "    text = re.sub('[^가-힣ㄱ-ㅎㅏ-ㅣ]', ' ', text)\n",
        "    return text"
      ],
      "execution_count": 0,
      "outputs": []
    },
    {
      "cell_type": "code",
      "metadata": {
        "id": "qky2BWrksrGH",
        "colab_type": "code",
        "colab": {}
      },
      "source": [
        "#불용어 제거\n",
        "# 불용어 제거\n",
        "def remove_stopwords(text):\n",
        "    tokens = text.split(' ')\n",
        "    stops = ['수', '현', '있는', '있습니다', '그', '년도', '합니다', '하는', '및', '제', '할', '하고', '더', '대한', '한', '그리고', '월', '저는', '없는', '입니다', '등', '일', '많은', '이런', '것은', '왜','같은', '같습니다', '없습니다', '위해', '한다']\n",
        "    meaningful_words = [w for w in tokens if not w in stops]\n",
        "    return ' '.join(meaningful_words)"
      ],
      "execution_count": 0,
      "outputs": []
    },
    {
      "cell_type": "markdown",
      "metadata": {
        "id": "B54fr4wntOC3",
        "colab_type": "text"
      },
      "source": [
        "# 샘플 데이터에 먼저 적용해보기"
      ]
    },
    {
      "cell_type": "code",
      "metadata": {
        "id": "6a6EyMfStfpF",
        "colab_type": "code",
        "colab": {}
      },
      "source": [
        "pre_sample_content = preprocessing(sample_content)"
      ],
      "execution_count": 0,
      "outputs": []
    },
    {
      "cell_type": "code",
      "metadata": {
        "id": "DPIDgLbutjb6",
        "colab_type": "code",
        "colab": {}
      },
      "source": [
        "pre_sample_content = remove_stopwords(pre_sample_content)"
      ],
      "execution_count": 0,
      "outputs": []
    },
    {
      "cell_type": "code",
      "metadata": {
        "id": "Dlsr1SR1tnAm",
        "colab_type": "code",
        "colab": {
          "base_uri": "https://localhost:8080/",
          "height": 55
        },
        "outputId": "48f4f365-7d27-465b-ef69-eee18c4e9c2c"
      },
      "source": [
        "pre_sample_content"
      ],
      "execution_count": 24,
      "outputs": [
        {
          "output_type": "execute_result",
          "data": {
            "text/plain": [
              "'대통령님  안녕하세요  임용을 준비하고 수험생입니다  처음 기간제 정규직화 된다고 했을 때  공채 채용과정이 있는데  설마 그러겠어라고 생각하고 있었습니다  기간제는 채용과정이 공개채용에 비해 불투명하고  아이들을 가르칠 전문성이 떨어지는데  어떻게 된다는 거지  그런 생각이라 사실 그냥 뜬 소문이라고 생각했습니다  수년간 임용을 준비하는 수험생으로서  여러 기회비용을 포기하고  오로지 교단에서 서서 아이들에게 내가 알고 지식을 제대로 가르치겠다는 신념으로 공부해왔습니다  그런데 오늘 보니 기간제가 정규직화되는 것이 거의 확정적으로 되는 것같아  사실 너무 상대적 허탈감을 느낍니다  기간제 선생님들은 임용고시를 일단 보류해두고 현장에 나아간 것이고  임용 준비생은 일단 임용고시 합격을 목표로 한해 기회비용까지 써가면서 공부하는 것이니까요  그래서 전문적인 지식을 갖추고 임용수험생들이 현장에 일하지 않았다는 이유로 기간제 교사에게 기회까지 박탈당하면서 자리를 내주어야 하나 의구심이 듭니다  존경하는 대통령님 기간제 정규직화 다시 한번 생각해주시기 바랍니다  양질의 아이들에게 교육을 제공하기 위해서라도  기간제 정규직화는 안됩니다  똑같은 기회의 평등을 제공해주십시오  전문적인 지식을 갖추고 열심히 노력한 임고생이 단지 현장을 경험하지 않았다는 이유만으로 역차별을 당하는 일은 없어야  미래의 아이들을 가르칠 인력  다시 한번 심사숙고해주시길 바랍니다  나라를 이끌어갈 인재를 양성하는 곳입니다  제발  다시한번 시사숙고 해주시길 바랍니다  사대와 교대를 폐지하고 로스쿨화시킨다고 글을 카페에서 읽었습니다  제발 사실이 아니길 기도합니다  현대판 음서제를 시행하는 것이라고 비판하더라군요  또한 교육개혁에 교사의 지방직화라는 글을 들었습니다  처음에는 그냥 설마겠거니 했습니다  그런데 점차그렇게 흘러가는 것 같더군요  나라의 재정이 어려워  공무원 연금을 삭감하기 기간제를 무기계약직으로 채용하는 것이라면  그게 시작이라면 어쩔 없다고 생각합니다  하지만 의원님  교육의 질을 먼저 생각해주세요  기간제와 임용고시 준비생은 처음부터 선택이 달랐다는 것을    기간제는 임용고시를 일단 보류해두고 현장에 나아간 것이고  임용고시생은 공개전형을 통해 합격하고 현장에 나아가기 기회비용을 써가면 힘들게 공부하고 있다는 것을요   제가 종합적으로 살펴봤을 때  결국 어려운 환경에서 잘하는 아이들은 지금과 임용고시라는 제도를 통해 채용된 교사들로부터 양질의 교육을 제공받을 없게 되는 거더군요  교육은 국가를 키울 미래의 아이들을 양성하는 중요한 부분입니다  부디 기간제 교사의 무기직 전환을 꼭 막아주십시오  형평성을 고려하고  설사 기간제 교사의 무기직 전환은 열심히 노력하는 임용고시생에게 역차별입니다  꼭 다시 한번 생각해주십시오  긴 글 읽어주셔서 감사합니다 '"
            ]
          },
          "metadata": {
            "tags": []
          },
          "execution_count": 24
        }
      ]
    },
    {
      "cell_type": "markdown",
      "metadata": {
        "id": "OZSHF7_OtnT2",
        "colab_type": "text"
      },
      "source": [
        "# 전체 데이터에 적용하기"
      ]
    },
    {
      "cell_type": "code",
      "metadata": {
        "id": "fDJlA00_tqoh",
        "colab_type": "code",
        "colab": {
          "base_uri": "https://localhost:8080/",
          "height": 53
        },
        "outputId": "d00c0a28-fdfb-4d3e-f63b-c44e028421f3"
      },
      "source": [
        "%time df['content_preprocessing'] = df['content'].apply(preprocessing)"
      ],
      "execution_count": 98,
      "outputs": [
        {
          "output_type": "stream",
          "text": [
            "CPU times: user 150 ms, sys: 1.95 ms, total: 152 ms\n",
            "Wall time: 155 ms\n"
          ],
          "name": "stdout"
        }
      ]
    },
    {
      "cell_type": "code",
      "metadata": {
        "id": "fWxw2nRkid26",
        "colab_type": "code",
        "colab": {
          "base_uri": "https://localhost:8080/",
          "height": 53
        },
        "outputId": "33ac2437-151c-4a3c-880d-42771c691e77"
      },
      "source": [
        "%time df['content_preprocessing'] = df['content_preprocessing'].apply(remove_stopwords)"
      ],
      "execution_count": 99,
      "outputs": [
        {
          "output_type": "stream",
          "text": [
            "CPU times: user 276 ms, sys: 2.99 ms, total: 279 ms\n",
            "Wall time: 282 ms\n"
          ],
          "name": "stdout"
        }
      ]
    },
    {
      "cell_type": "code",
      "metadata": {
        "id": "hBqxFqx8i3Ig",
        "colab_type": "code",
        "colab": {}
      },
      "source": [
        "df = df.reindex()"
      ],
      "execution_count": 0,
      "outputs": []
    },
    {
      "cell_type": "code",
      "metadata": {
        "id": "2bUK9Zfbi6l-",
        "colab_type": "code",
        "colab": {
          "base_uri": "https://localhost:8080/",
          "height": 35
        },
        "outputId": "8d9cb2a4-92d9-4f57-818a-5ab72a03d6c8"
      },
      "source": [
        "df.shape"
      ],
      "execution_count": 101,
      "outputs": [
        {
          "output_type": "execute_result",
          "data": {
            "text/plain": [
              "(2079, 10)"
            ]
          },
          "metadata": {
            "tags": []
          },
          "execution_count": 101
        }
      ]
    },
    {
      "cell_type": "code",
      "metadata": {
        "id": "NmBJz9F4jC1d",
        "colab_type": "code",
        "colab": {
          "base_uri": "https://localhost:8080/",
          "height": 35
        },
        "outputId": "0d639cbf-0d84-4737-810a-bc6aacbf787a"
      },
      "source": [
        "split_count = int(df.shape[0] * 0.7)\n",
        "split_count"
      ],
      "execution_count": 102,
      "outputs": [
        {
          "output_type": "execute_result",
          "data": {
            "text/plain": [
              "1455"
            ]
          },
          "metadata": {
            "tags": []
          },
          "execution_count": 102
        }
      ]
    },
    {
      "cell_type": "code",
      "metadata": {
        "id": "-hReQGv1jLVO",
        "colab_type": "code",
        "colab": {}
      },
      "source": [
        "df_train = df[:split_count].copy()"
      ],
      "execution_count": 0,
      "outputs": []
    },
    {
      "cell_type": "code",
      "metadata": {
        "id": "KsdncPknjQnc",
        "colab_type": "code",
        "colab": {
          "base_uri": "https://localhost:8080/",
          "height": 35
        },
        "outputId": "550a0632-5696-48ee-dc53-8f0e9b4621c6"
      },
      "source": [
        "df_train.shape"
      ],
      "execution_count": 104,
      "outputs": [
        {
          "output_type": "execute_result",
          "data": {
            "text/plain": [
              "(1455, 10)"
            ]
          },
          "metadata": {
            "tags": []
          },
          "execution_count": 104
        }
      ]
    },
    {
      "cell_type": "code",
      "metadata": {
        "id": "2yC_LfoOjSQc",
        "colab_type": "code",
        "colab": {}
      },
      "source": [
        "df_test = df[split_count:].copy()"
      ],
      "execution_count": 0,
      "outputs": []
    },
    {
      "cell_type": "code",
      "metadata": {
        "id": "_dkD5lTwjXWU",
        "colab_type": "code",
        "colab": {
          "base_uri": "https://localhost:8080/",
          "height": 35
        },
        "outputId": "14dde6ce-62f3-4510-8334-55610caaca90"
      },
      "source": [
        "df_test.shape"
      ],
      "execution_count": 106,
      "outputs": [
        {
          "output_type": "execute_result",
          "data": {
            "text/plain": [
              "(624, 10)"
            ]
          },
          "metadata": {
            "tags": []
          },
          "execution_count": 106
        }
      ]
    },
    {
      "cell_type": "markdown",
      "metadata": {
        "id": "L6N7mZDKjYR8",
        "colab_type": "text"
      },
      "source": [
        "# 카테고리\n",
        "+ 학습 세트의 카테고리 보기"
      ]
    },
    {
      "cell_type": "code",
      "metadata": {
        "id": "jQbQ8yAPjao_",
        "colab_type": "code",
        "colab": {}
      },
      "source": [
        "df_train_category_value = pd.DataFrame(df_train['category'].value_counts())"
      ],
      "execution_count": 0,
      "outputs": []
    },
    {
      "cell_type": "code",
      "metadata": {
        "id": "Jy7PCRW1jlrW",
        "colab_type": "code",
        "colab": {}
      },
      "source": [
        "df_train_category_percent = pd.DataFrame(df_train['category'].value_counts(normalize=True))"
      ],
      "execution_count": 0,
      "outputs": []
    },
    {
      "cell_type": "code",
      "metadata": {
        "id": "nqEEu65GjmxV",
        "colab_type": "code",
        "colab": {}
      },
      "source": [
        "df_train_category = df_train_category_value.merge(df_train_category_percent, left_index=True, right_index=True)"
      ],
      "execution_count": 0,
      "outputs": []
    },
    {
      "cell_type": "code",
      "metadata": {
        "id": "7n0L-degkihG",
        "colab_type": "code",
        "colab": {}
      },
      "source": [
        "df_train_category.columns = ['청원수', '청원비율']"
      ],
      "execution_count": 0,
      "outputs": []
    },
    {
      "cell_type": "code",
      "metadata": {
        "id": "PvqcQ1iukn1l",
        "colab_type": "code",
        "colab": {
          "base_uri": "https://localhost:8080/",
          "height": 173
        },
        "outputId": "643384c0-fd6d-4a1e-d891-eba78915c35f"
      },
      "source": [
        "df_train_category"
      ],
      "execution_count": 111,
      "outputs": [
        {
          "output_type": "execute_result",
          "data": {
            "text/html": [
              "<div>\n",
              "<style scoped>\n",
              "    .dataframe tbody tr th:only-of-type {\n",
              "        vertical-align: middle;\n",
              "    }\n",
              "\n",
              "    .dataframe tbody tr th {\n",
              "        vertical-align: top;\n",
              "    }\n",
              "\n",
              "    .dataframe thead th {\n",
              "        text-align: right;\n",
              "    }\n",
              "</style>\n",
              "<table border=\"1\" class=\"dataframe\">\n",
              "  <thead>\n",
              "    <tr style=\"text-align: right;\">\n",
              "      <th></th>\n",
              "      <th>청원수</th>\n",
              "      <th>청원비율</th>\n",
              "    </tr>\n",
              "  </thead>\n",
              "  <tbody>\n",
              "    <tr>\n",
              "      <th>인권/성평등</th>\n",
              "      <td>468</td>\n",
              "      <td>0.321649</td>\n",
              "    </tr>\n",
              "    <tr>\n",
              "      <th>육아/교육</th>\n",
              "      <td>386</td>\n",
              "      <td>0.265292</td>\n",
              "    </tr>\n",
              "    <tr>\n",
              "      <th>정치개혁</th>\n",
              "      <td>366</td>\n",
              "      <td>0.251546</td>\n",
              "    </tr>\n",
              "    <tr>\n",
              "      <th>문화/예술/체육/언론</th>\n",
              "      <td>235</td>\n",
              "      <td>0.161512</td>\n",
              "    </tr>\n",
              "  </tbody>\n",
              "</table>\n",
              "</div>"
            ],
            "text/plain": [
              "             청원수      청원비율\n",
              "인권/성평등       468  0.321649\n",
              "육아/교육        386  0.265292\n",
              "정치개혁         366  0.251546\n",
              "문화/예술/체육/언론  235  0.161512"
            ]
          },
          "metadata": {
            "tags": []
          },
          "execution_count": 111
        }
      ]
    },
    {
      "cell_type": "code",
      "metadata": {
        "id": "vltDM1eHksL9",
        "colab_type": "code",
        "colab": {}
      },
      "source": [
        "df_test_category_value = pd.DataFrame(df_test['category'].value_counts())"
      ],
      "execution_count": 0,
      "outputs": []
    },
    {
      "cell_type": "code",
      "metadata": {
        "id": "sLPCd5kTk5DP",
        "colab_type": "code",
        "colab": {}
      },
      "source": [
        "df_test_category_percent = pd.DataFrame(df_test['category'].value_counts(normalize=True))"
      ],
      "execution_count": 0,
      "outputs": []
    },
    {
      "cell_type": "code",
      "metadata": {
        "id": "IqkysTDfk56k",
        "colab_type": "code",
        "colab": {}
      },
      "source": [
        "df_test_category = df_test_category_value.merge(df_test_category_percent,left_index=True, right_index=True)"
      ],
      "execution_count": 0,
      "outputs": []
    },
    {
      "cell_type": "code",
      "metadata": {
        "id": "hGpDWZ8rlHR-",
        "colab_type": "code",
        "colab": {}
      },
      "source": [
        "df_test_category.columns = ['청원수','청원비율']"
      ],
      "execution_count": 0,
      "outputs": []
    },
    {
      "cell_type": "code",
      "metadata": {
        "id": "O5WtdQqxlamY",
        "colab_type": "code",
        "colab": {
          "base_uri": "https://localhost:8080/",
          "height": 173
        },
        "outputId": "c1c83c23-1360-4d0a-cba7-0c43c826c272"
      },
      "source": [
        "df_test_category"
      ],
      "execution_count": 116,
      "outputs": [
        {
          "output_type": "execute_result",
          "data": {
            "text/html": [
              "<div>\n",
              "<style scoped>\n",
              "    .dataframe tbody tr th:only-of-type {\n",
              "        vertical-align: middle;\n",
              "    }\n",
              "\n",
              "    .dataframe tbody tr th {\n",
              "        vertical-align: top;\n",
              "    }\n",
              "\n",
              "    .dataframe thead th {\n",
              "        text-align: right;\n",
              "    }\n",
              "</style>\n",
              "<table border=\"1\" class=\"dataframe\">\n",
              "  <thead>\n",
              "    <tr style=\"text-align: right;\">\n",
              "      <th></th>\n",
              "      <th>청원수</th>\n",
              "      <th>청원비율</th>\n",
              "    </tr>\n",
              "  </thead>\n",
              "  <tbody>\n",
              "    <tr>\n",
              "      <th>인권/성평등</th>\n",
              "      <td>231</td>\n",
              "      <td>0.370192</td>\n",
              "    </tr>\n",
              "    <tr>\n",
              "      <th>육아/교육</th>\n",
              "      <td>220</td>\n",
              "      <td>0.352564</td>\n",
              "    </tr>\n",
              "    <tr>\n",
              "      <th>정치개혁</th>\n",
              "      <td>100</td>\n",
              "      <td>0.160256</td>\n",
              "    </tr>\n",
              "    <tr>\n",
              "      <th>문화/예술/체육/언론</th>\n",
              "      <td>73</td>\n",
              "      <td>0.116987</td>\n",
              "    </tr>\n",
              "  </tbody>\n",
              "</table>\n",
              "</div>"
            ],
            "text/plain": [
              "             청원수      청원비율\n",
              "인권/성평등       231  0.370192\n",
              "육아/교육        220  0.352564\n",
              "정치개혁         100  0.160256\n",
              "문화/예술/체육/언론   73  0.116987"
            ]
          },
          "metadata": {
            "tags": []
          },
          "execution_count": 116
        }
      ]
    },
    {
      "cell_type": "code",
      "metadata": {
        "id": "PnnBlwGvlb2V",
        "colab_type": "code",
        "colab": {
          "base_uri": "https://localhost:8080/",
          "height": 684
        },
        "outputId": "d05f123f-83e2-4ced-d3fb-1c93e7a8d19e"
      },
      "source": [
        "f, ax = plt.subplots(1,2, figsize=(10,10))\n",
        "df_train_category_value.plot(kind='bar',ax=ax[0])\n",
        "df_test_category_value.plot(kind='bar',ax=ax[1])"
      ],
      "execution_count": 117,
      "outputs": [
        {
          "output_type": "execute_result",
          "data": {
            "text/plain": [
              "<matplotlib.axes._subplots.AxesSubplot at 0x7f5b5dab0ac8>"
            ]
          },
          "metadata": {
            "tags": []
          },
          "execution_count": 117
        },
        {
          "output_type": "display_data",
          "data": {
            "image/png": "[encoded data removed]",
            "text/plain": [
              "<Figure size 720x720 with 2 Axes>"
            ]
          },
          "metadata": {
            "tags": []
          }
        }
      ]
    },
    {
      "cell_type": "markdown",
      "metadata": {
        "id": "uKVieGb4lgY9",
        "colab_type": "text"
      },
      "source": [
        "# 단어 벡터화 하기\n",
        "+ BOW(Bag of Words)"
      ]
    },
    {
      "cell_type": "code",
      "metadata": {
        "id": "Dd_nbaK9mCj6",
        "colab_type": "code",
        "colab": {}
      },
      "source": [
        "from sklearn.feature_extraction.text import CountVectorizer"
      ],
      "execution_count": 0,
      "outputs": []
    },
    {
      "cell_type": "code",
      "metadata": {
        "id": "MP7NcwDZmNpO",
        "colab_type": "code",
        "colab": {}
      },
      "source": [
        "stops = ['and', 'article', 'html', '수', '현', '있는', '있습니다', \n",
        "         '그', '년도', '합니다', '하는', '및', '제', '할', '하고', \n",
        "         '더', '대한', '한', '그리고', '월', '저는', '없는', '입니다', \n",
        "         '등', '일', '많은', '이런', '것은', \n",
        "         '왜','같은', '같습니다', '없습니다', '위해', '한다', 'articles', 'articleview', 'articleview idxno',\n",
        "         'asp','a는','cctv','cctv를','co','co kr','aid','com','com main', \n",
        "         'com main read','com news','eb','ec','go','go kr','go kr petitions']"
      ],
      "execution_count": 0,
      "outputs": []
    },
    {
      "cell_type": "code",
      "metadata": {
        "id": "i3WEQs2rmx4r",
        "colab_type": "code",
        "colab": {}
      },
      "source": [
        "vectorizer = CountVectorizer(analyzer = 'word', # 캐릭터 단위로 벡터화 할 수도 있습니다.\n",
        "                             tokenizer = None, # 토크나이저를 따로 지정해 줄 수도 있습니다.\n",
        "                             preprocessor = None, # 전처리 도구\n",
        "                             stop_words = stops, # 불용어 nltk등의 도구를 사용할 수도 있습니다.\n",
        "                             min_df = 2, # 토큰이 나타날 최소 문서 개수로 오타나 자주 나오지 않는 특수한 전문용어 제거에 좋다. \n",
        "                             ngram_range=(1, 3), # BOW의 단위를 1~3개로 지정합니다.\n",
        "                             max_features = 2000 # 만들 피처의 수, 단어의 수가 된다.\n",
        "                            )"
      ],
      "execution_count": 0,
      "outputs": []
    },
    {
      "cell_type": "code",
      "metadata": {
        "id": "NVnYrCFJm1AF",
        "colab_type": "code",
        "colab": {
          "base_uri": "https://localhost:8080/",
          "height": 109
        },
        "outputId": "4ccc499c-720d-4ad2-ab1a-43b4a76f3ca0"
      },
      "source": [
        "%%time\n",
        "train_feature_vector = vectorizer.fit_transform(df_train['content_preprocessing'])\n",
        "test_feature_vector = vectorizer.fit_transform(df_test['content_preprocessing'])"
      ],
      "execution_count": 121,
      "outputs": [
        {
          "output_type": "stream",
          "text": [
            "/usr/local/lib/python3.6/dist-packages/sklearn/feature_extraction/text.py:300: UserWarning: Your stop_words may be inconsistent with your preprocessing. Tokenizing the stop words generated tokens ['idxno', 'kr', 'main', 'news', 'petitions', 'read'] not in stop_words.\n",
            "  'stop_words.' % sorted(inconsistent))\n"
          ],
          "name": "stderr"
        },
        {
          "output_type": "stream",
          "text": [
            "CPU times: user 4.49 s, sys: 70.6 ms, total: 4.56 s\n",
            "Wall time: 4.57 s\n"
          ],
          "name": "stdout"
        }
      ]
    },
    {
      "cell_type": "code",
      "metadata": {
        "id": "i_DlSOXHncId",
        "colab_type": "code",
        "colab": {}
      },
      "source": [
        "vocab = vectorizer.get_feature_names()"
      ],
      "execution_count": 0,
      "outputs": []
    },
    {
      "cell_type": "code",
      "metadata": {
        "id": "beRPiFp6niK9",
        "colab_type": "code",
        "colab": {
          "base_uri": "https://localhost:8080/",
          "height": 35
        },
        "outputId": "e5a1eb2e-016b-4517-8756-5220e2debea6"
      },
      "source": [
        "vocab[:10]"
      ],
      "execution_count": 123,
      "outputs": [
        {
          "output_type": "execute_result",
          "data": {
            "text/plain": [
              "['가게', '가고', '가까운', '가는', '가능성이', '가능한', '가량', '가만히', '가면', '가산점']"
            ]
          },
          "metadata": {
            "tags": []
          },
          "execution_count": 123
        }
      ]
    },
    {
      "cell_type": "code",
      "metadata": {
        "id": "z18R8wEpnkSd",
        "colab_type": "code",
        "colab": {
          "base_uri": "https://localhost:8080/",
          "height": 197
        },
        "outputId": "87b231a9-45fc-4a93-fde9-a5d3ba6c847a"
      },
      "source": [
        "dist = np.sum(train_feature_vector, axis=0)\n",
        "pd.DataFrame(dist, columns=vocab)"
      ],
      "execution_count": 124,
      "outputs": [
        {
          "output_type": "execute_result",
          "data": {
            "text/html": [
              "<div>\n",
              "<style scoped>\n",
              "    .dataframe tbody tr th:only-of-type {\n",
              "        vertical-align: middle;\n",
              "    }\n",
              "\n",
              "    .dataframe tbody tr th {\n",
              "        vertical-align: top;\n",
              "    }\n",
              "\n",
              "    .dataframe thead th {\n",
              "        text-align: right;\n",
              "    }\n",
              "</style>\n",
              "<table border=\"1\" class=\"dataframe\">\n",
              "  <thead>\n",
              "    <tr style=\"text-align: right;\">\n",
              "      <th></th>\n",
              "      <th>가게</th>\n",
              "      <th>가고</th>\n",
              "      <th>가까운</th>\n",
              "      <th>가는</th>\n",
              "      <th>가능성이</th>\n",
              "      <th>가능한</th>\n",
              "      <th>가량</th>\n",
              "      <th>가만히</th>\n",
              "      <th>가면</th>\n",
              "      <th>가산점</th>\n",
              "      <th>가서</th>\n",
              "      <th>가슴을</th>\n",
              "      <th>가슴이</th>\n",
              "      <th>가운데</th>\n",
              "      <th>가장</th>\n",
              "      <th>가정</th>\n",
              "      <th>가정을</th>\n",
              "      <th>가정의</th>\n",
              "      <th>가져</th>\n",
              "      <th>가족</th>\n",
              "      <th>가족은</th>\n",
              "      <th>가족이</th>\n",
              "      <th>가지</th>\n",
              "      <th>가지고</th>\n",
              "      <th>가지는</th>\n",
              "      <th>가진</th>\n",
              "      <th>가짜</th>\n",
              "      <th>가치를</th>\n",
              "      <th>가해</th>\n",
              "      <th>가해자</th>\n",
              "      <th>가해자가</th>\n",
              "      <th>가해자는</th>\n",
              "      <th>가해자들은</th>\n",
              "      <th>가해자들을</th>\n",
              "      <th>가해자들이</th>\n",
              "      <th>가해자로</th>\n",
              "      <th>가해자를</th>\n",
              "      <th>가해자에게</th>\n",
              "      <th>가해자와</th>\n",
              "      <th>가해자의</th>\n",
              "      <th>...</th>\n",
              "      <th>현장을</th>\n",
              "      <th>현재</th>\n",
              "      <th>현재까지</th>\n",
              "      <th>현재는</th>\n",
              "      <th>현지</th>\n",
              "      <th>현직</th>\n",
              "      <th>현행</th>\n",
              "      <th>혈세를</th>\n",
              "      <th>혐오</th>\n",
              "      <th>협박</th>\n",
              "      <th>협박을</th>\n",
              "      <th>형사</th>\n",
              "      <th>형을</th>\n",
              "      <th>혜택을</th>\n",
              "      <th>호계</th>\n",
              "      <th>혹시</th>\n",
              "      <th>혹시나</th>\n",
              "      <th>혹은</th>\n",
              "      <th>혼란을</th>\n",
              "      <th>혼자</th>\n",
              "      <th>혼자서</th>\n",
              "      <th>홀로</th>\n",
              "      <th>홍대</th>\n",
              "      <th>화가</th>\n",
              "      <th>화를</th>\n",
              "      <th>확대</th>\n",
              "      <th>확실한</th>\n",
              "      <th>확인</th>\n",
              "      <th>확인하고</th>\n",
              "      <th>활동을</th>\n",
              "      <th>회사</th>\n",
              "      <th>회사는</th>\n",
              "      <th>회사의</th>\n",
              "      <th>후에</th>\n",
              "      <th>훨씬</th>\n",
              "      <th>힘든</th>\n",
              "      <th>힘들게</th>\n",
              "      <th>힘듭니다</th>\n",
              "      <th>힘을</th>\n",
              "      <th>힘이</th>\n",
              "    </tr>\n",
              "  </thead>\n",
              "  <tbody>\n",
              "    <tr>\n",
              "      <th>0</th>\n",
              "      <td>34</td>\n",
              "      <td>23</td>\n",
              "      <td>21</td>\n",
              "      <td>49</td>\n",
              "      <td>43</td>\n",
              "      <td>57</td>\n",
              "      <td>22</td>\n",
              "      <td>28</td>\n",
              "      <td>36</td>\n",
              "      <td>32</td>\n",
              "      <td>41</td>\n",
              "      <td>28</td>\n",
              "      <td>39</td>\n",
              "      <td>306</td>\n",
              "      <td>37</td>\n",
              "      <td>35</td>\n",
              "      <td>23</td>\n",
              "      <td>36</td>\n",
              "      <td>27</td>\n",
              "      <td>28</td>\n",
              "      <td>91</td>\n",
              "      <td>158</td>\n",
              "      <td>88</td>\n",
              "      <td>24</td>\n",
              "      <td>30</td>\n",
              "      <td>26</td>\n",
              "      <td>82</td>\n",
              "      <td>54</td>\n",
              "      <td>41</td>\n",
              "      <td>26</td>\n",
              "      <td>23</td>\n",
              "      <td>30</td>\n",
              "      <td>38</td>\n",
              "      <td>120</td>\n",
              "      <td>88</td>\n",
              "      <td>35</td>\n",
              "      <td>25</td>\n",
              "      <td>48</td>\n",
              "      <td>22</td>\n",
              "      <td>26</td>\n",
              "      <td>...</td>\n",
              "      <td>22</td>\n",
              "      <td>29</td>\n",
              "      <td>525</td>\n",
              "      <td>21</td>\n",
              "      <td>30</td>\n",
              "      <td>52</td>\n",
              "      <td>34</td>\n",
              "      <td>44</td>\n",
              "      <td>33</td>\n",
              "      <td>28</td>\n",
              "      <td>21</td>\n",
              "      <td>23</td>\n",
              "      <td>30</td>\n",
              "      <td>29</td>\n",
              "      <td>26</td>\n",
              "      <td>33</td>\n",
              "      <td>110</td>\n",
              "      <td>22</td>\n",
              "      <td>57</td>\n",
              "      <td>46</td>\n",
              "      <td>23</td>\n",
              "      <td>33</td>\n",
              "      <td>29</td>\n",
              "      <td>25</td>\n",
              "      <td>32</td>\n",
              "      <td>21</td>\n",
              "      <td>27</td>\n",
              "      <td>33</td>\n",
              "      <td>29</td>\n",
              "      <td>34</td>\n",
              "      <td>24</td>\n",
              "      <td>30</td>\n",
              "      <td>22</td>\n",
              "      <td>52</td>\n",
              "      <td>33</td>\n",
              "      <td>75</td>\n",
              "      <td>44</td>\n",
              "      <td>22</td>\n",
              "      <td>46</td>\n",
              "      <td>38</td>\n",
              "    </tr>\n",
              "  </tbody>\n",
              "</table>\n",
              "<p>1 rows × 2000 columns</p>\n",
              "</div>"
            ],
            "text/plain": [
              "   가게  가고  가까운  가는  가능성이  가능한  가량  가만히  ...  회사의  후에  훨씬  힘든  힘들게  힘듭니다  힘을  힘이\n",
              "0  34  23   21  49    43   57  22   28  ...   22  52  33  75   44    22  46  38\n",
              "\n",
              "[1 rows x 2000 columns]"
            ]
          },
          "metadata": {
            "tags": []
          },
          "execution_count": 124
        }
      ]
    },
    {
      "cell_type": "markdown",
      "metadata": {
        "id": "5dLzL0OiolUP",
        "colab_type": "text"
      },
      "source": [
        "TF-IDF 로 가중치 적용하기"
      ]
    },
    {
      "cell_type": "code",
      "metadata": {
        "id": "HSWHS8tFop3I",
        "colab_type": "code",
        "colab": {
          "base_uri": "https://localhost:8080/",
          "height": 35
        },
        "outputId": "35ca4ee8-577f-451d-9812-c823c78ca298"
      },
      "source": [
        "from sklearn.feature_extraction.text import TfidfTransformer\n",
        "transformer = TfidfTransformer(smooth_idf=False)\n",
        "transformer"
      ],
      "execution_count": 126,
      "outputs": [
        {
          "output_type": "execute_result",
          "data": {
            "text/plain": [
              "TfidfTransformer(norm='l2', smooth_idf=False, sublinear_tf=False, use_idf=True)"
            ]
          },
          "metadata": {
            "tags": []
          },
          "execution_count": 126
        }
      ]
    },
    {
      "cell_type": "code",
      "metadata": {
        "id": "8uhUHmEDou9l",
        "colab_type": "code",
        "colab": {
          "base_uri": "https://localhost:8080/",
          "height": 53
        },
        "outputId": "37c49de4-7040-44f9-85e7-cbe278790ebf"
      },
      "source": [
        "%%time\n",
        "train_feature_tfidf = transformer.fit_transform(train_feature_vector)\n",
        "train_feature_tfidf.shape"
      ],
      "execution_count": 128,
      "outputs": [
        {
          "output_type": "stream",
          "text": [
            "CPU times: user 7 ms, sys: 93 µs, total: 7.09 ms\n",
            "Wall time: 12.5 ms\n"
          ],
          "name": "stdout"
        }
      ]
    },
    {
      "cell_type": "code",
      "metadata": {
        "id": "JBesutnFpBKE",
        "colab_type": "code",
        "colab": {
          "base_uri": "https://localhost:8080/",
          "height": 53
        },
        "outputId": "0d66c8dd-3386-4a48-8ec6-6f516c2243bb"
      },
      "source": [
        "%%time\n",
        "test_feature_tfidf = transformer.fit_transform(test_feature_vector)\n",
        "test_feature_tfidf.shape"
      ],
      "execution_count": 129,
      "outputs": [
        {
          "output_type": "stream",
          "text": [
            "CPU times: user 6.72 ms, sys: 80 µs, total: 6.8 ms\n",
            "Wall time: 8.6 ms\n"
          ],
          "name": "stdout"
        }
      ]
    },
    {
      "cell_type": "markdown",
      "metadata": {
        "id": "5tNzfv1XpQSc",
        "colab_type": "text"
      },
      "source": [
        "# 랜덤 포레스트로 학습시키기"
      ]
    },
    {
      "cell_type": "code",
      "metadata": {
        "id": "U2fgG5NUpSvI",
        "colab_type": "code",
        "colab": {
          "base_uri": "https://localhost:8080/",
          "height": 143
        },
        "outputId": "18b8c9eb-df2b-4cca-851a-751180dac0db"
      },
      "source": [
        "from sklearn.ensemble import RandomForestClassifier\n",
        "\n",
        "# 랜덤포레스트 분류기를 사용\n",
        "forest = RandomForestClassifier(\n",
        "    n_estimators = 100, n_jobs = -1, random_state=2019)\n",
        "forest"
      ],
      "execution_count": 132,
      "outputs": [
        {
          "output_type": "execute_result",
          "data": {
            "text/plain": [
              "RandomForestClassifier(bootstrap=True, class_weight=None, criterion='gini',\n",
              "                       max_depth=None, max_features='auto', max_leaf_nodes=None,\n",
              "                       min_impurity_decrease=0.0, min_impurity_split=None,\n",
              "                       min_samples_leaf=1, min_samples_split=2,\n",
              "                       min_weight_fraction_leaf=0.0, n_estimators=100,\n",
              "                       n_jobs=-1, oob_score=False, random_state=2019, verbose=0,\n",
              "                       warm_start=False)"
            ]
          },
          "metadata": {
            "tags": []
          },
          "execution_count": 132
        }
      ]
    },
    {
      "cell_type": "code",
      "metadata": {
        "id": "wm5dj1nxpipl",
        "colab_type": "code",
        "colab": {
          "base_uri": "https://localhost:8080/",
          "height": 53
        },
        "outputId": "74267295-5a36-4825-f81e-9a6b31f18a12"
      },
      "source": [
        "# 학습에 사용할 y_label 을 넣어줍니다.\n",
        "# 어떤 분야의 청원인지 예측할 것이기 때문에 category를 넣어줍니다.\n",
        "y_label = df_train['category']\n",
        "%time forest = forest.fit(train_feature_tfidf, y_label)"
      ],
      "execution_count": 134,
      "outputs": [
        {
          "output_type": "stream",
          "text": [
            "CPU times: user 1.41 s, sys: 23.5 ms, total: 1.44 s\n",
            "Wall time: 860 ms\n"
          ],
          "name": "stdout"
        }
      ]
    },
    {
      "cell_type": "markdown",
      "metadata": {
        "id": "DDXUgGcypr-S",
        "colab_type": "text"
      },
      "source": [
        "# 학습이 잘 되었는지 평가하기"
      ]
    },
    {
      "cell_type": "code",
      "metadata": {
        "id": "vk0lt2AEp4Vw",
        "colab_type": "code",
        "colab": {}
      },
      "source": [
        "from sklearn.model_selection import KFold\n",
        "from sklearn.model_selection import cross_val_score\n",
        "k_fold = KFold(n_splits=5, shuffle=True, random_state=0)"
      ],
      "execution_count": 0,
      "outputs": []
    },
    {
      "cell_type": "code",
      "metadata": {
        "id": "zZloffFGqLPF",
        "colab_type": "code",
        "colab": {
          "base_uri": "https://localhost:8080/",
          "height": 71
        },
        "outputId": "847372ab-766b-4eee-d42f-bc3d3bef1685"
      },
      "source": [
        "scoring = 'accuracy'\n",
        "%time score = cross_val_score(forest, train_feature_tfidf, y_label, cv=k_fold, n_jobs=-1, scoring=scoring)\n",
        "score"
      ],
      "execution_count": 146,
      "outputs": [
        {
          "output_type": "stream",
          "text": [
            "CPU times: user 44.6 ms, sys: 43 ms, total: 87.6 ms\n",
            "Wall time: 4.75 s\n"
          ],
          "name": "stdout"
        },
        {
          "output_type": "execute_result",
          "data": {
            "text/plain": [
              "array([0.64948454, 0.62199313, 0.63917526, 0.72164948, 0.73195876])"
            ]
          },
          "metadata": {
            "tags": []
          },
          "execution_count": 146
        }
      ]
    },
    {
      "cell_type": "code",
      "metadata": {
        "id": "p_kZ5qeRqa5t",
        "colab_type": "code",
        "colab": {
          "base_uri": "https://localhost:8080/",
          "height": 35
        },
        "outputId": "df3816ea-e3b7-4c0f-a42e-7b5b1bf4b853"
      },
      "source": [
        "round(np.mean(score)*100,2)"
      ],
      "execution_count": 147,
      "outputs": [
        {
          "output_type": "execute_result",
          "data": {
            "text/plain": [
              "67.29"
            ]
          },
          "metadata": {
            "tags": []
          },
          "execution_count": 147
        }
      ]
    },
    {
      "cell_type": "markdown",
      "metadata": {
        "id": "wV0K_eHFqhN1",
        "colab_type": "text"
      },
      "source": [
        "# 예측"
      ]
    },
    {
      "cell_type": "code",
      "metadata": {
        "id": "n7gnqSqwqrg0",
        "colab_type": "code",
        "colab": {
          "base_uri": "https://localhost:8080/",
          "height": 35
        },
        "outputId": "741e8064-5293-4f33-9dc6-893ac4033e51"
      },
      "source": [
        "# 테스트 데이터를 넣고 예측합니다.\n",
        "y_pred = forest.predict(test_feature_tfidf)\n",
        "y_pred[:3]"
      ],
      "execution_count": 148,
      "outputs": [
        {
          "output_type": "execute_result",
          "data": {
            "text/plain": [
              "array(['정치개혁', '정치개혁', '인권/성평등'], dtype=object)"
            ]
          },
          "metadata": {
            "tags": []
          },
          "execution_count": 148
        }
      ]
    },
    {
      "cell_type": "code",
      "metadata": {
        "id": "9bXXICiTqtFF",
        "colab_type": "code",
        "colab": {
          "base_uri": "https://localhost:8080/",
          "height": 35
        },
        "outputId": "07067669-b693-4992-b3aa-2028a3f0e2e9"
      },
      "source": [
        "y_pred.shape"
      ],
      "execution_count": 149,
      "outputs": [
        {
          "output_type": "execute_result",
          "data": {
            "text/plain": [
              "(624,)"
            ]
          },
          "metadata": {
            "tags": []
          },
          "execution_count": 149
        }
      ]
    },
    {
      "cell_type": "code",
      "metadata": {
        "id": "TOTl26gdq5pd",
        "colab_type": "code",
        "colab": {
          "base_uri": "https://localhost:8080/",
          "height": 204
        },
        "outputId": "b0d869fe-be55-444e-d54a-fc36d57ffc0a"
      },
      "source": [
        "# 예측 결과를 저장하기 위해 데이터프레임에 담아줍니다.\n",
        "output = pd.DataFrame(data={'category_pred':y_pred})\n",
        "output.head()"
      ],
      "execution_count": 151,
      "outputs": [
        {
          "output_type": "execute_result",
          "data": {
            "text/html": [
              "<div>\n",
              "<style scoped>\n",
              "    .dataframe tbody tr th:only-of-type {\n",
              "        vertical-align: middle;\n",
              "    }\n",
              "\n",
              "    .dataframe tbody tr th {\n",
              "        vertical-align: top;\n",
              "    }\n",
              "\n",
              "    .dataframe thead th {\n",
              "        text-align: right;\n",
              "    }\n",
              "</style>\n",
              "<table border=\"1\" class=\"dataframe\">\n",
              "  <thead>\n",
              "    <tr style=\"text-align: right;\">\n",
              "      <th></th>\n",
              "      <th>category_pred</th>\n",
              "    </tr>\n",
              "  </thead>\n",
              "  <tbody>\n",
              "    <tr>\n",
              "      <th>0</th>\n",
              "      <td>정치개혁</td>\n",
              "    </tr>\n",
              "    <tr>\n",
              "      <th>1</th>\n",
              "      <td>정치개혁</td>\n",
              "    </tr>\n",
              "    <tr>\n",
              "      <th>2</th>\n",
              "      <td>인권/성평등</td>\n",
              "    </tr>\n",
              "    <tr>\n",
              "      <th>3</th>\n",
              "      <td>인권/성평등</td>\n",
              "    </tr>\n",
              "    <tr>\n",
              "      <th>4</th>\n",
              "      <td>인권/성평등</td>\n",
              "    </tr>\n",
              "  </tbody>\n",
              "</table>\n",
              "</div>"
            ],
            "text/plain": [
              "  category_pred\n",
              "0          정치개혁\n",
              "1          정치개혁\n",
              "2        인권/성평등\n",
              "3        인권/성평등\n",
              "4        인권/성평등"
            ]
          },
          "metadata": {
            "tags": []
          },
          "execution_count": 151
        }
      ]
    },
    {
      "cell_type": "code",
      "metadata": {
        "id": "2RFhKL5trRG8",
        "colab_type": "code",
        "colab": {
          "base_uri": "https://localhost:8080/",
          "height": 107
        },
        "outputId": "4ba713ae-86bc-4558-bee3-16b11e295f8a"
      },
      "source": [
        "# 0과 1이 어떻게 집계 되었는지 확인합니다.\n",
        "output['category_pred'].value_counts()"
      ],
      "execution_count": 152,
      "outputs": [
        {
          "output_type": "execute_result",
          "data": {
            "text/plain": [
              "정치개혁           217\n",
              "인권/성평등         215\n",
              "육아/교육          171\n",
              "문화/예술/체육/언론     21\n",
              "Name: category_pred, dtype: int64"
            ]
          },
          "metadata": {
            "tags": []
          },
          "execution_count": 152
        }
      ]
    },
    {
      "cell_type": "code",
      "metadata": {
        "id": "Hp5HHkFIrgGF",
        "colab_type": "code",
        "colab": {}
      },
      "source": [
        "df_test['category_pred'] = y_pred"
      ],
      "execution_count": 0,
      "outputs": []
    },
    {
      "cell_type": "markdown",
      "metadata": {
        "id": "OkP_GdRRrkis",
        "colab_type": "text"
      },
      "source": [
        "# 예측결과 미리보기"
      ]
    },
    {
      "cell_type": "code",
      "metadata": {
        "id": "yvajp_tMrm_f",
        "colab_type": "code",
        "colab": {
          "base_uri": "https://localhost:8080/",
          "height": 289
        },
        "outputId": "8f020ec9-e231-4bb0-b42d-d0a81d11bad0"
      },
      "source": [
        "df_test['pred_diff'] = 0\n",
        "df_test['pred_diff'] = (df_test['category'] == df_test['category_pred']) == 1\n",
        "df_test['pred_diff'] = df_test['pred_diff'].astype(int)\n",
        "df_test.head()"
      ],
      "execution_count": 154,
      "outputs": [
        {
          "output_type": "execute_result",
          "data": {
            "text/html": [
              "<div>\n",
              "<style scoped>\n",
              "    .dataframe tbody tr th:only-of-type {\n",
              "        vertical-align: middle;\n",
              "    }\n",
              "\n",
              "    .dataframe tbody tr th {\n",
              "        vertical-align: top;\n",
              "    }\n",
              "\n",
              "    .dataframe thead th {\n",
              "        text-align: right;\n",
              "    }\n",
              "</style>\n",
              "<table border=\"1\" class=\"dataframe\">\n",
              "  <thead>\n",
              "    <tr style=\"text-align: right;\">\n",
              "      <th></th>\n",
              "      <th>article_id</th>\n",
              "      <th>start</th>\n",
              "      <th>end</th>\n",
              "      <th>answered</th>\n",
              "      <th>votes</th>\n",
              "      <th>category</th>\n",
              "      <th>title</th>\n",
              "      <th>content</th>\n",
              "      <th>category_pred</th>\n",
              "      <th>content_preprocessing</th>\n",
              "      <th>pred_diff</th>\n",
              "    </tr>\n",
              "  </thead>\n",
              "  <tbody>\n",
              "    <tr>\n",
              "      <th>261424</th>\n",
              "      <td>339460</td>\n",
              "      <td>2018-08-13</td>\n",
              "      <td>2018-09-12</td>\n",
              "      <td>0</td>\n",
              "      <td>10440</td>\n",
              "      <td>인권/성평등</td>\n",
              "      <td>홍대 공연음란남 몰카 징역 10월 선고가 말이 되나?</td>\n",
              "      <td>홍대 공연음란남의 피해자에게 1심에서 징역 10월이 선고되었다. 이게 말이 되는 것...</td>\n",
              "      <td>정치개혁</td>\n",
              "      <td>홍대 공연음란남의 피해자에게  심에서 징역   월이 선고되었다  이게 말이 되는 것...</td>\n",
              "      <td>0</td>\n",
              "    </tr>\n",
              "    <tr>\n",
              "      <th>261635</th>\n",
              "      <td>339785</td>\n",
              "      <td>2018-08-13</td>\n",
              "      <td>2018-09-12</td>\n",
              "      <td>0</td>\n",
              "      <td>651</td>\n",
              "      <td>인권/성평등</td>\n",
              "      <td>홍대몰카녀 더 강력한 처벌을 해주세요.</td>\n",
              "      <td>홍대 몰카녀는 몰카를 찍고 공유해서 대규모 사이트들에서 조롱까지 했습니다. 거기다 ...</td>\n",
              "      <td>정치개혁</td>\n",
              "      <td>홍대 몰카녀는 몰카를 찍고 공유해서 대규모 사이트들에서 조롱까지 했습니다  거기다 ...</td>\n",
              "      <td>0</td>\n",
              "    </tr>\n",
              "    <tr>\n",
              "      <th>261728</th>\n",
              "      <td>339919</td>\n",
              "      <td>2018-08-13</td>\n",
              "      <td>2018-09-12</td>\n",
              "      <td>0</td>\n",
              "      <td>7915</td>\n",
              "      <td>인권/성평등</td>\n",
              "      <td>내 딸의 억울한 죽음을 꼭 밝혀 주세요</td>\n",
              "      <td>저희 아이는 2017년 8월 5일에 이틀을 사경을 헤메다 세상을 떠났습니다...\\n...</td>\n",
              "      <td>인권/성평등</td>\n",
              "      <td>저희 아이는     년   일에 이틀을 사경을 헤메다 세상을 떠났습니다       ...</td>\n",
              "      <td>1</td>\n",
              "    </tr>\n",
              "    <tr>\n",
              "      <th>263066</th>\n",
              "      <td>341703</td>\n",
              "      <td>2018-08-14</td>\n",
              "      <td>2018-09-13</td>\n",
              "      <td>0</td>\n",
              "      <td>1943</td>\n",
              "      <td>인권/성평등</td>\n",
              "      <td>묻지마폭행을 당하고 가해자로 처벌받게되었습니다. 너무억울합니다.</td>\n",
              "      <td>사건은 올해 2월15일 새벽1시가 조금 넘은 시각이었습니다. 이자까야에서 요리사로 ...</td>\n",
              "      <td>인권/성평등</td>\n",
              "      <td>사건은 올해   새벽 시가 조금 넘은 시각이었습니다  이자까야에서 요리사로 일을하며...</td>\n",
              "      <td>1</td>\n",
              "    </tr>\n",
              "    <tr>\n",
              "      <th>263837</th>\n",
              "      <td>342753</td>\n",
              "      <td>2018-08-15</td>\n",
              "      <td>2018-09-14</td>\n",
              "      <td>0</td>\n",
              "      <td>588</td>\n",
              "      <td>육아/교육</td>\n",
              "      <td>김포 아동학대 사건을 저지른 원장과 교사를 고발합니다.</td>\n",
              "      <td>저는 피해아동의 외할머니입니다.\\n저희 손주는 5세 남아로 김포 장기동 **** 어...</td>\n",
              "      <td>인권/성평등</td>\n",
              "      <td>피해아동의 외할머니입니다  저희 손주는  세 남아로 김포 장기동      어린이집 ...</td>\n",
              "      <td>0</td>\n",
              "    </tr>\n",
              "  </tbody>\n",
              "</table>\n",
              "</div>"
            ],
            "text/plain": [
              "        article_id  ... pred_diff\n",
              "261424      339460  ...         0\n",
              "261635      339785  ...         0\n",
              "261728      339919  ...         1\n",
              "263066      341703  ...         1\n",
              "263837      342753  ...         0\n",
              "\n",
              "[5 rows x 11 columns]"
            ]
          },
          "metadata": {
            "tags": []
          },
          "execution_count": 154
        }
      ]
    },
    {
      "cell_type": "code",
      "metadata": {
        "id": "1R5Hzg5Yr2Zv",
        "colab_type": "code",
        "colab": {}
      },
      "source": [
        "# 맞게 예측된 청원은 1, 틀린예측은 0으로 표기되었습니다.\n",
        "pred_diff = df_test['pred_diff'].value_counts()"
      ],
      "execution_count": 0,
      "outputs": []
    },
    {
      "cell_type": "code",
      "metadata": {
        "id": "yzX9MlGUsDSd",
        "colab_type": "code",
        "colab": {
          "base_uri": "https://localhost:8080/",
          "height": 35
        },
        "outputId": "ac830464-a03c-4e98-c63e-178ae28bdb2d"
      },
      "source": [
        "print('전체 {}건의 데이터 중 {}건 예측'.format(y_pred.shape[0], pred_diff[1]))"
      ],
      "execution_count": 157,
      "outputs": [
        {
          "output_type": "stream",
          "text": [
            "전체 624건의 데이터 중 275건 예측\n"
          ],
          "name": "stdout"
        }
      ]
    },
    {
      "cell_type": "code",
      "metadata": {
        "id": "TKuYr5lRsK7t",
        "colab_type": "code",
        "colab": {
          "base_uri": "https://localhost:8080/",
          "height": 35
        },
        "outputId": "7400be3e-9a4b-44b2-a941-afbd4f6feaaf"
      },
      "source": [
        "acc = (pred_diff[1]/y_pred.shape[0]) *100\n",
        "print('예측 비율 {}'.format(acc))"
      ],
      "execution_count": 167,
      "outputs": [
        {
          "output_type": "stream",
          "text": [
            "예측 비율 44.07051282051282\n"
          ],
          "name": "stdout"
        }
      ]
    },
    {
      "cell_type": "code",
      "metadata": {
        "id": "qG1Lr_oAsYeu",
        "colab_type": "code",
        "colab": {}
      },
      "source": [
        "# 제대로 예측한 카테고리 데이터를 봅니다.\n",
        "predict_correct = df_test.loc[df_test['pred_diff'] == 1]"
      ],
      "execution_count": 0,
      "outputs": []
    },
    {
      "cell_type": "code",
      "metadata": {
        "id": "zwGfZo0vuOrs",
        "colab_type": "code",
        "colab": {
          "base_uri": "https://localhost:8080/",
          "height": 289
        },
        "outputId": "34a8be14-38d8-4741-da57-18b117981399"
      },
      "source": [
        "predict_correct.head()"
      ],
      "execution_count": 170,
      "outputs": [
        {
          "output_type": "execute_result",
          "data": {
            "text/html": [
              "<div>\n",
              "<style scoped>\n",
              "    .dataframe tbody tr th:only-of-type {\n",
              "        vertical-align: middle;\n",
              "    }\n",
              "\n",
              "    .dataframe tbody tr th {\n",
              "        vertical-align: top;\n",
              "    }\n",
              "\n",
              "    .dataframe thead th {\n",
              "        text-align: right;\n",
              "    }\n",
              "</style>\n",
              "<table border=\"1\" class=\"dataframe\">\n",
              "  <thead>\n",
              "    <tr style=\"text-align: right;\">\n",
              "      <th></th>\n",
              "      <th>article_id</th>\n",
              "      <th>start</th>\n",
              "      <th>end</th>\n",
              "      <th>answered</th>\n",
              "      <th>votes</th>\n",
              "      <th>category</th>\n",
              "      <th>title</th>\n",
              "      <th>content</th>\n",
              "      <th>category_pred</th>\n",
              "      <th>content_preprocessing</th>\n",
              "      <th>pred_diff</th>\n",
              "    </tr>\n",
              "  </thead>\n",
              "  <tbody>\n",
              "    <tr>\n",
              "      <th>261728</th>\n",
              "      <td>339919</td>\n",
              "      <td>2018-08-13</td>\n",
              "      <td>2018-09-12</td>\n",
              "      <td>0</td>\n",
              "      <td>7915</td>\n",
              "      <td>인권/성평등</td>\n",
              "      <td>내 딸의 억울한 죽음을 꼭 밝혀 주세요</td>\n",
              "      <td>저희 아이는 2017년 8월 5일에 이틀을 사경을 헤메다 세상을 떠났습니다...\\n...</td>\n",
              "      <td>인권/성평등</td>\n",
              "      <td>저희 아이는     년   일에 이틀을 사경을 헤메다 세상을 떠났습니다       ...</td>\n",
              "      <td>1</td>\n",
              "    </tr>\n",
              "    <tr>\n",
              "      <th>263066</th>\n",
              "      <td>341703</td>\n",
              "      <td>2018-08-14</td>\n",
              "      <td>2018-09-13</td>\n",
              "      <td>0</td>\n",
              "      <td>1943</td>\n",
              "      <td>인권/성평등</td>\n",
              "      <td>묻지마폭행을 당하고 가해자로 처벌받게되었습니다. 너무억울합니다.</td>\n",
              "      <td>사건은 올해 2월15일 새벽1시가 조금 넘은 시각이었습니다. 이자까야에서 요리사로 ...</td>\n",
              "      <td>인권/성평등</td>\n",
              "      <td>사건은 올해   새벽 시가 조금 넘은 시각이었습니다  이자까야에서 요리사로 일을하며...</td>\n",
              "      <td>1</td>\n",
              "    </tr>\n",
              "    <tr>\n",
              "      <th>264152</th>\n",
              "      <td>343236</td>\n",
              "      <td>2018-08-15</td>\n",
              "      <td>2018-09-14</td>\n",
              "      <td>0</td>\n",
              "      <td>507</td>\n",
              "      <td>육아/교육</td>\n",
              "      <td>어린이집학부모 모니터링과 평가인증 없애야한다고 생각합니다 .</td>\n",
              "      <td>안녕하세요 저는 4세아들과7개월넘은 두아들을 키우고 잇습니다. 두아들이 다니는 어린...</td>\n",
              "      <td>육아/교육</td>\n",
              "      <td>안녕하세요  세아들과 개월넘은 두아들을 키우고 잇습니다  두아들이 다니는 어린이집에...</td>\n",
              "      <td>1</td>\n",
              "    </tr>\n",
              "    <tr>\n",
              "      <th>264652</th>\n",
              "      <td>343870</td>\n",
              "      <td>2018-08-16</td>\n",
              "      <td>2018-09-15</td>\n",
              "      <td>0</td>\n",
              "      <td>1371</td>\n",
              "      <td>정치개혁</td>\n",
              "      <td>시민단체수준인 여가부 폐지를 청원합니다</td>\n",
              "      <td>http://www.edaily.co.kr/news/news_detail.asp?n...</td>\n",
              "      <td>정치개혁</td>\n",
              "      <td>...</td>\n",
              "      <td>1</td>\n",
              "    </tr>\n",
              "    <tr>\n",
              "      <th>264896</th>\n",
              "      <td>344174</td>\n",
              "      <td>2018-08-16</td>\n",
              "      <td>2018-09-15</td>\n",
              "      <td>0</td>\n",
              "      <td>698</td>\n",
              "      <td>인권/성평등</td>\n",
              "      <td>** 톨게이트 사무장의 부정행위 및 갑질 폭언을 고발합니다.</td>\n",
              "      <td>안녕하세요 저는 **톨게이트에서 주임으로 근무하는 사람 입니다.\\n여기에 이런글을 ...</td>\n",
              "      <td>인권/성평등</td>\n",
              "      <td>안녕하세요   톨게이트에서 주임으로 근무하는 사람  여기에 이런글을 올리기까지 고민...</td>\n",
              "      <td>1</td>\n",
              "    </tr>\n",
              "  </tbody>\n",
              "</table>\n",
              "</div>"
            ],
            "text/plain": [
              "        article_id  ... pred_diff\n",
              "261728      339919  ...         1\n",
              "263066      341703  ...         1\n",
              "264152      343236  ...         1\n",
              "264652      343870  ...         1\n",
              "264896      344174  ...         1\n",
              "\n",
              "[5 rows x 11 columns]"
            ]
          },
          "metadata": {
            "tags": []
          },
          "execution_count": 170
        }
      ]
    },
    {
      "cell_type": "markdown",
      "metadata": {
        "id": "oBejFvyauScm",
        "colab_type": "text"
      },
      "source": [
        "# 잘못 예측한 카테고리 보기"
      ]
    },
    {
      "cell_type": "code",
      "metadata": {
        "id": "z4dAJa-UuXTA",
        "colab_type": "code",
        "colab": {}
      },
      "source": [
        "predict_incorrect = df_test.loc[df_test['pred_diff'] == 0].copy()"
      ],
      "execution_count": 0,
      "outputs": []
    },
    {
      "cell_type": "code",
      "metadata": {
        "id": "lvZYNdYgugGl",
        "colab_type": "code",
        "colab": {
          "base_uri": "https://localhost:8080/",
          "height": 289
        },
        "outputId": "a2f2da05-f9b7-4ddc-ad46-d1f0ff8b225e"
      },
      "source": [
        "predict_incorrect.head()"
      ],
      "execution_count": 175,
      "outputs": [
        {
          "output_type": "execute_result",
          "data": {
            "text/html": [
              "<div>\n",
              "<style scoped>\n",
              "    .dataframe tbody tr th:only-of-type {\n",
              "        vertical-align: middle;\n",
              "    }\n",
              "\n",
              "    .dataframe tbody tr th {\n",
              "        vertical-align: top;\n",
              "    }\n",
              "\n",
              "    .dataframe thead th {\n",
              "        text-align: right;\n",
              "    }\n",
              "</style>\n",
              "<table border=\"1\" class=\"dataframe\">\n",
              "  <thead>\n",
              "    <tr style=\"text-align: right;\">\n",
              "      <th></th>\n",
              "      <th>article_id</th>\n",
              "      <th>start</th>\n",
              "      <th>end</th>\n",
              "      <th>answered</th>\n",
              "      <th>votes</th>\n",
              "      <th>category</th>\n",
              "      <th>title</th>\n",
              "      <th>content</th>\n",
              "      <th>category_pred</th>\n",
              "      <th>content_preprocessing</th>\n",
              "      <th>pred_diff</th>\n",
              "    </tr>\n",
              "  </thead>\n",
              "  <tbody>\n",
              "    <tr>\n",
              "      <th>261424</th>\n",
              "      <td>339460</td>\n",
              "      <td>2018-08-13</td>\n",
              "      <td>2018-09-12</td>\n",
              "      <td>0</td>\n",
              "      <td>10440</td>\n",
              "      <td>인권/성평등</td>\n",
              "      <td>홍대 공연음란남 몰카 징역 10월 선고가 말이 되나?</td>\n",
              "      <td>홍대 공연음란남의 피해자에게 1심에서 징역 10월이 선고되었다. 이게 말이 되는 것...</td>\n",
              "      <td>정치개혁</td>\n",
              "      <td>홍대 공연음란남의 피해자에게  심에서 징역   월이 선고되었다  이게 말이 되는 것...</td>\n",
              "      <td>0</td>\n",
              "    </tr>\n",
              "    <tr>\n",
              "      <th>261635</th>\n",
              "      <td>339785</td>\n",
              "      <td>2018-08-13</td>\n",
              "      <td>2018-09-12</td>\n",
              "      <td>0</td>\n",
              "      <td>651</td>\n",
              "      <td>인권/성평등</td>\n",
              "      <td>홍대몰카녀 더 강력한 처벌을 해주세요.</td>\n",
              "      <td>홍대 몰카녀는 몰카를 찍고 공유해서 대규모 사이트들에서 조롱까지 했습니다. 거기다 ...</td>\n",
              "      <td>정치개혁</td>\n",
              "      <td>홍대 몰카녀는 몰카를 찍고 공유해서 대규모 사이트들에서 조롱까지 했습니다  거기다 ...</td>\n",
              "      <td>0</td>\n",
              "    </tr>\n",
              "    <tr>\n",
              "      <th>263837</th>\n",
              "      <td>342753</td>\n",
              "      <td>2018-08-15</td>\n",
              "      <td>2018-09-14</td>\n",
              "      <td>0</td>\n",
              "      <td>588</td>\n",
              "      <td>육아/교육</td>\n",
              "      <td>김포 아동학대 사건을 저지른 원장과 교사를 고발합니다.</td>\n",
              "      <td>저는 피해아동의 외할머니입니다.\\n저희 손주는 5세 남아로 김포 장기동 **** 어...</td>\n",
              "      <td>인권/성평등</td>\n",
              "      <td>피해아동의 외할머니입니다  저희 손주는  세 남아로 김포 장기동      어린이집 ...</td>\n",
              "      <td>0</td>\n",
              "    </tr>\n",
              "    <tr>\n",
              "      <th>264979</th>\n",
              "      <td>344281</td>\n",
              "      <td>2018-08-16</td>\n",
              "      <td>2018-09-15</td>\n",
              "      <td>0</td>\n",
              "      <td>2680</td>\n",
              "      <td>육아/교육</td>\n",
              "      <td>경기도 시흥시 모고등학교 갑질 교감에 대한 중징계를 청원합니다.</td>\n",
              "      <td>대기업 오너 일가들의 ‘갑질’ 문제가 사회적으로 크게 이슈가 되고 있습니다.\\n그러...</td>\n",
              "      <td>인권/성평등</td>\n",
              "      <td>대기업 오너 일가들의  갑질  문제가 사회적으로 크게 이슈가 되고  그러나  비단 ...</td>\n",
              "      <td>0</td>\n",
              "    </tr>\n",
              "    <tr>\n",
              "      <th>266273</th>\n",
              "      <td>345866</td>\n",
              "      <td>2018-08-18</td>\n",
              "      <td>2018-09-17</td>\n",
              "      <td>0</td>\n",
              "      <td>923</td>\n",
              "      <td>문화/예술/체육/언론</td>\n",
              "      <td>방통위원장 교체와 최기화 김도인 방문진이사 선임 취소</td>\n",
              "      <td>촛불의 염원으로 세워진 새로운 문재인 정부 그리고 문재인 대통령이 임명한 이효성 방...</td>\n",
              "      <td>인권/성평등</td>\n",
              "      <td>촛불의 염원으로 세워진 새로운 문재인 정부 문재인 대통령이 임명한 이효성 방송통신위...</td>\n",
              "      <td>0</td>\n",
              "    </tr>\n",
              "  </tbody>\n",
              "</table>\n",
              "</div>"
            ],
            "text/plain": [
              "        article_id  ... pred_diff\n",
              "261424      339460  ...         0\n",
              "261635      339785  ...         0\n",
              "263837      342753  ...         0\n",
              "264979      344281  ...         0\n",
              "266273      345866  ...         0\n",
              "\n",
              "[5 rows x 11 columns]"
            ]
          },
          "metadata": {
            "tags": []
          },
          "execution_count": 175
        }
      ]
    },
    {
      "cell_type": "code",
      "metadata": {
        "id": "gLaGYap0uk42",
        "colab_type": "code",
        "colab": {
          "base_uri": "https://localhost:8080/",
          "height": 107
        },
        "outputId": "2ffd27b1-b8bf-4bfd-cc10-0b6708695f40"
      },
      "source": [
        "predict_incorrect_value = predict_incorrect['category'].value_counts()\n",
        "predict_incorrect_value"
      ],
      "execution_count": 177,
      "outputs": [
        {
          "output_type": "execute_result",
          "data": {
            "text/plain": [
              "인권/성평등         123\n",
              "육아/교육          115\n",
              "문화/예술/체육/언론     72\n",
              "정치개혁            39\n",
              "Name: category, dtype: int64"
            ]
          },
          "metadata": {
            "tags": []
          },
          "execution_count": 177
        }
      ]
    },
    {
      "cell_type": "code",
      "metadata": {
        "id": "m4YIXGMsu44m",
        "colab_type": "code",
        "colab": {
          "base_uri": "https://localhost:8080/",
          "height": 358
        },
        "outputId": "7f28b0c0-c9cc-48f2-99b5-6ac75193554d"
      },
      "source": [
        "predict_incorrect_value.plot(kind='bar')"
      ],
      "execution_count": 178,
      "outputs": [
        {
          "output_type": "execute_result",
          "data": {
            "text/plain": [
              "<matplotlib.axes._subplots.AxesSubplot at 0x7f5b5cf2c940>"
            ]
          },
          "metadata": {
            "tags": []
          },
          "execution_count": 178
        },
        {
          "output_type": "display_data",
          "data": {
            "image/png": "[encoded data removed]",
            "text/plain": [
              "<Figure size 432x288 with 1 Axes>"
            ]
          },
          "metadata": {
            "tags": []
          }
        }
      ]
    },
    {
      "cell_type": "markdown",
      "metadata": {
        "id": "NOfn4ZUKu8nl",
        "colab_type": "text"
      },
      "source": [
        "# 왜 예측 정확도가 낮을까요??\n",
        "+ 청원을 입력하는 사람마다 카테고리 분류 기준이 정확하지 않은 것 같습니다.\n",
        "+ 기타로 예측한 분류도 특정 카테고리로 분류해도 될 것으로 보여집니다."
      ]
    },
    {
      "cell_type": "code",
      "metadata": {
        "id": "stAisi_pvA1F",
        "colab_type": "code",
        "colab": {
          "base_uri": "https://localhost:8080/",
          "height": 359
        },
        "outputId": "68472066-a7b0-4db4-81ee-646a2cf4ac4f"
      },
      "source": [
        "predict_incorrect[['category', 'category_pred', 'title', 'content']].head(10)"
      ],
      "execution_count": 179,
      "outputs": [
        {
          "output_type": "execute_result",
          "data": {
            "text/html": [
              "<div>\n",
              "<style scoped>\n",
              "    .dataframe tbody tr th:only-of-type {\n",
              "        vertical-align: middle;\n",
              "    }\n",
              "\n",
              "    .dataframe tbody tr th {\n",
              "        vertical-align: top;\n",
              "    }\n",
              "\n",
              "    .dataframe thead th {\n",
              "        text-align: right;\n",
              "    }\n",
              "</style>\n",
              "<table border=\"1\" class=\"dataframe\">\n",
              "  <thead>\n",
              "    <tr style=\"text-align: right;\">\n",
              "      <th></th>\n",
              "      <th>category</th>\n",
              "      <th>category_pred</th>\n",
              "      <th>title</th>\n",
              "      <th>content</th>\n",
              "    </tr>\n",
              "  </thead>\n",
              "  <tbody>\n",
              "    <tr>\n",
              "      <th>261424</th>\n",
              "      <td>인권/성평등</td>\n",
              "      <td>정치개혁</td>\n",
              "      <td>홍대 공연음란남 몰카 징역 10월 선고가 말이 되나?</td>\n",
              "      <td>홍대 공연음란남의 피해자에게 1심에서 징역 10월이 선고되었다. 이게 말이 되는 것...</td>\n",
              "    </tr>\n",
              "    <tr>\n",
              "      <th>261635</th>\n",
              "      <td>인권/성평등</td>\n",
              "      <td>정치개혁</td>\n",
              "      <td>홍대몰카녀 더 강력한 처벌을 해주세요.</td>\n",
              "      <td>홍대 몰카녀는 몰카를 찍고 공유해서 대규모 사이트들에서 조롱까지 했습니다. 거기다 ...</td>\n",
              "    </tr>\n",
              "    <tr>\n",
              "      <th>263837</th>\n",
              "      <td>육아/교육</td>\n",
              "      <td>인권/성평등</td>\n",
              "      <td>김포 아동학대 사건을 저지른 원장과 교사를 고발합니다.</td>\n",
              "      <td>저는 피해아동의 외할머니입니다.\\n저희 손주는 5세 남아로 김포 장기동 **** 어...</td>\n",
              "    </tr>\n",
              "    <tr>\n",
              "      <th>264979</th>\n",
              "      <td>육아/교육</td>\n",
              "      <td>인권/성평등</td>\n",
              "      <td>경기도 시흥시 모고등학교 갑질 교감에 대한 중징계를 청원합니다.</td>\n",
              "      <td>대기업 오너 일가들의 ‘갑질’ 문제가 사회적으로 크게 이슈가 되고 있습니다.\\n그러...</td>\n",
              "    </tr>\n",
              "    <tr>\n",
              "      <th>266273</th>\n",
              "      <td>문화/예술/체육/언론</td>\n",
              "      <td>인권/성평등</td>\n",
              "      <td>방통위원장 교체와 최기화 김도인 방문진이사 선임 취소</td>\n",
              "      <td>촛불의 염원으로 세워진 새로운 문재인 정부 그리고 문재인 대통령이 임명한 이효성 방...</td>\n",
              "    </tr>\n",
              "    <tr>\n",
              "      <th>267335</th>\n",
              "      <td>육아/교육</td>\n",
              "      <td>정치개혁</td>\n",
              "      <td>초등학생 중학생 등 미성년자의핸드폰중독으로 인한 불법사이트노출 교통사고등등 사회문제...</td>\n",
              "      <td>초등 중등 핸드폰 개통불가와 폴더폰으로 할수있도록\\n정부및 통신사에서\\n도움 꼭  ...</td>\n",
              "    </tr>\n",
              "    <tr>\n",
              "      <th>269527</th>\n",
              "      <td>정치개혁</td>\n",
              "      <td>인권/성평등</td>\n",
              "      <td>혜경궁 김씨 정체는 언제 나옵니까? 국제파를 비롯한 이재명 은수미의 의혹들은 언제 ...</td>\n",
              "      <td>도대체 혜경궁 김씨 수사 결과는 언제 나오는 것입니까?\\n트위터의 계정 정보를 그렇...</td>\n",
              "    </tr>\n",
              "    <tr>\n",
              "      <th>269996</th>\n",
              "      <td>육아/교육</td>\n",
              "      <td>문화/예술/체육/언론</td>\n",
              "      <td>장애영유아의 운명을 바꾸어 주세요!  장애유아에게 의무교육은 생존의 문제입니다!!</td>\n",
              "      <td>장애 영유아의 운명을 바꾸어주세요!\\n장애유아에게 의무교육은 생존의 문제입니다!\\n...</td>\n",
              "    </tr>\n",
              "    <tr>\n",
              "      <th>270428</th>\n",
              "      <td>육아/교육</td>\n",
              "      <td>정치개혁</td>\n",
              "      <td>〓 국민특명, 전국 초․중․고 즉각 휴교실시 〓</td>\n",
              "      <td>전국 초․중․고교의 교장님들!\\n고리타분한 노인네 티내지 마시고 당장 내일부터 태풍...</td>\n",
              "    </tr>\n",
              "    <tr>\n",
              "      <th>271486</th>\n",
              "      <td>정치개혁</td>\n",
              "      <td>인권/성평등</td>\n",
              "      <td>어머니를 도 뺑소니로 돌아가시게 한 범인을 13일만에 잡았는데 도주의 우려가 없다는...</td>\n",
              "      <td>사랑하는 어머니를 잃은 아들입니다.\\n자식과 손녀와 오래오래 건강하게 사신다며 3년...</td>\n",
              "    </tr>\n",
              "  </tbody>\n",
              "</table>\n",
              "</div>"
            ],
            "text/plain": [
              "           category  ...                                            content\n",
              "261424       인권/성평등  ...  홍대 공연음란남의 피해자에게 1심에서 징역 10월이 선고되었다. 이게 말이 되는 것...\n",
              "261635       인권/성평등  ...  홍대 몰카녀는 몰카를 찍고 공유해서 대규모 사이트들에서 조롱까지 했습니다. 거기다 ...\n",
              "263837        육아/교육  ...  저는 피해아동의 외할머니입니다.\\n저희 손주는 5세 남아로 김포 장기동 **** 어...\n",
              "264979        육아/교육  ...  대기업 오너 일가들의 ‘갑질’ 문제가 사회적으로 크게 이슈가 되고 있습니다.\\n그러...\n",
              "266273  문화/예술/체육/언론  ...  촛불의 염원으로 세워진 새로운 문재인 정부 그리고 문재인 대통령이 임명한 이효성 방...\n",
              "267335        육아/교육  ...  초등 중등 핸드폰 개통불가와 폴더폰으로 할수있도록\\n정부및 통신사에서\\n도움 꼭  ...\n",
              "269527         정치개혁  ...  도대체 혜경궁 김씨 수사 결과는 언제 나오는 것입니까?\\n트위터의 계정 정보를 그렇...\n",
              "269996        육아/교육  ...  장애 영유아의 운명을 바꾸어주세요!\\n장애유아에게 의무교육은 생존의 문제입니다!\\n...\n",
              "270428        육아/교육  ...  전국 초․중․고교의 교장님들!\\n고리타분한 노인네 티내지 마시고 당장 내일부터 태풍...\n",
              "271486         정치개혁  ...  사랑하는 어머니를 잃은 아들입니다.\\n자식과 손녀와 오래오래 건강하게 사신다며 3년...\n",
              "\n",
              "[10 rows x 4 columns]"
            ]
          },
          "metadata": {
            "tags": []
          },
          "execution_count": 179
        }
      ]
    },
    {
      "cell_type": "markdown",
      "metadata": {
        "id": "WjveoAwAvMI9",
        "colab_type": "text"
      },
      "source": [
        "# 원래 데이터 중 분류기가 다르게 예측한 특정 카테고리 청원을 봅니다."
      ]
    },
    {
      "cell_type": "code",
      "metadata": {
        "id": "GMIzTnTDve59",
        "colab_type": "code",
        "colab": {
          "base_uri": "https://localhost:8080/",
          "height": 359
        },
        "outputId": "e586f376-3e89-4a62-c654-c84d084a3f32"
      },
      "source": [
        "predict_incorrect_etc = predict_incorrect.loc[predict_incorrect['category'] == '육아/교육'].copy()\n",
        "predict_incorrect_etc[['category', 'category_pred', 'title', 'content']].head(10)"
      ],
      "execution_count": 180,
      "outputs": [
        {
          "output_type": "execute_result",
          "data": {
            "text/html": [
              "<div>\n",
              "<style scoped>\n",
              "    .dataframe tbody tr th:only-of-type {\n",
              "        vertical-align: middle;\n",
              "    }\n",
              "\n",
              "    .dataframe tbody tr th {\n",
              "        vertical-align: top;\n",
              "    }\n",
              "\n",
              "    .dataframe thead th {\n",
              "        text-align: right;\n",
              "    }\n",
              "</style>\n",
              "<table border=\"1\" class=\"dataframe\">\n",
              "  <thead>\n",
              "    <tr style=\"text-align: right;\">\n",
              "      <th></th>\n",
              "      <th>category</th>\n",
              "      <th>category_pred</th>\n",
              "      <th>title</th>\n",
              "      <th>content</th>\n",
              "    </tr>\n",
              "  </thead>\n",
              "  <tbody>\n",
              "    <tr>\n",
              "      <th>263837</th>\n",
              "      <td>육아/교육</td>\n",
              "      <td>인권/성평등</td>\n",
              "      <td>김포 아동학대 사건을 저지른 원장과 교사를 고발합니다.</td>\n",
              "      <td>저는 피해아동의 외할머니입니다.\\n저희 손주는 5세 남아로 김포 장기동 **** 어...</td>\n",
              "    </tr>\n",
              "    <tr>\n",
              "      <th>264979</th>\n",
              "      <td>육아/교육</td>\n",
              "      <td>인권/성평등</td>\n",
              "      <td>경기도 시흥시 모고등학교 갑질 교감에 대한 중징계를 청원합니다.</td>\n",
              "      <td>대기업 오너 일가들의 ‘갑질’ 문제가 사회적으로 크게 이슈가 되고 있습니다.\\n그러...</td>\n",
              "    </tr>\n",
              "    <tr>\n",
              "      <th>267335</th>\n",
              "      <td>육아/교육</td>\n",
              "      <td>정치개혁</td>\n",
              "      <td>초등학생 중학생 등 미성년자의핸드폰중독으로 인한 불법사이트노출 교통사고등등 사회문제...</td>\n",
              "      <td>초등 중등 핸드폰 개통불가와 폴더폰으로 할수있도록\\n정부및 통신사에서\\n도움 꼭  ...</td>\n",
              "    </tr>\n",
              "    <tr>\n",
              "      <th>269996</th>\n",
              "      <td>육아/교육</td>\n",
              "      <td>문화/예술/체육/언론</td>\n",
              "      <td>장애영유아의 운명을 바꾸어 주세요!  장애유아에게 의무교육은 생존의 문제입니다!!</td>\n",
              "      <td>장애 영유아의 운명을 바꾸어주세요!\\n장애유아에게 의무교육은 생존의 문제입니다!\\n...</td>\n",
              "    </tr>\n",
              "    <tr>\n",
              "      <th>270428</th>\n",
              "      <td>육아/교육</td>\n",
              "      <td>정치개혁</td>\n",
              "      <td>〓 국민특명, 전국 초․중․고 즉각 휴교실시 〓</td>\n",
              "      <td>전국 초․중․고교의 교장님들!\\n고리타분한 노인네 티내지 마시고 당장 내일부터 태풍...</td>\n",
              "    </tr>\n",
              "    <tr>\n",
              "      <th>274656</th>\n",
              "      <td>육아/교육</td>\n",
              "      <td>인권/성평등</td>\n",
              "      <td>장애아의 형제에게도 맞벌이 가정과 같이 어린이집 대기순번 가산점 부여 및 병설유치원...</td>\n",
              "      <td>만 4세 발달장애 아동과 만 2세 비장애 아동 아이 둘을 키우고 있는 아버지입니다....</td>\n",
              "    </tr>\n",
              "    <tr>\n",
              "      <th>274951</th>\n",
              "      <td>육아/교육</td>\n",
              "      <td>인권/성평등</td>\n",
              "      <td>현 고1도 진로선택과목 절대평가실시를 원합니다.</td>\n",
              "      <td>현 고1도 진로선택과목 절대평가실시를 원합니다.\\n현 고1부터 적용되고 있는 201...</td>\n",
              "    </tr>\n",
              "    <tr>\n",
              "      <th>275096</th>\n",
              "      <td>육아/교육</td>\n",
              "      <td>인권/성평등</td>\n",
              "      <td>내아이는 안양동초등학교에 다니고있습니다</td>\n",
              "      <td>내아이는 안양동초등학교에 다니고있습니다\\n그리고 졸업을 하겠지요\\n또한 작은아이도 ...</td>\n",
              "    </tr>\n",
              "    <tr>\n",
              "      <th>275217</th>\n",
              "      <td>육아/교육</td>\n",
              "      <td>인권/성평등</td>\n",
              "      <td>아동학대 처벌.자격박탈. 왜 불가능한가요</td>\n",
              "      <td>안녕하세요\\n저희는 인천 남동구 아동학대 건으로 남동구청과 남동서에 신고하여 조사가...</td>\n",
              "    </tr>\n",
              "    <tr>\n",
              "      <th>275307</th>\n",
              "      <td>육아/교육</td>\n",
              "      <td>인권/성평등</td>\n",
              "      <td>부천 옥길동에 유치원 초등학교 신설 좀 해주세요</td>\n",
              "      <td>정부는 다양한 저출산 대책을 시행해 왔는데 점점 아이는 줄어들고 있습니다 그런데 아...</td>\n",
              "    </tr>\n",
              "  </tbody>\n",
              "</table>\n",
              "</div>"
            ],
            "text/plain": [
              "       category  ...                                            content\n",
              "263837    육아/교육  ...  저는 피해아동의 외할머니입니다.\\n저희 손주는 5세 남아로 김포 장기동 **** 어...\n",
              "264979    육아/교육  ...  대기업 오너 일가들의 ‘갑질’ 문제가 사회적으로 크게 이슈가 되고 있습니다.\\n그러...\n",
              "267335    육아/교육  ...  초등 중등 핸드폰 개통불가와 폴더폰으로 할수있도록\\n정부및 통신사에서\\n도움 꼭  ...\n",
              "269996    육아/교육  ...  장애 영유아의 운명을 바꾸어주세요!\\n장애유아에게 의무교육은 생존의 문제입니다!\\n...\n",
              "270428    육아/교육  ...  전국 초․중․고교의 교장님들!\\n고리타분한 노인네 티내지 마시고 당장 내일부터 태풍...\n",
              "274656    육아/교육  ...  만 4세 발달장애 아동과 만 2세 비장애 아동 아이 둘을 키우고 있는 아버지입니다....\n",
              "274951    육아/교육  ...  현 고1도 진로선택과목 절대평가실시를 원합니다.\\n현 고1부터 적용되고 있는 201...\n",
              "275096    육아/교육  ...  내아이는 안양동초등학교에 다니고있습니다\\n그리고 졸업을 하겠지요\\n또한 작은아이도 ...\n",
              "275217    육아/교육  ...  안녕하세요\\n저희는 인천 남동구 아동학대 건으로 남동구청과 남동서에 신고하여 조사가...\n",
              "275307    육아/교육  ...  정부는 다양한 저출산 대책을 시행해 왔는데 점점 아이는 줄어들고 있습니다 그런데 아...\n",
              "\n",
              "[10 rows x 4 columns]"
            ]
          },
          "metadata": {
            "tags": []
          },
          "execution_count": 180
        }
      ]
    },
    {
      "cell_type": "markdown",
      "metadata": {
        "id": "4CiHkoDkvfLl",
        "colab_type": "text"
      },
      "source": [
        "# 예측 비율을 높이기위해 해볼 수 있는 것 들입니다.\n",
        "+ 학습 세트와 테스트 세트의 비율을 7:3으로 유지하면서 다음과 같은 방법을 해봅시다.\n",
        "+전처리하기\n",
        "+불용어처리하기\n",
        "+벡터 기법에 들어가는 파라미터 변경\n",
        "+분류기의 파라미터 변경\n",
        "+분류기변경"
      ]
    },
    {
      "cell_type": "code",
      "metadata": {
        "id": "Nd7tya-avplG",
        "colab_type": "code",
        "colab": {}
      },
      "source": [
        ""
      ],
      "execution_count": 0,
      "outputs": []
    }
  ]
}