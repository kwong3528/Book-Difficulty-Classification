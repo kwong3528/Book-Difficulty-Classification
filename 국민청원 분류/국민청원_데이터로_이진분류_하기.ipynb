{
  "nbformat": 4,
  "nbformat_minor": 0,
  "metadata": {
    "colab": {
      "name": "국민청원 데이터로 이진분류 하기.ipynb",
      "provenance": []
    },
    "kernelspec": {
      "name": "python3",
      "display_name": "Python 3"
    },
    "accelerator": "GPU"
  },
  "cells": [
    {
      "cell_type": "code",
      "metadata": {
        "id": "V_H_XxJVzg7N",
        "colab_type": "code",
        "colab": {
          "base_uri": "https://localhost:8080/",
          "height": 53
        },
        "outputId": "8a31d7f2-8171-46d2-dc1f-f2d7ba420def"
      },
      "source": [
        "import pandas as pd\n",
        "import numpy as np\n",
        "import re\n",
        "print(pd.__version__)\n",
        "print(np.__version__)"
      ],
      "execution_count": 4,
      "outputs": [
        {
          "output_type": "stream",
          "text": [
            "0.25.3\n",
            "1.17.3\n"
          ],
          "name": "stdout"
        }
      ]
    },
    {
      "cell_type": "code",
      "metadata": {
        "id": "0QjOWp3Ue3_U",
        "colab_type": "code",
        "colab": {
          "base_uri": "https://localhost:8080/",
          "height": 35
        },
        "outputId": "05e2ad12-07a0-4669-c514-303aecc10887"
      },
      "source": [
        "# 크롤링해 온 국민청원 데이터를 판다스를 통해 읽어옵니다.\n",
        "petitions = pd.read_csv('/content/drive/My Drive/colab/국민청원 데이터 분석/DATA/petition.csv', parse_dates=['start', 'end'])\n",
        "# 데이터의 크기가 어느정도인지 봅니다.\n",
        "petitions.shape"
      ],
      "execution_count": 5,
      "outputs": [
        {
          "output_type": "execute_result",
          "data": {
            "text/plain": [
              "(395547, 8)"
            ]
          },
          "metadata": {
            "tags": []
          },
          "execution_count": 5
        }
      ]
    },
    {
      "cell_type": "code",
      "metadata": {
        "id": "bjaZV-5Te8te",
        "colab_type": "code",
        "colab": {
          "base_uri": "https://localhost:8080/",
          "height": 297
        },
        "outputId": "29379339-28e5-4188-e477-99b4d81017ae"
      },
      "source": [
        "petitions.describe()"
      ],
      "execution_count": 6,
      "outputs": [
        {
          "output_type": "execute_result",
          "data": {
            "text/html": [
              "<div>\n",
              "<style scoped>\n",
              "    .dataframe tbody tr th:only-of-type {\n",
              "        vertical-align: middle;\n",
              "    }\n",
              "\n",
              "    .dataframe tbody tr th {\n",
              "        vertical-align: top;\n",
              "    }\n",
              "\n",
              "    .dataframe thead th {\n",
              "        text-align: right;\n",
              "    }\n",
              "</style>\n",
              "<table border=\"1\" class=\"dataframe\">\n",
              "  <thead>\n",
              "    <tr style=\"text-align: right;\">\n",
              "      <th></th>\n",
              "      <th>article_id</th>\n",
              "      <th>answered</th>\n",
              "      <th>votes</th>\n",
              "    </tr>\n",
              "  </thead>\n",
              "  <tbody>\n",
              "    <tr>\n",
              "      <th>count</th>\n",
              "      <td>395547.000000</td>\n",
              "      <td>395547.000000</td>\n",
              "      <td>3.955470e+05</td>\n",
              "    </tr>\n",
              "    <tr>\n",
              "      <th>mean</th>\n",
              "      <td>251608.934635</td>\n",
              "      <td>0.000073</td>\n",
              "      <td>1.501188e+02</td>\n",
              "    </tr>\n",
              "    <tr>\n",
              "      <th>std</th>\n",
              "      <td>153219.216242</td>\n",
              "      <td>0.008562</td>\n",
              "      <td>4.802583e+03</td>\n",
              "    </tr>\n",
              "    <tr>\n",
              "      <th>min</th>\n",
              "      <td>21.000000</td>\n",
              "      <td>0.000000</td>\n",
              "      <td>0.000000e+00</td>\n",
              "    </tr>\n",
              "    <tr>\n",
              "      <th>25%</th>\n",
              "      <td>115236.500000</td>\n",
              "      <td>0.000000</td>\n",
              "      <td>2.000000e+00</td>\n",
              "    </tr>\n",
              "    <tr>\n",
              "      <th>50%</th>\n",
              "      <td>253682.000000</td>\n",
              "      <td>0.000000</td>\n",
              "      <td>5.000000e+00</td>\n",
              "    </tr>\n",
              "    <tr>\n",
              "      <th>75%</th>\n",
              "      <td>386137.500000</td>\n",
              "      <td>0.000000</td>\n",
              "      <td>1.500000e+01</td>\n",
              "    </tr>\n",
              "    <tr>\n",
              "      <th>max</th>\n",
              "      <td>517122.000000</td>\n",
              "      <td>1.000000</td>\n",
              "      <td>1.192049e+06</td>\n",
              "    </tr>\n",
              "  </tbody>\n",
              "</table>\n",
              "</div>"
            ],
            "text/plain": [
              "          article_id       answered         votes\n",
              "count  395547.000000  395547.000000  3.955470e+05\n",
              "mean   251608.934635       0.000073  1.501188e+02\n",
              "std    153219.216242       0.008562  4.802583e+03\n",
              "min        21.000000       0.000000  0.000000e+00\n",
              "25%    115236.500000       0.000000  2.000000e+00\n",
              "50%    253682.000000       0.000000  5.000000e+00\n",
              "75%    386137.500000       0.000000  1.500000e+01\n",
              "max    517122.000000       1.000000  1.192049e+06"
            ]
          },
          "metadata": {
            "tags": []
          },
          "execution_count": 6
        }
      ]
    },
    {
      "cell_type": "code",
      "metadata": {
        "id": "dFs50eqBfA-s",
        "colab_type": "code",
        "colab": {
          "base_uri": "https://localhost:8080/",
          "height": 35
        },
        "outputId": "08c29ce9-1da0-447b-fc2b-8f550f8bb826"
      },
      "source": [
        "# 전체 데이터 중 투표가 1000건 이상인 데이터를 기준으로 가져옵니다. 아웃라이어 데이터 제거를 위해 20만건 이상 데이터도 제거합니다.\n",
        "petition_remove_outlier = petitions.loc[(petitions['votes'] > 100) & (petitions['votes'] < 10000)]\n",
        "petition_remove_outlier.shape"
      ],
      "execution_count": 7,
      "outputs": [
        {
          "output_type": "execute_result",
          "data": {
            "text/plain": [
              "(17729, 8)"
            ]
          },
          "metadata": {
            "tags": []
          },
          "execution_count": 7
        }
      ]
    },
    {
      "cell_type": "code",
      "metadata": {
        "id": "6hCKJiJKfpl8",
        "colab_type": "code",
        "colab": {}
      },
      "source": [
        "df = petition_remove_outlier.copy()"
      ],
      "execution_count": 0,
      "outputs": []
    },
    {
      "cell_type": "code",
      "metadata": {
        "id": "fkT-_yFigCNc",
        "colab_type": "code",
        "colab": {
          "base_uri": "https://localhost:8080/",
          "height": 297
        },
        "outputId": "87bd0257-75e8-427a-bba3-9f73e10bd709"
      },
      "source": [
        "df.describe()"
      ],
      "execution_count": 9,
      "outputs": [
        {
          "output_type": "execute_result",
          "data": {
            "text/html": [
              "<div>\n",
              "<style scoped>\n",
              "    .dataframe tbody tr th:only-of-type {\n",
              "        vertical-align: middle;\n",
              "    }\n",
              "\n",
              "    .dataframe tbody tr th {\n",
              "        vertical-align: top;\n",
              "    }\n",
              "\n",
              "    .dataframe thead th {\n",
              "        text-align: right;\n",
              "    }\n",
              "</style>\n",
              "<table border=\"1\" class=\"dataframe\">\n",
              "  <thead>\n",
              "    <tr style=\"text-align: right;\">\n",
              "      <th></th>\n",
              "      <th>article_id</th>\n",
              "      <th>answered</th>\n",
              "      <th>votes</th>\n",
              "    </tr>\n",
              "  </thead>\n",
              "  <tbody>\n",
              "    <tr>\n",
              "      <th>count</th>\n",
              "      <td>17729.000000</td>\n",
              "      <td>17729.0</td>\n",
              "      <td>17729.000000</td>\n",
              "    </tr>\n",
              "    <tr>\n",
              "      <th>mean</th>\n",
              "      <td>273607.968639</td>\n",
              "      <td>0.0</td>\n",
              "      <td>687.453833</td>\n",
              "    </tr>\n",
              "    <tr>\n",
              "      <th>std</th>\n",
              "      <td>135858.650931</td>\n",
              "      <td>0.0</td>\n",
              "      <td>1283.127307</td>\n",
              "    </tr>\n",
              "    <tr>\n",
              "      <th>min</th>\n",
              "      <td>28.000000</td>\n",
              "      <td>0.0</td>\n",
              "      <td>101.000000</td>\n",
              "    </tr>\n",
              "    <tr>\n",
              "      <th>25%</th>\n",
              "      <td>173151.000000</td>\n",
              "      <td>0.0</td>\n",
              "      <td>142.000000</td>\n",
              "    </tr>\n",
              "    <tr>\n",
              "      <th>50%</th>\n",
              "      <td>269421.000000</td>\n",
              "      <td>0.0</td>\n",
              "      <td>227.000000</td>\n",
              "    </tr>\n",
              "    <tr>\n",
              "      <th>75%</th>\n",
              "      <td>398158.000000</td>\n",
              "      <td>0.0</td>\n",
              "      <td>540.000000</td>\n",
              "    </tr>\n",
              "    <tr>\n",
              "      <th>max</th>\n",
              "      <td>517095.000000</td>\n",
              "      <td>0.0</td>\n",
              "      <td>9988.000000</td>\n",
              "    </tr>\n",
              "  </tbody>\n",
              "</table>\n",
              "</div>"
            ],
            "text/plain": [
              "          article_id  answered         votes\n",
              "count   17729.000000   17729.0  17729.000000\n",
              "mean   273607.968639       0.0    687.453833\n",
              "std    135858.650931       0.0   1283.127307\n",
              "min        28.000000       0.0    101.000000\n",
              "25%    173151.000000       0.0    142.000000\n",
              "50%    269421.000000       0.0    227.000000\n",
              "75%    398158.000000       0.0    540.000000\n",
              "max    517095.000000       0.0   9988.000000"
            ]
          },
          "metadata": {
            "tags": []
          },
          "execution_count": 9
        }
      ]
    },
    {
      "cell_type": "markdown",
      "metadata": {
        "id": "DtL4PCozgGHD",
        "colab_type": "text"
      },
      "source": [
        "# 이진분류 대상 정하기"
      ]
    },
    {
      "cell_type": "code",
      "metadata": {
        "id": "NQI3uKUpgJT_",
        "colab_type": "code",
        "colab": {
          "base_uri": "https://localhost:8080/",
          "height": 35
        },
        "outputId": "ba54ffae-49b9-4636-8b30-81f146517922"
      },
      "source": [
        "df.loc[df['answered'] == 1].shape"
      ],
      "execution_count": 10,
      "outputs": [
        {
          "output_type": "execute_result",
          "data": {
            "text/plain": [
              "(0, 8)"
            ]
          },
          "metadata": {
            "tags": []
          },
          "execution_count": 10
        }
      ]
    },
    {
      "cell_type": "code",
      "metadata": {
        "id": "2mJ8yudTgSrs",
        "colab_type": "code",
        "colab": {
          "base_uri": "https://localhost:8080/",
          "height": 283
        },
        "outputId": "d47938a4-aaed-45bb-c9a6-b4488097f8da"
      },
      "source": [
        "%matplotlib inline\n",
        "df['votes'].plot.hist()"
      ],
      "execution_count": 11,
      "outputs": [
        {
          "output_type": "execute_result",
          "data": {
            "text/plain": [
              "<matplotlib.axes._subplots.AxesSubplot at 0x7f3c961f09e8>"
            ]
          },
          "metadata": {
            "tags": []
          },
          "execution_count": 11
        },
        {
          "output_type": "display_data",
          "data": {
            "image/png": "[encoded data removed]",
            "text/plain": [
              "<Figure size 432x288 with 1 Axes>"
            ]
          },
          "metadata": {
            "tags": []
          }
        }
      ]
    },
    {
      "cell_type": "markdown",
      "metadata": {
        "id": "FbP-nW7ygYRs",
        "colab_type": "text"
      },
      "source": [
        "# 투표수를 평균보다 높게 혹은 적게 받는지 예측해 보기"
      ]
    },
    {
      "cell_type": "code",
      "metadata": {
        "id": "6sYSVF9sggt3",
        "colab_type": "code",
        "colab": {}
      },
      "source": [
        "# 기본값을 0으로 세팅\n",
        "df['votes_pos_neg'] = 0"
      ],
      "execution_count": 0,
      "outputs": []
    },
    {
      "cell_type": "code",
      "metadata": {
        "id": "nSginAkAgtNZ",
        "colab_type": "code",
        "colab": {
          "base_uri": "https://localhost:8080/",
          "height": 35
        },
        "outputId": "2b36e4e0-e127-4cd1-9260-a763e83a8447"
      },
      "source": [
        "votes_mean = df['votes'].mean()\n",
        "votes_mean"
      ],
      "execution_count": 13,
      "outputs": [
        {
          "output_type": "execute_result",
          "data": {
            "text/plain": [
              "687.4538327034802"
            ]
          },
          "metadata": {
            "tags": []
          },
          "execution_count": 13
        }
      ]
    },
    {
      "cell_type": "code",
      "metadata": {
        "id": "gliCESQOgjX7",
        "colab_type": "code",
        "colab": {}
      },
      "source": [
        "# 평균 투표수를 구해봅시다.\n",
        "df['votes_pos_neg'] = (df['votes'] > votes_mean) == 1\n",
        "# 타입을 boolean 에서 int로 변경해 줍니다.\n",
        "df['votes_pos_neg'] = df['votes_pos_neg'].astype(int)"
      ],
      "execution_count": 0,
      "outputs": []
    },
    {
      "cell_type": "code",
      "metadata": {
        "id": "rhdkBwp4g9qk",
        "colab_type": "code",
        "colab": {}
      },
      "source": [
        "# 샘플로 보고 싶은 인덱스의 번호르를 넣어보세요\n",
        "sample_index = 30"
      ],
      "execution_count": 0,
      "outputs": []
    },
    {
      "cell_type": "code",
      "metadata": {
        "id": "9p6GH_kQhLBr",
        "colab_type": "code",
        "colab": {
          "base_uri": "https://localhost:8080/",
          "height": 35
        },
        "outputId": "8dec5fa9-e914-4bc2-bc74-8c3da3350551"
      },
      "source": [
        "sample_title = df['title'][sample_index]\n",
        "sample_title"
      ],
      "execution_count": 16,
      "outputs": [
        {
          "output_type": "execute_result",
          "data": {
            "text/plain": [
              "'국가유공자 예우및 지원에 관한 법룰 시행령 개정 청원'"
            ]
          },
          "metadata": {
            "tags": []
          },
          "execution_count": 16
        }
      ]
    },
    {
      "cell_type": "code",
      "metadata": {
        "id": "DIjSQfv2hYnD",
        "colab_type": "code",
        "colab": {}
      },
      "source": [
        "sample_content = petitions['content'][sample_index]"
      ],
      "execution_count": 0,
      "outputs": []
    },
    {
      "cell_type": "code",
      "metadata": {
        "id": "mCETZHBOhgTk",
        "colab_type": "code",
        "colab": {
          "base_uri": "https://localhost:8080/",
          "height": 55
        },
        "outputId": "40151a79-439a-418d-82e8-03b17b5a7168"
      },
      "source": [
        "sample_content"
      ],
      "execution_count": 18,
      "outputs": [
        {
          "output_type": "execute_result",
          "data": {
            "text/plain": [
              "'간절히 간절히 간청 드립니다.\\\\n지금부터 67년전 1950년 6.25전쟁때 조국 대한민국이 위태로운 시점에 우리들 아버님께서는 조국의 부름을 받고 젊은 나이에 목숨을 바쳐 대한민국을 지켜 내셨습니다.\\\\n나라가 불러서, 나라를 위해 전장에 나가 싸우다가 총탄에 맞아 쓰러져 돌아가신 아버지는 어느 산천에 묻혀 계신지 아직껏 유골마저 찾지 못하고 있습니다.\\\\n저희들은 6.25전몰군경 유자녀입니다.\\\\n1997년 12월31일 이전에 어머니가 사망하면 매달 수당을 받고 1998년 1월1일 이후에 어머니가 사망하면 수당을 줄 수 없다는 해괴망측한 악법이 우리들을 옭아매어 똑 같은 유자녀들간에 억울한 차별을 하며 16년간의 긴세월동안 우리들을 홀대하여 가슴에 피멍을 들게 했습니다.\\\\n똑 같이 전장에서 아버지를 잃은 유자녀들을 어머니의 사망 날짜 기준으로 분리해서 갈라놓았습니다. 그것도 이틀도 아니고 한 달도 아닌 딱 하루사이로 말입니다.\\\\n현재 수당 지급액\\\\n1997년 이전 모친  사망 유자녀         월 1,004,000원\\\\n1998년 이후 모친  사망 유자녀         월   118,000원.\\\\n\"국가유공자등 예우의 지원에 관한 법률\"이 2015년 12월 29일통과되어 기수당유자녀와 동등한대도 너무나 어이없는 수당에 항의하자 ‘주면 주는 대로 받지 웬 말이 많으냐고’ 하며 동냥 거지 취급하며 외면해 버립니다.\\\\n세상 어느 나라도 어머니의 죽음을 가지고 이런 해괴망측하고 비굴한 악법을 만들어서 불쌍한 유자녀들을 울리는 나라는 없을 것이며 우리들의 아픔을 살펴서 해결해줘야 하는 보훈처가 우리들을 무시합니다.\\\\n이런 사정을 다른 나라에 알려진다면 나라 창피가 될 것입니다.\\\\n6.25전몰군경 유자녀 수당이 10배나 차이 나는 점을 시정해 주셔서 현충일 추념사에서 \"보훈 가족이 자존감을 지키며 살아가실 수 있도록 하겠습니다.\"라는 말씀이 실현되어 6.25미수당 유자녀들이 자존감을 지키며 살아가게 되기를 간절히 간청드립니다..'"
            ]
          },
          "metadata": {
            "tags": []
          },
          "execution_count": 18
        }
      ]
    },
    {
      "cell_type": "code",
      "metadata": {
        "id": "6rAx_ugNhhSL",
        "colab_type": "code",
        "colab": {}
      },
      "source": [
        "def preprocessing(text):\n",
        "    # 개행문자 제거\n",
        "    text = re.sub('\\\\\\\\n', ' ', text)\n",
        "    # 특수문자 제거\n",
        "    # 특수문자나 이모티콘 등은 때로는 의미를 갖기도 하지만 여기에서는 제거했습니다.\n",
        "    # text = re.sub('[?.,;:|\\)*~`’!^\\-_+<>@\\#$%&-=#}※]', '', text)\n",
        "    # 한글, 영문, 숫자만 남기고 모두 제거하도록 합니다.\n",
        "    # text = re.sub('[^가-힣ㄱ-ㅎㅏ-ㅣa-zA-Z0-9]', ' ', text)\n",
        "    # 한글, 영문만 남기고 모두 제거하도록 합니다.\n",
        "    text = re.sub('[^가-힣ㄱ-ㅎㅏ-ㅣa-zA-Z]', ' ', text)\n",
        "    # 중복으로 생성된 공백값을 제거합니다.\n",
        "    text = re.sub(' +', ' ', text)\n",
        "    return text"
      ],
      "execution_count": 0,
      "outputs": []
    },
    {
      "cell_type": "code",
      "metadata": {
        "id": "rMMwGAlghm0D",
        "colab_type": "code",
        "colab": {}
      },
      "source": [
        "# 불용어 제거\n",
        "def remove_stopwords(text):\n",
        "    tokens = text.split(' ')\n",
        "    stops = ['안녕', '있습니다', '그', '년도', '안녕하세요', '하는', '및', '제', '할', '하고', '더', '대한', '한', '그리고', '월', '저는', '없는', '입니다', '등', '일', '많은', '이런', '것은', '왜','같은', '같습니다', '없습니다', '위해', '한다']\n",
        "    meaningful_words = [w for w in tokens if not w in stops]\n",
        "    return ' '.join(meaningful_words)"
      ],
      "execution_count": 0,
      "outputs": []
    },
    {
      "cell_type": "code",
      "metadata": {
        "id": "t78nFIeGht29",
        "colab_type": "code",
        "colab": {}
      },
      "source": [
        "pre_sample_content = preprocessing(sample_content)\n",
        "pre_sample_content = remove_stopwords(pre_sample_content)"
      ],
      "execution_count": 0,
      "outputs": []
    },
    {
      "cell_type": "code",
      "metadata": {
        "id": "uIjdy2wKh0h8",
        "colab_type": "code",
        "colab": {
          "base_uri": "https://localhost:8080/",
          "height": 53
        },
        "outputId": "fdbd3fe6-8067-4872-81a3-b2199432124e"
      },
      "source": [
        "%time df['content_preprocessing'] = df['content'].apply(preprocessing)"
      ],
      "execution_count": 22,
      "outputs": [
        {
          "output_type": "stream",
          "text": [
            "CPU times: user 1.86 s, sys: 24 ms, total: 1.88 s\n",
            "Wall time: 1.89 s\n"
          ],
          "name": "stdout"
        }
      ]
    },
    {
      "cell_type": "code",
      "metadata": {
        "id": "6dQO-_4xiCck",
        "colab_type": "code",
        "colab": {
          "base_uri": "https://localhost:8080/",
          "height": 53
        },
        "outputId": "932753d2-d042-49ec-e4cc-99f327c9bbb3"
      },
      "source": [
        "%time df['content_preprocessing2'] = df['content_preprocessing'].apply(remove_stopwords)"
      ],
      "execution_count": 23,
      "outputs": [
        {
          "output_type": "stream",
          "text": [
            "CPU times: user 1.55 s, sys: 25 ms, total: 1.57 s\n",
            "Wall time: 1.57 s\n"
          ],
          "name": "stdout"
        }
      ]
    },
    {
      "cell_type": "markdown",
      "metadata": {
        "id": "X7b573exiM1M",
        "colab_type": "text"
      },
      "source": [
        "#학습세트와 테스트세트 만들기"
      ]
    },
    {
      "cell_type": "code",
      "metadata": {
        "id": "Pb8b_OS7iQDA",
        "colab_type": "code",
        "colab": {}
      },
      "source": [
        "df = df.reindex()"
      ],
      "execution_count": 0,
      "outputs": []
    },
    {
      "cell_type": "code",
      "metadata": {
        "id": "3awh4Mo8iVTM",
        "colab_type": "code",
        "colab": {
          "base_uri": "https://localhost:8080/",
          "height": 35
        },
        "outputId": "90c843a2-d001-404f-e76f-ec813f8fb0be"
      },
      "source": [
        "df.shape"
      ],
      "execution_count": 25,
      "outputs": [
        {
          "output_type": "execute_result",
          "data": {
            "text/plain": [
              "(17729, 11)"
            ]
          },
          "metadata": {
            "tags": []
          },
          "execution_count": 25
        }
      ]
    },
    {
      "cell_type": "code",
      "metadata": {
        "id": "4HHIl9pTijHs",
        "colab_type": "code",
        "colab": {
          "base_uri": "https://localhost:8080/",
          "height": 35
        },
        "outputId": "07aa4ec9-79bd-4d90-bf5b-6db8c9b90f7b"
      },
      "source": [
        "split_count = int(df.shape[0] * 0.7)\n",
        "split_count"
      ],
      "execution_count": 26,
      "outputs": [
        {
          "output_type": "execute_result",
          "data": {
            "text/plain": [
              "12410"
            ]
          },
          "metadata": {
            "tags": []
          },
          "execution_count": 26
        }
      ]
    },
    {
      "cell_type": "code",
      "metadata": {
        "id": "MoVA11QlisrN",
        "colab_type": "code",
        "colab": {
          "base_uri": "https://localhost:8080/",
          "height": 35
        },
        "outputId": "071c268a-28c2-4679-8e93-2b2429f92379"
      },
      "source": [
        "df_train = df[:split_count].copy()\n",
        "df_train.shape"
      ],
      "execution_count": 27,
      "outputs": [
        {
          "output_type": "execute_result",
          "data": {
            "text/plain": [
              "(12410, 11)"
            ]
          },
          "metadata": {
            "tags": []
          },
          "execution_count": 27
        }
      ]
    },
    {
      "cell_type": "code",
      "metadata": {
        "id": "p9H-VROAiw8d",
        "colab_type": "code",
        "colab": {
          "base_uri": "https://localhost:8080/",
          "height": 289
        },
        "outputId": "b7af29e0-3fee-480e-b8ab-b9eb00b0259a"
      },
      "source": [
        "df_train.head()"
      ],
      "execution_count": 28,
      "outputs": [
        {
          "output_type": "execute_result",
          "data": {
            "text/html": [
              "<div>\n",
              "<style scoped>\n",
              "    .dataframe tbody tr th:only-of-type {\n",
              "        vertical-align: middle;\n",
              "    }\n",
              "\n",
              "    .dataframe tbody tr th {\n",
              "        vertical-align: top;\n",
              "    }\n",
              "\n",
              "    .dataframe thead th {\n",
              "        text-align: right;\n",
              "    }\n",
              "</style>\n",
              "<table border=\"1\" class=\"dataframe\">\n",
              "  <thead>\n",
              "    <tr style=\"text-align: right;\">\n",
              "      <th></th>\n",
              "      <th>article_id</th>\n",
              "      <th>start</th>\n",
              "      <th>end</th>\n",
              "      <th>answered</th>\n",
              "      <th>votes</th>\n",
              "      <th>category</th>\n",
              "      <th>title</th>\n",
              "      <th>content</th>\n",
              "      <th>votes_pos_neg</th>\n",
              "      <th>content_preprocessing</th>\n",
              "      <th>content_preprocessing2</th>\n",
              "    </tr>\n",
              "  </thead>\n",
              "  <tbody>\n",
              "    <tr>\n",
              "      <th>7</th>\n",
              "      <td>28</td>\n",
              "      <td>2017-08-19</td>\n",
              "      <td>2017-08-26</td>\n",
              "      <td>0</td>\n",
              "      <td>2137</td>\n",
              "      <td>경제민주화</td>\n",
              "      <td>소액주주를 보호해주십시오</td>\n",
              "      <td>**  존경하옵는 문재인대통령님께\\n저는 중국원양자원이라는 KOSPI상장사의 소액 ...</td>\n",
              "      <td>1</td>\n",
              "      <td>존경하옵는 문재인대통령님께 저는 중국원양자원이라는 KOSPI상장사의 소액 주주입니...</td>\n",
              "      <td>존경하옵는 문재인대통령님께 중국원양자원이라는 KOSPI상장사의 소액 주주입니다 중...</td>\n",
              "    </tr>\n",
              "    <tr>\n",
              "      <th>13</th>\n",
              "      <td>34</td>\n",
              "      <td>2017-08-19</td>\n",
              "      <td>2017-09-18</td>\n",
              "      <td>0</td>\n",
              "      <td>679</td>\n",
              "      <td>기타</td>\n",
              "      <td>『국가유공자 등 예우 및 지원에 관한법률』상「6.25전몰군경 자녀수당」의 불합리한 ...</td>\n",
              "      <td>(현황)\\n우리들 아버지께서는 67여년전 북의 남침으로 조국이 위기에 처했을 때 젊...</td>\n",
              "      <td>0</td>\n",
              "      <td>현황 우리들 아버지께서는 여년전 북의 남침으로 조국이 위기에 처했을 때 젊은 목숨...</td>\n",
              "      <td>현황 우리들 아버지께서는 여년전 북의 남침으로 조국이 위기에 처했을 때 젊은 목숨...</td>\n",
              "    </tr>\n",
              "    <tr>\n",
              "      <th>16</th>\n",
              "      <td>37</td>\n",
              "      <td>2017-08-19</td>\n",
              "      <td>2017-09-18</td>\n",
              "      <td>0</td>\n",
              "      <td>415</td>\n",
              "      <td>기타</td>\n",
              "      <td>황우석박사님 연구재개 허용 촉구합니다.</td>\n",
              "      <td>국민의 70% 이상이 황우석박사님을 응원하고 지지하고 있습니다.\\n*2007년 1월...</td>\n",
              "      <td>0</td>\n",
              "      <td>국민의 이상이 황우석박사님을 응원하고 지지하고 있습니다 년 월 중앙일보 여론조 국민...</td>\n",
              "      <td>국민의 이상이 황우석박사님을 응원하고 지지하고 년 중앙일보 여론조 국민 여론조사 황...</td>\n",
              "    </tr>\n",
              "    <tr>\n",
              "      <th>18</th>\n",
              "      <td>40</td>\n",
              "      <td>2017-08-19</td>\n",
              "      <td>2017-09-18</td>\n",
              "      <td>0</td>\n",
              "      <td>218</td>\n",
              "      <td>외교/통일/국방</td>\n",
              "      <td>국가유공자등 예우및 지우너에 관한 법률 시행령 개정</td>\n",
              "      <td>지금부터 67년전 1950년 6.25전쟁때 조국 대한민국이 위태로운 시점에 우리들 ...</td>\n",
              "      <td>0</td>\n",
              "      <td>지금부터 년전 년 전쟁때 조국 대한민국이 위태로운 시점에 우리들 아버님께서는 조국의...</td>\n",
              "      <td>지금부터 년전 년 전쟁때 조국 대한민국이 위태로운 시점에 우리들 아버님께서는 조국의...</td>\n",
              "    </tr>\n",
              "    <tr>\n",
              "      <th>19</th>\n",
              "      <td>41</td>\n",
              "      <td>2017-08-19</td>\n",
              "      <td>2017-09-18</td>\n",
              "      <td>0</td>\n",
              "      <td>227</td>\n",
              "      <td>외교/통일/국방</td>\n",
              "      <td>국가유공자등 예우및 지우너에 관한 법률 시행령 개정</td>\n",
              "      <td>지금부터 67년전 1950년 6.25전쟁때 조국 대한민국이 위태로운 시점에 우리들 ...</td>\n",
              "      <td>0</td>\n",
              "      <td>지금부터 년전 년 전쟁때 조국 대한민국이 위태로운 시점에 우리들 아버님께서는 조국의...</td>\n",
              "      <td>지금부터 년전 년 전쟁때 조국 대한민국이 위태로운 시점에 우리들 아버님께서는 조국의...</td>\n",
              "    </tr>\n",
              "  </tbody>\n",
              "</table>\n",
              "</div>"
            ],
            "text/plain": [
              "    article_id  ...                             content_preprocessing2\n",
              "7           28  ...   존경하옵는 문재인대통령님께 중국원양자원이라는 KOSPI상장사의 소액 주주입니다 중...\n",
              "13          34  ...   현황 우리들 아버지께서는 여년전 북의 남침으로 조국이 위기에 처했을 때 젊은 목숨...\n",
              "16          37  ...  국민의 이상이 황우석박사님을 응원하고 지지하고 년 중앙일보 여론조 국민 여론조사 황...\n",
              "18          40  ...  지금부터 년전 년 전쟁때 조국 대한민국이 위태로운 시점에 우리들 아버님께서는 조국의...\n",
              "19          41  ...  지금부터 년전 년 전쟁때 조국 대한민국이 위태로운 시점에 우리들 아버님께서는 조국의...\n",
              "\n",
              "[5 rows x 11 columns]"
            ]
          },
          "metadata": {
            "tags": []
          },
          "execution_count": 28
        }
      ]
    },
    {
      "cell_type": "code",
      "metadata": {
        "id": "wczB8C9Gi29s",
        "colab_type": "code",
        "colab": {
          "base_uri": "https://localhost:8080/",
          "height": 35
        },
        "outputId": "21d40ffc-0b1b-4da5-fbd7-65ffc339a2bd"
      },
      "source": [
        "df_train.loc[df_train['votes_pos_neg'] == 1].shape"
      ],
      "execution_count": 29,
      "outputs": [
        {
          "output_type": "execute_result",
          "data": {
            "text/plain": [
              "(2574, 11)"
            ]
          },
          "metadata": {
            "tags": []
          },
          "execution_count": 29
        }
      ]
    },
    {
      "cell_type": "code",
      "metadata": {
        "id": "T6V_q0-CjAzE",
        "colab_type": "code",
        "colab": {
          "base_uri": "https://localhost:8080/",
          "height": 35
        },
        "outputId": "2fb665bc-7965-4b7a-f6f3-814c8edca469"
      },
      "source": [
        "# 테스트 세트\n",
        "df_test = df[split_count:].copy()\n",
        "df_test.shape"
      ],
      "execution_count": 30,
      "outputs": [
        {
          "output_type": "execute_result",
          "data": {
            "text/plain": [
              "(5319, 11)"
            ]
          },
          "metadata": {
            "tags": []
          },
          "execution_count": 30
        }
      ]
    },
    {
      "cell_type": "code",
      "metadata": {
        "id": "3pNYs34CjGaM",
        "colab_type": "code",
        "colab": {
          "base_uri": "https://localhost:8080/",
          "height": 306
        },
        "outputId": "07a5a5f1-e283-4fab-f17e-6ead8a60d264"
      },
      "source": [
        "df_test.head()"
      ],
      "execution_count": 31,
      "outputs": [
        {
          "output_type": "execute_result",
          "data": {
            "text/html": [
              "<div>\n",
              "<style scoped>\n",
              "    .dataframe tbody tr th:only-of-type {\n",
              "        vertical-align: middle;\n",
              "    }\n",
              "\n",
              "    .dataframe tbody tr th {\n",
              "        vertical-align: top;\n",
              "    }\n",
              "\n",
              "    .dataframe thead th {\n",
              "        text-align: right;\n",
              "    }\n",
              "</style>\n",
              "<table border=\"1\" class=\"dataframe\">\n",
              "  <thead>\n",
              "    <tr style=\"text-align: right;\">\n",
              "      <th></th>\n",
              "      <th>article_id</th>\n",
              "      <th>start</th>\n",
              "      <th>end</th>\n",
              "      <th>answered</th>\n",
              "      <th>votes</th>\n",
              "      <th>category</th>\n",
              "      <th>title</th>\n",
              "      <th>content</th>\n",
              "      <th>votes_pos_neg</th>\n",
              "      <th>content_preprocessing</th>\n",
              "      <th>content_preprocessing2</th>\n",
              "    </tr>\n",
              "  </thead>\n",
              "  <tbody>\n",
              "    <tr>\n",
              "      <th>281221</th>\n",
              "      <td>365194</td>\n",
              "      <td>2018-09-03</td>\n",
              "      <td>2018-10-03</td>\n",
              "      <td>0</td>\n",
              "      <td>212</td>\n",
              "      <td>교통/건축/국토</td>\n",
              "      <td>화물차 과적제도에 관한 건</td>\n",
              "      <td>안녕하십니까.\\n화물차 과적제도의 오류에 관해 여쭤보고 싶습니다.\\n화물업계를 모르...</td>\n",
              "      <td>0</td>\n",
              "      <td>안녕하십니까 화물차 과적제도의 오류에 관해 여쭤보고 싶습니다 화물업계를 모르는 대부...</td>\n",
              "      <td>안녕하십니까 화물차 과적제도의 오류에 관해 여쭤보고 싶습니다 화물업계를 모르는 대부...</td>\n",
              "    </tr>\n",
              "    <tr>\n",
              "      <th>281226</th>\n",
              "      <td>365199</td>\n",
              "      <td>2018-09-03</td>\n",
              "      <td>2018-10-03</td>\n",
              "      <td>0</td>\n",
              "      <td>192</td>\n",
              "      <td>문화/예술/체육/언론</td>\n",
              "      <td>선동열 병역비리 조사 청원합니다,</td>\n",
              "      <td>선동열은 말도 안된 선수을 선발 해서 병역면제을 받게 만든 병역 브로커 입니다,\\n...</td>\n",
              "      <td>0</td>\n",
              "      <td>선동열은 말도 안된 선수을 선발 해서 병역면제을 받게 만든 병역 브로커 입니다 실책...</td>\n",
              "      <td>선동열은 말도 안된 선수을 선발 해서 병역면제을 받게 만든 병역 브로커 실책 위 삼...</td>\n",
              "    </tr>\n",
              "    <tr>\n",
              "      <th>281236</th>\n",
              "      <td>365209</td>\n",
              "      <td>2018-09-03</td>\n",
              "      <td>2018-10-03</td>\n",
              "      <td>0</td>\n",
              "      <td>154</td>\n",
              "      <td>기타</td>\n",
              "      <td>인천시 성매매 여성들에게 자활자금 2260만원이 현실인가요.?</td>\n",
              "      <td>대한민국에서 언제부터 성매매 여성에게\\n자활 지원이랍시고 돈을 지원해준단 생각을\\n...</td>\n",
              "      <td>0</td>\n",
              "      <td>대한민국에서 언제부터 성매매 여성에게 자활 지원이랍시고 돈을 지원해준단 생각을 하였...</td>\n",
              "      <td>대한민국에서 언제부터 성매매 여성에게 자활 지원이랍시고 돈을 지원해준단 생각을 하였...</td>\n",
              "    </tr>\n",
              "    <tr>\n",
              "      <th>281275</th>\n",
              "      <td>365259</td>\n",
              "      <td>2018-09-04</td>\n",
              "      <td>2018-10-04</td>\n",
              "      <td>0</td>\n",
              "      <td>823</td>\n",
              "      <td>교통/건축/국토</td>\n",
              "      <td>무주택자를 아파트 청약 1순위로, 유주택자를 2순위로 조정 부탁드립니다.</td>\n",
              "      <td>서민 주거 안정을 위해서라면 현재 1순위 청약기준을 무주택자 또는 1주택자가 아닌,...</td>\n",
              "      <td>1</td>\n",
              "      <td>서민 주거 안정을 위해서라면 현재 순위 청약기준을 무주택자 또는 주택자가 아닌 무주...</td>\n",
              "      <td>서민 주거 안정을 위해서라면 현재 순위 청약기준을 무주택자 또는 주택자가 아닌 무주...</td>\n",
              "    </tr>\n",
              "    <tr>\n",
              "      <th>281284</th>\n",
              "      <td>365269</td>\n",
              "      <td>2018-09-04</td>\n",
              "      <td>2018-10-04</td>\n",
              "      <td>0</td>\n",
              "      <td>115</td>\n",
              "      <td>안전/환경</td>\n",
              "      <td>지구를 위해서 페트병 라벨분리를 의무화 시켜주세요!</td>\n",
              "      <td>안녕하세요 지구를 사랑하고, 현재 망가져가는 지구를 바라볼 때 마다 마음이 아픈 학...</td>\n",
              "      <td>0</td>\n",
              "      <td>안녕하세요 지구를 사랑하고 현재 망가져가는 지구를 바라볼 때 마다 마음이 아픈 학생...</td>\n",
              "      <td>지구를 사랑하고 현재 망가져가는 지구를 바라볼 때 마다 마음이 아픈 학생입니다 부디...</td>\n",
              "    </tr>\n",
              "  </tbody>\n",
              "</table>\n",
              "</div>"
            ],
            "text/plain": [
              "        article_id  ...                             content_preprocessing2\n",
              "281221      365194  ...  안녕하십니까 화물차 과적제도의 오류에 관해 여쭤보고 싶습니다 화물업계를 모르는 대부...\n",
              "281226      365199  ...  선동열은 말도 안된 선수을 선발 해서 병역면제을 받게 만든 병역 브로커 실책 위 삼...\n",
              "281236      365209  ...  대한민국에서 언제부터 성매매 여성에게 자활 지원이랍시고 돈을 지원해준단 생각을 하였...\n",
              "281275      365259  ...  서민 주거 안정을 위해서라면 현재 순위 청약기준을 무주택자 또는 주택자가 아닌 무주...\n",
              "281284      365269  ...  지구를 사랑하고 현재 망가져가는 지구를 바라볼 때 마다 마음이 아픈 학생입니다 부디...\n",
              "\n",
              "[5 rows x 11 columns]"
            ]
          },
          "metadata": {
            "tags": []
          },
          "execution_count": 31
        }
      ]
    },
    {
      "cell_type": "code",
      "metadata": {
        "id": "S7AAqi5_jJtT",
        "colab_type": "code",
        "colab": {
          "base_uri": "https://localhost:8080/",
          "height": 35
        },
        "outputId": "705f4841-1aad-40cc-f245-cb7c517495c7"
      },
      "source": [
        "df_test.loc[df_test['votes_pos_neg'] == 1].shape"
      ],
      "execution_count": 32,
      "outputs": [
        {
          "output_type": "execute_result",
          "data": {
            "text/plain": [
              "(1103, 11)"
            ]
          },
          "metadata": {
            "tags": []
          },
          "execution_count": 32
        }
      ]
    },
    {
      "cell_type": "code",
      "metadata": {
        "id": "peBOkmGkjPcU",
        "colab_type": "code",
        "colab": {}
      },
      "source": [
        "from sklearn.feature_extraction.text import CountVectorizer"
      ],
      "execution_count": 0,
      "outputs": []
    },
    {
      "cell_type": "code",
      "metadata": {
        "id": "Ms6yPAw6jU3k",
        "colab_type": "code",
        "colab": {
          "base_uri": "https://localhost:8080/",
          "height": 125
        },
        "outputId": "7ca5f2df-f938-46f0-a926-60bdc1638763"
      },
      "source": [
        "vectorizer = CountVectorizer(analyzer = 'word', # 캐릭터 단위로 벡터화 할 수도 있습니다.\n",
        "                             tokenizer = None, # 토크나이저를 따로 지정해 줄 수도 있습니다.\n",
        "                             preprocessor = None, # 전처리 도구\n",
        "                             stop_words = None, # 불용어 nltk등의 도구를 사용할 수도 있습니다.\n",
        "                             min_df = 2, # 토큰이 나타날 최소 문서 개수로 오타나 자주 나오지 않는 특수한 전문용어 제거에 좋다. \n",
        "                             ngram_range=(1, 3), # BOW의 단위를 1~3개로 지정합니다.\n",
        "                             max_features = 2000 # 만들 피처의 수, 단어의 수가 된다.\n",
        "                            )\n",
        "vectorizer"
      ],
      "execution_count": 34,
      "outputs": [
        {
          "output_type": "execute_result",
          "data": {
            "text/plain": [
              "CountVectorizer(analyzer='word', binary=False, decode_error='strict',\n",
              "                dtype=<class 'numpy.int64'>, encoding='utf-8', input='content',\n",
              "                lowercase=True, max_df=1.0, max_features=2000, min_df=2,\n",
              "                ngram_range=(1, 3), preprocessor=None, stop_words=None,\n",
              "                strip_accents=None, token_pattern='(?u)\\\\b\\\\w\\\\w+\\\\b',\n",
              "                tokenizer=None, vocabulary=None)"
            ]
          },
          "metadata": {
            "tags": []
          },
          "execution_count": 34
        }
      ]
    },
    {
      "cell_type": "code",
      "metadata": {
        "id": "DQGnH_RRjYTs",
        "colab_type": "code",
        "colab": {
          "base_uri": "https://localhost:8080/",
          "height": 53
        },
        "outputId": "64e8530d-35f4-44c7-8d22-5724d76f4411"
      },
      "source": [
        "%%time\n",
        "train_feature_vector = vectorizer.fit_transform(df_train['content_preprocessing2'])\n",
        "train_feature_vector"
      ],
      "execution_count": 35,
      "outputs": [
        {
          "output_type": "stream",
          "text": [
            "CPU times: user 29.3 s, sys: 799 ms, total: 30.1 s\n",
            "Wall time: 30.1 s\n"
          ],
          "name": "stdout"
        }
      ]
    },
    {
      "cell_type": "code",
      "metadata": {
        "id": "b-zQk3KIjiAc",
        "colab_type": "code",
        "colab": {
          "base_uri": "https://localhost:8080/",
          "height": 53
        },
        "outputId": "2e51bdf4-e037-4a70-88c7-432323b3e9f6"
      },
      "source": [
        "%%time\n",
        "test_feature_vector = vectorizer.fit_transform(df_test['content_preprocessing2'])"
      ],
      "execution_count": 36,
      "outputs": [
        {
          "output_type": "stream",
          "text": [
            "CPU times: user 14.9 s, sys: 195 ms, total: 15.1 s\n",
            "Wall time: 15.2 s\n"
          ],
          "name": "stdout"
        }
      ]
    },
    {
      "cell_type": "code",
      "metadata": {
        "id": "7cb_x94UjuaG",
        "colab_type": "code",
        "colab": {
          "base_uri": "https://localhost:8080/",
          "height": 215
        },
        "outputId": "cf578868-edf6-4c71-ac75-0f2b7a279725"
      },
      "source": [
        "vocab = vectorizer.get_feature_names()\n",
        "print(len(vocab))\n",
        "vocab[:10]"
      ],
      "execution_count": 37,
      "outputs": [
        {
          "output_type": "stream",
          "text": [
            "2000\n"
          ],
          "name": "stdout"
        },
        {
          "output_type": "execute_result",
          "data": {
            "text/plain": [
              "['aid',\n",
              " 'article',\n",
              " 'articleview',\n",
              " 'articleview html idxno',\n",
              " 'a는',\n",
              " 'cctv',\n",
              " 'cctv를',\n",
              " 'co',\n",
              " 'co kr',\n",
              " 'co kr news']"
            ]
          },
          "metadata": {
            "tags": []
          },
          "execution_count": 37
        }
      ]
    },
    {
      "cell_type": "code",
      "metadata": {
        "id": "V003TaPZj76U",
        "colab_type": "code",
        "colab": {
          "base_uri": "https://localhost:8080/",
          "height": 197
        },
        "outputId": "ac048834-7f22-4811-8986-9ab0b4c63774"
      },
      "source": [
        "dist = np.sum(train_feature_vector, axis=0)\n",
        "pd.DataFrame(dist, columns=vocab)"
      ],
      "execution_count": 38,
      "outputs": [
        {
          "output_type": "execute_result",
          "data": {
            "text/html": [
              "<div>\n",
              "<style scoped>\n",
              "    .dataframe tbody tr th:only-of-type {\n",
              "        vertical-align: middle;\n",
              "    }\n",
              "\n",
              "    .dataframe tbody tr th {\n",
              "        vertical-align: top;\n",
              "    }\n",
              "\n",
              "    .dataframe thead th {\n",
              "        text-align: right;\n",
              "    }\n",
              "</style>\n",
              "<table border=\"1\" class=\"dataframe\">\n",
              "  <thead>\n",
              "    <tr style=\"text-align: right;\">\n",
              "      <th></th>\n",
              "      <th>aid</th>\n",
              "      <th>article</th>\n",
              "      <th>articleview</th>\n",
              "      <th>articleview html idxno</th>\n",
              "      <th>a는</th>\n",
              "      <th>cctv</th>\n",
              "      <th>cctv를</th>\n",
              "      <th>co</th>\n",
              "      <th>co kr</th>\n",
              "      <th>co kr news</th>\n",
              "      <th>com</th>\n",
              "      <th>com main</th>\n",
              "      <th>com main read</th>\n",
              "      <th>eb</th>\n",
              "      <th>ec</th>\n",
              "      <th>go</th>\n",
              "      <th>go kr</th>\n",
              "      <th>html</th>\n",
              "      <th>html idxno</th>\n",
              "      <th>http</th>\n",
              "      <th>http news</th>\n",
              "      <th>http news naver</th>\n",
              "      <th>http www</th>\n",
              "      <th>https</th>\n",
              "      <th>https news</th>\n",
              "      <th>https news naver</th>\n",
              "      <th>https www</th>\n",
              "      <th>idxno</th>\n",
              "      <th>kr</th>\n",
              "      <th>kr news</th>\n",
              "      <th>lsd</th>\n",
              "      <th>lsd mid</th>\n",
              "      <th>lsd mid sec</th>\n",
              "      <th>main</th>\n",
              "      <th>main read</th>\n",
              "      <th>main read nhn</th>\n",
              "      <th>mid</th>\n",
              "      <th>mid sec</th>\n",
              "      <th>mid sec sid</th>\n",
              "      <th>mode</th>\n",
              "      <th>...</th>\n",
              "      <th>형사</th>\n",
              "      <th>혜택을</th>\n",
              "      <th>호소합니다</th>\n",
              "      <th>혹시</th>\n",
              "      <th>혹은</th>\n",
              "      <th>혼자</th>\n",
              "      <th>화가</th>\n",
              "      <th>화물차</th>\n",
              "      <th>확실한</th>\n",
              "      <th>확인</th>\n",
              "      <th>확인을</th>\n",
              "      <th>확인하고</th>\n",
              "      <th>환경</th>\n",
              "      <th>환경에서</th>\n",
              "      <th>환경을</th>\n",
              "      <th>환자</th>\n",
              "      <th>환자가</th>\n",
              "      <th>환자를</th>\n",
              "      <th>환자의</th>\n",
              "      <th>활동을</th>\n",
              "      <th>황당한</th>\n",
              "      <th>회사</th>\n",
              "      <th>회사가</th>\n",
              "      <th>회사는</th>\n",
              "      <th>회사를</th>\n",
              "      <th>회사에</th>\n",
              "      <th>회사에서</th>\n",
              "      <th>회사의</th>\n",
              "      <th>회장</th>\n",
              "      <th>후에</th>\n",
              "      <th>훨씬</th>\n",
              "      <th>희망을</th>\n",
              "      <th>힘든</th>\n",
              "      <th>힘들게</th>\n",
              "      <th>힘들고</th>\n",
              "      <th>힘들어</th>\n",
              "      <th>힘듭니다</th>\n",
              "      <th>힘없는</th>\n",
              "      <th>힘을</th>\n",
              "      <th>힘이</th>\n",
              "    </tr>\n",
              "  </thead>\n",
              "  <tbody>\n",
              "    <tr>\n",
              "      <th>0</th>\n",
              "      <td>237</td>\n",
              "      <td>191</td>\n",
              "      <td>155</td>\n",
              "      <td>129</td>\n",
              "      <td>443</td>\n",
              "      <td>426</td>\n",
              "      <td>187</td>\n",
              "      <td>882</td>\n",
              "      <td>170</td>\n",
              "      <td>159</td>\n",
              "      <td>222</td>\n",
              "      <td>214</td>\n",
              "      <td>150</td>\n",
              "      <td>307</td>\n",
              "      <td>1379</td>\n",
              "      <td>334</td>\n",
              "      <td>178</td>\n",
              "      <td>536</td>\n",
              "      <td>546</td>\n",
              "      <td>266</td>\n",
              "      <td>134</td>\n",
              "      <td>165</td>\n",
              "      <td>133</td>\n",
              "      <td>132</td>\n",
              "      <td>745</td>\n",
              "      <td>199</td>\n",
              "      <td>150</td>\n",
              "      <td>192</td>\n",
              "      <td>174</td>\n",
              "      <td>167</td>\n",
              "      <td>180</td>\n",
              "      <td>159</td>\n",
              "      <td>159</td>\n",
              "      <td>197</td>\n",
              "      <td>181</td>\n",
              "      <td>140</td>\n",
              "      <td>215</td>\n",
              "      <td>192</td>\n",
              "      <td>174</td>\n",
              "      <td>492</td>\n",
              "      <td>...</td>\n",
              "      <td>388</td>\n",
              "      <td>123</td>\n",
              "      <td>156</td>\n",
              "      <td>575</td>\n",
              "      <td>263</td>\n",
              "      <td>134</td>\n",
              "      <td>251</td>\n",
              "      <td>164</td>\n",
              "      <td>125</td>\n",
              "      <td>129</td>\n",
              "      <td>200</td>\n",
              "      <td>123</td>\n",
              "      <td>178</td>\n",
              "      <td>144</td>\n",
              "      <td>182</td>\n",
              "      <td>171</td>\n",
              "      <td>127</td>\n",
              "      <td>152</td>\n",
              "      <td>165</td>\n",
              "      <td>167</td>\n",
              "      <td>304</td>\n",
              "      <td>168</td>\n",
              "      <td>180</td>\n",
              "      <td>181</td>\n",
              "      <td>149</td>\n",
              "      <td>218</td>\n",
              "      <td>213</td>\n",
              "      <td>145</td>\n",
              "      <td>179</td>\n",
              "      <td>316</td>\n",
              "      <td>122</td>\n",
              "      <td>238</td>\n",
              "      <td>495</td>\n",
              "      <td>340</td>\n",
              "      <td>136</td>\n",
              "      <td>138</td>\n",
              "      <td>163</td>\n",
              "      <td>195</td>\n",
              "      <td>378</td>\n",
              "      <td>242</td>\n",
              "    </tr>\n",
              "  </tbody>\n",
              "</table>\n",
              "<p>1 rows × 2000 columns</p>\n",
              "</div>"
            ],
            "text/plain": [
              "   aid  article  articleview  articleview html idxno  ...  힘듭니다  힘없는   힘을   힘이\n",
              "0  237      191          155                     129  ...   163  195  378  242\n",
              "\n",
              "[1 rows x 2000 columns]"
            ]
          },
          "metadata": {
            "tags": []
          },
          "execution_count": 38
        }
      ]
    },
    {
      "cell_type": "markdown",
      "metadata": {
        "id": "aiRX-NnBkJ4s",
        "colab_type": "text"
      },
      "source": [
        "# TfidfTransformer"
      ]
    },
    {
      "cell_type": "markdown",
      "metadata": {
        "id": "n0OIAwBPk5js",
        "colab_type": "text"
      },
      "source": [
        "+ norm='l2' 각 문서의 피처 벡터를 어떻게 벡터 정규화 할지 정한다.\n",
        "  + L2 : 벡터의 각 원소의 제곱의 합이 1이 되도록 만드는 것이고 기본 값\n",
        "  +L1 : 벡터의 각 원소의 절댓값의 합이 1이 되도록 크기를 조절\n",
        "+smooth_idf=False\n",
        "  + 피처를 만들 때 0으로 나오는 항목에 대해 작은 값을 더해서(스무딩을 해서) 피처를 만들지 아니면 그냥 생성할지를 결정\n",
        "+sublinear_tf=False\n",
        "+use_idf=True\n",
        "  + TF-IDF를 사용해 피처를 만들 것인지 아니면 단어 빈도 자체를 사용할 것인지 여부"
      ]
    },
    {
      "cell_type": "code",
      "metadata": {
        "id": "9cACcJE6CaTq",
        "colab_type": "code",
        "colab": {
          "base_uri": "https://localhost:8080/",
          "height": 35
        },
        "outputId": "f8a4f322-4753-410f-bda2-8c9382c3daee"
      },
      "source": [
        "from sklearn.feature_extraction.text import TfidfTransformer\n",
        "transformer = TfidfTransformer(smooth_idf=False)\n",
        "transformer"
      ],
      "execution_count": 40,
      "outputs": [
        {
          "output_type": "execute_result",
          "data": {
            "text/plain": [
              "TfidfTransformer(norm='l2', smooth_idf=False, sublinear_tf=False, use_idf=True)"
            ]
          },
          "metadata": {
            "tags": []
          },
          "execution_count": 40
        }
      ]
    },
    {
      "cell_type": "code",
      "metadata": {
        "id": "YldNVj5fC-02",
        "colab_type": "code",
        "colab": {
          "base_uri": "https://localhost:8080/",
          "height": 53
        },
        "outputId": "c9e57bd5-ce82-48ba-eb0b-9a6c913896e7"
      },
      "source": [
        "%%time\n",
        "train_feature_tfidf = transformer.fit_transform(train_feature_vector)\n",
        "train_feature_tfidf.shape"
      ],
      "execution_count": 41,
      "outputs": [
        {
          "output_type": "stream",
          "text": [
            "CPU times: user 40.2 ms, sys: 995 µs, total: 41.2 ms\n",
            "Wall time: 57.8 ms\n"
          ],
          "name": "stdout"
        }
      ]
    },
    {
      "cell_type": "code",
      "metadata": {
        "id": "ZHGLHyEYDQmz",
        "colab_type": "code",
        "colab": {
          "base_uri": "https://localhost:8080/",
          "height": 53
        },
        "outputId": "cfe639a4-d2ae-4e29-ce30-7ad0dec6dd40"
      },
      "source": [
        "%%time\n",
        "test_feature_tfidf = transformer.fit_transform(test_feature_vector)\n",
        "test_feature_tfidf.shape"
      ],
      "execution_count": 42,
      "outputs": [
        {
          "output_type": "stream",
          "text": [
            "CPU times: user 21 ms, sys: 0 ns, total: 21 ms\n",
            "Wall time: 21.6 ms\n"
          ],
          "name": "stdout"
        }
      ]
    },
    {
      "cell_type": "code",
      "metadata": {
        "id": "K-KpeIWyDeAG",
        "colab_type": "code",
        "colab": {
          "base_uri": "https://localhost:8080/",
          "height": 35
        },
        "outputId": "c3c7feb1-399e-4186-ba16-17075cbae68e"
      },
      "source": [
        "test_feature_tfidf.shape"
      ],
      "execution_count": 43,
      "outputs": [
        {
          "output_type": "execute_result",
          "data": {
            "text/plain": [
              "(5319, 2000)"
            ]
          },
          "metadata": {
            "tags": []
          },
          "execution_count": 43
        }
      ]
    },
    {
      "cell_type": "markdown",
      "metadata": {
        "id": "hmdUkinXDhUU",
        "colab_type": "text"
      },
      "source": [
        "# 랜덤포레스트로 학습시키기"
      ]
    },
    {
      "cell_type": "code",
      "metadata": {
        "id": "IfUgaOAEDj9H",
        "colab_type": "code",
        "colab": {
          "base_uri": "https://localhost:8080/",
          "height": 143
        },
        "outputId": "2c08d0a1-0070-488a-b0fc-6af777c72bec"
      },
      "source": [
        "from sklearn.ensemble import RandomForestClassifier\n",
        "\n",
        "forest = RandomForestClassifier(\n",
        "    n_estimators = 100, n_jobs= -1, random_state=2019)\n",
        "forest"
      ],
      "execution_count": 44,
      "outputs": [
        {
          "output_type": "execute_result",
          "data": {
            "text/plain": [
              "RandomForestClassifier(bootstrap=True, class_weight=None, criterion='gini',\n",
              "                       max_depth=None, max_features='auto', max_leaf_nodes=None,\n",
              "                       min_impurity_decrease=0.0, min_impurity_split=None,\n",
              "                       min_samples_leaf=1, min_samples_split=2,\n",
              "                       min_weight_fraction_leaf=0.0, n_estimators=100,\n",
              "                       n_jobs=-1, oob_score=False, random_state=2019, verbose=0,\n",
              "                       warm_start=False)"
            ]
          },
          "metadata": {
            "tags": []
          },
          "execution_count": 44
        }
      ]
    },
    {
      "cell_type": "code",
      "metadata": {
        "id": "-3AnwpiADz0a",
        "colab_type": "code",
        "colab": {
          "base_uri": "https://localhost:8080/",
          "height": 759
        },
        "outputId": "95966a7a-7879-47fb-ab50-0bdb4bb18f86"
      },
      "source": [
        "df_train[df_train['votes_pos_neg'] == 0]"
      ],
      "execution_count": 50,
      "outputs": [
        {
          "output_type": "execute_result",
          "data": {
            "text/html": [
              "<div>\n",
              "<style scoped>\n",
              "    .dataframe tbody tr th:only-of-type {\n",
              "        vertical-align: middle;\n",
              "    }\n",
              "\n",
              "    .dataframe tbody tr th {\n",
              "        vertical-align: top;\n",
              "    }\n",
              "\n",
              "    .dataframe thead th {\n",
              "        text-align: right;\n",
              "    }\n",
              "</style>\n",
              "<table border=\"1\" class=\"dataframe\">\n",
              "  <thead>\n",
              "    <tr style=\"text-align: right;\">\n",
              "      <th></th>\n",
              "      <th>article_id</th>\n",
              "      <th>start</th>\n",
              "      <th>end</th>\n",
              "      <th>answered</th>\n",
              "      <th>votes</th>\n",
              "      <th>category</th>\n",
              "      <th>title</th>\n",
              "      <th>content</th>\n",
              "      <th>votes_pos_neg</th>\n",
              "      <th>content_preprocessing</th>\n",
              "      <th>content_preprocessing2</th>\n",
              "    </tr>\n",
              "  </thead>\n",
              "  <tbody>\n",
              "    <tr>\n",
              "      <th>13</th>\n",
              "      <td>34</td>\n",
              "      <td>2017-08-19</td>\n",
              "      <td>2017-09-18</td>\n",
              "      <td>0</td>\n",
              "      <td>679</td>\n",
              "      <td>기타</td>\n",
              "      <td>『국가유공자 등 예우 및 지원에 관한법률』상「6.25전몰군경 자녀수당」의 불합리한 ...</td>\n",
              "      <td>(현황)\\n우리들 아버지께서는 67여년전 북의 남침으로 조국이 위기에 처했을 때 젊...</td>\n",
              "      <td>0</td>\n",
              "      <td>현황 우리들 아버지께서는 여년전 북의 남침으로 조국이 위기에 처했을 때 젊은 목숨...</td>\n",
              "      <td>현황 우리들 아버지께서는 여년전 북의 남침으로 조국이 위기에 처했을 때 젊은 목숨...</td>\n",
              "    </tr>\n",
              "    <tr>\n",
              "      <th>16</th>\n",
              "      <td>37</td>\n",
              "      <td>2017-08-19</td>\n",
              "      <td>2017-09-18</td>\n",
              "      <td>0</td>\n",
              "      <td>415</td>\n",
              "      <td>기타</td>\n",
              "      <td>황우석박사님 연구재개 허용 촉구합니다.</td>\n",
              "      <td>국민의 70% 이상이 황우석박사님을 응원하고 지지하고 있습니다.\\n*2007년 1월...</td>\n",
              "      <td>0</td>\n",
              "      <td>국민의 이상이 황우석박사님을 응원하고 지지하고 있습니다 년 월 중앙일보 여론조 국민...</td>\n",
              "      <td>국민의 이상이 황우석박사님을 응원하고 지지하고 년 중앙일보 여론조 국민 여론조사 황...</td>\n",
              "    </tr>\n",
              "    <tr>\n",
              "      <th>18</th>\n",
              "      <td>40</td>\n",
              "      <td>2017-08-19</td>\n",
              "      <td>2017-09-18</td>\n",
              "      <td>0</td>\n",
              "      <td>218</td>\n",
              "      <td>외교/통일/국방</td>\n",
              "      <td>국가유공자등 예우및 지우너에 관한 법률 시행령 개정</td>\n",
              "      <td>지금부터 67년전 1950년 6.25전쟁때 조국 대한민국이 위태로운 시점에 우리들 ...</td>\n",
              "      <td>0</td>\n",
              "      <td>지금부터 년전 년 전쟁때 조국 대한민국이 위태로운 시점에 우리들 아버님께서는 조국의...</td>\n",
              "      <td>지금부터 년전 년 전쟁때 조국 대한민국이 위태로운 시점에 우리들 아버님께서는 조국의...</td>\n",
              "    </tr>\n",
              "    <tr>\n",
              "      <th>19</th>\n",
              "      <td>41</td>\n",
              "      <td>2017-08-19</td>\n",
              "      <td>2017-09-18</td>\n",
              "      <td>0</td>\n",
              "      <td>227</td>\n",
              "      <td>외교/통일/국방</td>\n",
              "      <td>국가유공자등 예우및 지우너에 관한 법률 시행령 개정</td>\n",
              "      <td>지금부터 67년전 1950년 6.25전쟁때 조국 대한민국이 위태로운 시점에 우리들 ...</td>\n",
              "      <td>0</td>\n",
              "      <td>지금부터 년전 년 전쟁때 조국 대한민국이 위태로운 시점에 우리들 아버님께서는 조국의...</td>\n",
              "      <td>지금부터 년전 년 전쟁때 조국 대한민국이 위태로운 시점에 우리들 아버님께서는 조국의...</td>\n",
              "    </tr>\n",
              "    <tr>\n",
              "      <th>20</th>\n",
              "      <td>42</td>\n",
              "      <td>2017-08-19</td>\n",
              "      <td>2017-09-18</td>\n",
              "      <td>0</td>\n",
              "      <td>173</td>\n",
              "      <td>육아/교육</td>\n",
              "      <td>기간제 교사의 정규직화를 반대합니다.</td>\n",
              "      <td>대통령님, 안녕하세요. 저는 임용을 준비하고 수험생입니다. 처음 기간제 정규직화 된...</td>\n",
              "      <td>0</td>\n",
              "      <td>대통령님 안녕하세요 저는 임용을 준비하고 수험생입니다 처음 기간제 정규직화 된다고 ...</td>\n",
              "      <td>대통령님 임용을 준비하고 수험생입니다 처음 기간제 정규직화 된다고 했을 때 공채 채...</td>\n",
              "    </tr>\n",
              "    <tr>\n",
              "      <th>...</th>\n",
              "      <td>...</td>\n",
              "      <td>...</td>\n",
              "      <td>...</td>\n",
              "      <td>...</td>\n",
              "      <td>...</td>\n",
              "      <td>...</td>\n",
              "      <td>...</td>\n",
              "      <td>...</td>\n",
              "      <td>...</td>\n",
              "      <td>...</td>\n",
              "      <td>...</td>\n",
              "    </tr>\n",
              "    <tr>\n",
              "      <th>281040</th>\n",
              "      <td>364965</td>\n",
              "      <td>2018-09-03</td>\n",
              "      <td>2018-10-03</td>\n",
              "      <td>0</td>\n",
              "      <td>205</td>\n",
              "      <td>정치개혁</td>\n",
              "      <td>선동열 오지환 군면제 비리 조사하라!!!</td>\n",
              "      <td>법을 교묘히 이용해 손쉽게 군면제 받을수 있는 방법을 찿아서 국민 정서를 무시하고 ...</td>\n",
              "      <td>0</td>\n",
              "      <td>법을 교묘히 이용해 손쉽게 군면제 받을수 있는 방법을 찿아서 국민 정서를 무시하고 ...</td>\n",
              "      <td>법을 교묘히 이용해 손쉽게 군면제 받을수 있는 방법을 찿아서 국민 정서를 무시하고 ...</td>\n",
              "    </tr>\n",
              "    <tr>\n",
              "      <th>281172</th>\n",
              "      <td>365128</td>\n",
              "      <td>2018-09-03</td>\n",
              "      <td>2018-10-03</td>\n",
              "      <td>0</td>\n",
              "      <td>102</td>\n",
              "      <td>행정</td>\n",
              "      <td>보험사 의료자문제도, 보험금 지급거절 없애자</td>\n",
              "      <td>보험금 지급거부 위해 자문의사에게 연175억원 쓰는 보험사\\n자문의 명단 의무적 공...</td>\n",
              "      <td>0</td>\n",
              "      <td>보험금 지급거부 위해 자문의사에게 연 억원 쓰는 보험사 자문의 명단 의무적 공개 세...</td>\n",
              "      <td>보험금 지급거부 자문의사에게 연 억원 쓰는 보험사 자문의 명단 의무적 공개 세금납부...</td>\n",
              "    </tr>\n",
              "    <tr>\n",
              "      <th>281194</th>\n",
              "      <td>365156</td>\n",
              "      <td>2018-09-03</td>\n",
              "      <td>2018-10-03</td>\n",
              "      <td>0</td>\n",
              "      <td>123</td>\n",
              "      <td>보건복지</td>\n",
              "      <td>국립소록도병원 자원봉사자 관리자임명과  관리 시스템 꼭 개선 해주세요</td>\n",
              "      <td>존경하는 박능후 보건복지부 장관님\\n국립소록도 병원에 전문 자원봉사 관리자 임명하여...</td>\n",
              "      <td>0</td>\n",
              "      <td>존경하는 박능후 보건복지부 장관님 국립소록도 병원에 전문 자원봉사 관리자 임명하여 ...</td>\n",
              "      <td>존경하는 박능후 보건복지부 장관님 국립소록도 병원에 전문 자원봉사 관리자 임명하여 ...</td>\n",
              "    </tr>\n",
              "    <tr>\n",
              "      <th>281195</th>\n",
              "      <td>365157</td>\n",
              "      <td>2018-09-03</td>\n",
              "      <td>2018-10-03</td>\n",
              "      <td>0</td>\n",
              "      <td>209</td>\n",
              "      <td>교통/건축/국토</td>\n",
              "      <td>경남(거제,울산,창원 등등) 집값 하락 대책마련</td>\n",
              "      <td>뉴스에는 서울 집값 안정화만 얘기가 나오는데 서울시민만 이 나라 국민 아닙니다.\\n...</td>\n",
              "      <td>0</td>\n",
              "      <td>뉴스에는 서울 집값 안정화만 얘기가 나오는데 서울시민만 이 나라 국민 아닙니다 지금...</td>\n",
              "      <td>뉴스에는 서울 집값 안정화만 얘기가 나오는데 서울시민만 이 나라 국민 아닙니다 지금...</td>\n",
              "    </tr>\n",
              "    <tr>\n",
              "      <th>281203</th>\n",
              "      <td>365167</td>\n",
              "      <td>2018-09-03</td>\n",
              "      <td>2018-10-03</td>\n",
              "      <td>0</td>\n",
              "      <td>120</td>\n",
              "      <td>정치개혁</td>\n",
              "      <td>엘리엇 소송에 대한 법무부 답변</td>\n",
              "      <td>엘리엇 소송에 대한 법무부 답변과 이를 작성한 담당 과장의 특채 배경에 대해 진상 ...</td>\n",
              "      <td>0</td>\n",
              "      <td>엘리엇 소송에 대한 법무부 답변과 이를 작성한 담당 과장의 특채 배경에 대해 진상 ...</td>\n",
              "      <td>엘리엇 소송에 법무부 답변과 이를 작성한 담당 과장의 특채 배경에 대해 진상 조사를...</td>\n",
              "    </tr>\n",
              "  </tbody>\n",
              "</table>\n",
              "<p>9836 rows × 11 columns</p>\n",
              "</div>"
            ],
            "text/plain": [
              "        article_id  ...                             content_preprocessing2\n",
              "13              34  ...   현황 우리들 아버지께서는 여년전 북의 남침으로 조국이 위기에 처했을 때 젊은 목숨...\n",
              "16              37  ...  국민의 이상이 황우석박사님을 응원하고 지지하고 년 중앙일보 여론조 국민 여론조사 황...\n",
              "18              40  ...  지금부터 년전 년 전쟁때 조국 대한민국이 위태로운 시점에 우리들 아버님께서는 조국의...\n",
              "19              41  ...  지금부터 년전 년 전쟁때 조국 대한민국이 위태로운 시점에 우리들 아버님께서는 조국의...\n",
              "20              42  ...  대통령님 임용을 준비하고 수험생입니다 처음 기간제 정규직화 된다고 했을 때 공채 채...\n",
              "...            ...  ...                                                ...\n",
              "281040      364965  ...  법을 교묘히 이용해 손쉽게 군면제 받을수 있는 방법을 찿아서 국민 정서를 무시하고 ...\n",
              "281172      365128  ...  보험금 지급거부 자문의사에게 연 억원 쓰는 보험사 자문의 명단 의무적 공개 세금납부...\n",
              "281194      365156  ...  존경하는 박능후 보건복지부 장관님 국립소록도 병원에 전문 자원봉사 관리자 임명하여 ...\n",
              "281195      365157  ...  뉴스에는 서울 집값 안정화만 얘기가 나오는데 서울시민만 이 나라 국민 아닙니다 지금...\n",
              "281203      365167  ...  엘리엇 소송에 법무부 답변과 이를 작성한 담당 과장의 특채 배경에 대해 진상 조사를...\n",
              "\n",
              "[9836 rows x 11 columns]"
            ]
          },
          "metadata": {
            "tags": []
          },
          "execution_count": 50
        }
      ]
    },
    {
      "cell_type": "code",
      "metadata": {
        "id": "OuGWHEudDvXO",
        "colab_type": "code",
        "colab": {}
      },
      "source": [
        "y_label = df_train['votes_pos_neg']"
      ],
      "execution_count": 0,
      "outputs": []
    },
    {
      "cell_type": "code",
      "metadata": {
        "id": "Pi2Srn5oD500",
        "colab_type": "code",
        "colab": {
          "base_uri": "https://localhost:8080/",
          "height": 53
        },
        "outputId": "b7bfbbac-9f76-4f15-ef21-4b91fc9835a6"
      },
      "source": [
        "%time forest = forest.fit(train_feature_tfidf, y_label)"
      ],
      "execution_count": 51,
      "outputs": [
        {
          "output_type": "stream",
          "text": [
            "CPU times: user 31.3 s, sys: 34.5 ms, total: 31.4 s\n",
            "Wall time: 16 s\n"
          ],
          "name": "stdout"
        }
      ]
    },
    {
      "cell_type": "markdown",
      "metadata": {
        "id": "acCJwGtzEefd",
        "colab_type": "text"
      },
      "source": [
        "# 평가하기"
      ]
    },
    {
      "cell_type": "code",
      "metadata": {
        "id": "GaIgA8tyElng",
        "colab_type": "code",
        "colab": {}
      },
      "source": [
        "from sklearn.model_selection import KFold\n",
        "from sklearn.model_selection import cross_val_score\n",
        "k_fold = KFold(n_splits=5, shuffle=True, random_state=2019)"
      ],
      "execution_count": 0,
      "outputs": []
    },
    {
      "cell_type": "code",
      "metadata": {
        "id": "akNJUmyNEzxq",
        "colab_type": "code",
        "colab": {
          "base_uri": "https://localhost:8080/",
          "height": 35
        },
        "outputId": "7f568ace-966d-4bbe-8222-0dd0f0c29bec"
      },
      "source": [
        "scoring = 'accuracy'\n",
        "score = cross_val_score(forest, train_feature_tfidf, y_label, cv=k_fold, scoring=scoring)\n",
        "score"
      ],
      "execution_count": 53,
      "outputs": [
        {
          "output_type": "execute_result",
          "data": {
            "text/plain": [
              "array([0.79371475, 0.78847703, 0.80620467, 0.78686543, 0.772361  ])"
            ]
          },
          "metadata": {
            "tags": []
          },
          "execution_count": 53
        }
      ]
    },
    {
      "cell_type": "code",
      "metadata": {
        "id": "9_UxgdfkIXge",
        "colab_type": "code",
        "colab": {
          "base_uri": "https://localhost:8080/",
          "height": 35
        },
        "outputId": "d1ad1bbf-3d0c-459d-fba8-07927c830521"
      },
      "source": [
        "round(np.mean(score)*100,2)"
      ],
      "execution_count": 54,
      "outputs": [
        {
          "output_type": "execute_result",
          "data": {
            "text/plain": [
              "78.95"
            ]
          },
          "metadata": {
            "tags": []
          },
          "execution_count": 54
        }
      ]
    },
    {
      "cell_type": "markdown",
      "metadata": {
        "id": "c3UV1bfnIz8D",
        "colab_type": "text"
      },
      "source": [
        "# 예측"
      ]
    },
    {
      "cell_type": "code",
      "metadata": {
        "id": "rFl1ZXSRI-b_",
        "colab_type": "code",
        "colab": {
          "base_uri": "https://localhost:8080/",
          "height": 35
        },
        "outputId": "7a61f704-ccfd-4791-c836-8e052f0b12af"
      },
      "source": [
        "# 테스트 데이터를 넣고 예측한다.\n",
        "y_pred = forest.predict(test_feature_tfidf)\n",
        "y_pred[:10]"
      ],
      "execution_count": 55,
      "outputs": [
        {
          "output_type": "execute_result",
          "data": {
            "text/plain": [
              "array([0, 0, 0, 0, 0, 0, 0, 0, 0, 0])"
            ]
          },
          "metadata": {
            "tags": []
          },
          "execution_count": 55
        }
      ]
    },
    {
      "cell_type": "code",
      "metadata": {
        "id": "j6IHNruTJJjJ",
        "colab_type": "code",
        "colab": {
          "base_uri": "https://localhost:8080/",
          "height": 35
        },
        "outputId": "376e67d0-4b34-4b8a-d5c1-78b2d1008dc2"
      },
      "source": [
        "y_pred.shape"
      ],
      "execution_count": 56,
      "outputs": [
        {
          "output_type": "execute_result",
          "data": {
            "text/plain": [
              "(5319,)"
            ]
          },
          "metadata": {
            "tags": []
          },
          "execution_count": 56
        }
      ]
    },
    {
      "cell_type": "code",
      "metadata": {
        "id": "5rT92o4dJLYT",
        "colab_type": "code",
        "colab": {
          "base_uri": "https://localhost:8080/",
          "height": 204
        },
        "outputId": "99247b24-9060-4de8-d762-6722dfb1473e"
      },
      "source": [
        "# 예측 결과를 저장하기 위해 데이터프레임에 담아 준다.\n",
        "output = pd.DataFrame(data={'votes_pos_neg_pred': y_pred})\n",
        "output.head()"
      ],
      "execution_count": 57,
      "outputs": [
        {
          "output_type": "execute_result",
          "data": {
            "text/html": [
              "<div>\n",
              "<style scoped>\n",
              "    .dataframe tbody tr th:only-of-type {\n",
              "        vertical-align: middle;\n",
              "    }\n",
              "\n",
              "    .dataframe tbody tr th {\n",
              "        vertical-align: top;\n",
              "    }\n",
              "\n",
              "    .dataframe thead th {\n",
              "        text-align: right;\n",
              "    }\n",
              "</style>\n",
              "<table border=\"1\" class=\"dataframe\">\n",
              "  <thead>\n",
              "    <tr style=\"text-align: right;\">\n",
              "      <th></th>\n",
              "      <th>votes_pos_neg_pred</th>\n",
              "    </tr>\n",
              "  </thead>\n",
              "  <tbody>\n",
              "    <tr>\n",
              "      <th>0</th>\n",
              "      <td>0</td>\n",
              "    </tr>\n",
              "    <tr>\n",
              "      <th>1</th>\n",
              "      <td>0</td>\n",
              "    </tr>\n",
              "    <tr>\n",
              "      <th>2</th>\n",
              "      <td>0</td>\n",
              "    </tr>\n",
              "    <tr>\n",
              "      <th>3</th>\n",
              "      <td>0</td>\n",
              "    </tr>\n",
              "    <tr>\n",
              "      <th>4</th>\n",
              "      <td>0</td>\n",
              "    </tr>\n",
              "  </tbody>\n",
              "</table>\n",
              "</div>"
            ],
            "text/plain": [
              "   votes_pos_neg_pred\n",
              "0                   0\n",
              "1                   0\n",
              "2                   0\n",
              "3                   0\n",
              "4                   0"
            ]
          },
          "metadata": {
            "tags": []
          },
          "execution_count": 57
        }
      ]
    },
    {
      "cell_type": "code",
      "metadata": {
        "id": "geZ-svD1JW69",
        "colab_type": "code",
        "colab": {
          "base_uri": "https://localhost:8080/",
          "height": 71
        },
        "outputId": "59acab0a-99cb-4efc-9e7a-433fee9854ab"
      },
      "source": [
        "# 0과 1이 어떻게 집계 되었는지 확인한다.\n",
        "# 실제 데이터에는 답변 대상 건이 있는데 없는 것으로 예측되었다.\n",
        "output['votes_pos_neg_pred'].value_counts()"
      ],
      "execution_count": 61,
      "outputs": [
        {
          "output_type": "execute_result",
          "data": {
            "text/plain": [
              "0    5304\n",
              "1      15\n",
              "Name: votes_pos_neg_pred, dtype: int64"
            ]
          },
          "metadata": {
            "tags": []
          },
          "execution_count": 61
        }
      ]
    },
    {
      "cell_type": "code",
      "metadata": {
        "id": "NoSZGOTPJhUN",
        "colab_type": "code",
        "colab": {}
      },
      "source": [
        "df_test['votes_pos_neg_pred'] = y_pred"
      ],
      "execution_count": 0,
      "outputs": []
    },
    {
      "cell_type": "code",
      "metadata": {
        "id": "Hv1A1pzQJtF0",
        "colab_type": "code",
        "colab": {}
      },
      "source": [
        "df_test['pred_diff'] = np.abs(df_test['votes_pos_neg'] - df_test['votes_pos_neg_pred'])"
      ],
      "execution_count": 0,
      "outputs": []
    },
    {
      "cell_type": "code",
      "metadata": {
        "id": "9g9-x51hKakb",
        "colab_type": "code",
        "colab": {
          "base_uri": "https://localhost:8080/",
          "height": 1000
        },
        "collapsed": true,
        "outputId": "63f766fa-ce88-42a9-f1fd-aad10b7ca7b8"
      },
      "source": [
        "df_test.head()"
      ],
      "execution_count": 70,
      "outputs": [
        {
          "output_type": "execute_result",
          "data": {
            "text/html": [
              "<div>\n",
              "<style scoped>\n",
              "    .dataframe tbody tr th:only-of-type {\n",
              "        vertical-align: middle;\n",
              "    }\n",
              "\n",
              "    .dataframe tbody tr th {\n",
              "        vertical-align: top;\n",
              "    }\n",
              "\n",
              "    .dataframe thead th {\n",
              "        text-align: right;\n",
              "    }\n",
              "</style>\n",
              "<table border=\"1\" class=\"dataframe\">\n",
              "  <thead>\n",
              "    <tr style=\"text-align: right;\">\n",
              "      <th></th>\n",
              "      <th>article_id</th>\n",
              "      <th>start</th>\n",
              "      <th>end</th>\n",
              "      <th>answered</th>\n",
              "      <th>votes</th>\n",
              "      <th>category</th>\n",
              "      <th>title</th>\n",
              "      <th>content</th>\n",
              "      <th>votes_pos_neg</th>\n",
              "      <th>content_preprocessing</th>\n",
              "      <th>content_preprocessing2</th>\n",
              "      <th>votes_pos_neg_pred</th>\n",
              "      <th>pred_diff</th>\n",
              "    </tr>\n",
              "  </thead>\n",
              "  <tbody>\n",
              "    <tr>\n",
              "      <th>281221</th>\n",
              "      <td>365194</td>\n",
              "      <td>2018-09-03</td>\n",
              "      <td>2018-10-03</td>\n",
              "      <td>0</td>\n",
              "      <td>212</td>\n",
              "      <td>교통/건축/국토</td>\n",
              "      <td>화물차 과적제도에 관한 건</td>\n",
              "      <td>안녕하십니까.\\n화물차 과적제도의 오류에 관해 여쭤보고 싶습니다.\\n화물업계를 모르...</td>\n",
              "      <td>0</td>\n",
              "      <td>안녕하십니까 화물차 과적제도의 오류에 관해 여쭤보고 싶습니다 화물업계를 모르는 대부...</td>\n",
              "      <td>안녕하십니까 화물차 과적제도의 오류에 관해 여쭤보고 싶습니다 화물업계를 모르는 대부...</td>\n",
              "      <td>0</td>\n",
              "      <td>0</td>\n",
              "    </tr>\n",
              "    <tr>\n",
              "      <th>281226</th>\n",
              "      <td>365199</td>\n",
              "      <td>2018-09-03</td>\n",
              "      <td>2018-10-03</td>\n",
              "      <td>0</td>\n",
              "      <td>192</td>\n",
              "      <td>문화/예술/체육/언론</td>\n",
              "      <td>선동열 병역비리 조사 청원합니다,</td>\n",
              "      <td>선동열은 말도 안된 선수을 선발 해서 병역면제을 받게 만든 병역 브로커 입니다,\\n...</td>\n",
              "      <td>0</td>\n",
              "      <td>선동열은 말도 안된 선수을 선발 해서 병역면제을 받게 만든 병역 브로커 입니다 실책...</td>\n",
              "      <td>선동열은 말도 안된 선수을 선발 해서 병역면제을 받게 만든 병역 브로커 실책 위 삼...</td>\n",
              "      <td>0</td>\n",
              "      <td>0</td>\n",
              "    </tr>\n",
              "    <tr>\n",
              "      <th>281236</th>\n",
              "      <td>365209</td>\n",
              "      <td>2018-09-03</td>\n",
              "      <td>2018-10-03</td>\n",
              "      <td>0</td>\n",
              "      <td>154</td>\n",
              "      <td>기타</td>\n",
              "      <td>인천시 성매매 여성들에게 자활자금 2260만원이 현실인가요.?</td>\n",
              "      <td>대한민국에서 언제부터 성매매 여성에게\\n자활 지원이랍시고 돈을 지원해준단 생각을\\n...</td>\n",
              "      <td>0</td>\n",
              "      <td>대한민국에서 언제부터 성매매 여성에게 자활 지원이랍시고 돈을 지원해준단 생각을 하였...</td>\n",
              "      <td>대한민국에서 언제부터 성매매 여성에게 자활 지원이랍시고 돈을 지원해준단 생각을 하였...</td>\n",
              "      <td>0</td>\n",
              "      <td>0</td>\n",
              "    </tr>\n",
              "    <tr>\n",
              "      <th>281275</th>\n",
              "      <td>365259</td>\n",
              "      <td>2018-09-04</td>\n",
              "      <td>2018-10-04</td>\n",
              "      <td>0</td>\n",
              "      <td>823</td>\n",
              "      <td>교통/건축/국토</td>\n",
              "      <td>무주택자를 아파트 청약 1순위로, 유주택자를 2순위로 조정 부탁드립니다.</td>\n",
              "      <td>서민 주거 안정을 위해서라면 현재 1순위 청약기준을 무주택자 또는 1주택자가 아닌,...</td>\n",
              "      <td>1</td>\n",
              "      <td>서민 주거 안정을 위해서라면 현재 순위 청약기준을 무주택자 또는 주택자가 아닌 무주...</td>\n",
              "      <td>서민 주거 안정을 위해서라면 현재 순위 청약기준을 무주택자 또는 주택자가 아닌 무주...</td>\n",
              "      <td>0</td>\n",
              "      <td>1</td>\n",
              "    </tr>\n",
              "    <tr>\n",
              "      <th>281284</th>\n",
              "      <td>365269</td>\n",
              "      <td>2018-09-04</td>\n",
              "      <td>2018-10-04</td>\n",
              "      <td>0</td>\n",
              "      <td>115</td>\n",
              "      <td>안전/환경</td>\n",
              "      <td>지구를 위해서 페트병 라벨분리를 의무화 시켜주세요!</td>\n",
              "      <td>안녕하세요 지구를 사랑하고, 현재 망가져가는 지구를 바라볼 때 마다 마음이 아픈 학...</td>\n",
              "      <td>0</td>\n",
              "      <td>안녕하세요 지구를 사랑하고 현재 망가져가는 지구를 바라볼 때 마다 마음이 아픈 학생...</td>\n",
              "      <td>지구를 사랑하고 현재 망가져가는 지구를 바라볼 때 마다 마음이 아픈 학생입니다 부디...</td>\n",
              "      <td>0</td>\n",
              "      <td>0</td>\n",
              "    </tr>\n",
              "  </tbody>\n",
              "</table>\n",
              "</div>"
            ],
            "text/plain": [
              "        article_id      start  ... votes_pos_neg_pred  pred_diff\n",
              "281221      365194 2018-09-03  ...                  0          0\n",
              "281226      365199 2018-09-03  ...                  0          0\n",
              "281236      365209 2018-09-03  ...                  0          0\n",
              "281275      365259 2018-09-04  ...                  0          1\n",
              "281284      365269 2018-09-04  ...                  0          0\n",
              "\n",
              "[5 rows x 13 columns]"
            ]
          },
          "metadata": {
            "tags": []
          },
          "execution_count": 70
        }
      ]
    },
    {
      "cell_type": "code",
      "metadata": {
        "id": "ngsogNM4Kuq7",
        "colab_type": "code",
        "colab": {}
      },
      "source": [
        "pred_diff = df_test['pred_diff'].value_counts()"
      ],
      "execution_count": 0,
      "outputs": []
    },
    {
      "cell_type": "code",
      "metadata": {
        "id": "7Jo_zqiuKcfb",
        "colab_type": "code",
        "colab": {
          "base_uri": "https://localhost:8080/",
          "height": 35
        },
        "outputId": "76ae7ca8-accc-4a91-8b63-11d7afc5666f"
      },
      "source": [
        "print('전체 {}건의 데이터 중 {}건 예측'.format(y_pred.shape[0], pred_diff[0]))"
      ],
      "execution_count": 73,
      "outputs": [
        {
          "output_type": "stream",
          "text": [
            "전체 5319건의 데이터 중 4207건 예측\n"
          ],
          "name": "stdout"
        }
      ]
    },
    {
      "cell_type": "code",
      "metadata": {
        "id": "ycQ_tMGWKzuP",
        "colab_type": "code",
        "colab": {
          "base_uri": "https://localhost:8080/",
          "height": 35
        },
        "outputId": "6f8d2a6f-3554-491c-f75c-48f08cf8b67a"
      },
      "source": [
        "acc = (pred_diff[0] / y_pred.shape[0]) * 100\n",
        "print('예측 비율{}'.format(acc))"
      ],
      "execution_count": 74,
      "outputs": [
        {
          "output_type": "stream",
          "text": [
            "예측 비율79.09381462680956\n"
          ],
          "name": "stdout"
        }
      ]
    }
  ]
}